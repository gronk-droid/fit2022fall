{
 "cells": [
  {
   "cell_type": "code",
   "execution_count": null,
   "id": "42d6e865",
   "metadata": {},
   "outputs": [],
   "source": [
    "pip install pandas"
   ]
  },
  {
   "cell_type": "code",
   "execution_count": null,
   "id": "0a331bef",
   "metadata": {},
   "outputs": [],
   "source": [
    "pip install matplotlib"
   ]
  },
  {
   "cell_type": "code",
   "execution_count": 2,
   "id": "3dffce13",
   "metadata": {},
   "outputs": [],
   "source": [
    "# importing pandas as pd is a common practice\n",
    "import pandas as pd\n",
    "\n",
    "ted_main = pd.read_csv(\"data/ted_main.csv\")\n",
    "transcripts = pd.read_csv(\"data/transcripts.csv\")"
   ]
  },
  {
   "cell_type": "markdown",
   "id": "56fe9e50",
   "metadata": {},
   "source": [
    "- - -\n",
    "Getting the size of the datasets in terms of rows and columns"
   ]
  },
  {
   "cell_type": "code",
   "execution_count": 2,
   "id": "c9eb7d97",
   "metadata": {},
   "outputs": [
    {
     "data": {
      "text/plain": [
       "(2550, 17)"
      ]
     },
     "execution_count": 2,
     "metadata": {},
     "output_type": "execute_result"
    }
   ],
   "source": [
    "ted_main.shape"
   ]
  },
  {
   "cell_type": "code",
   "execution_count": null,
   "id": "a90970e7",
   "metadata": {},
   "outputs": [],
   "source": [
    "transcripts.shape"
   ]
  },
  {
   "cell_type": "markdown",
   "id": "6041f1e1",
   "metadata": {},
   "source": [
    " - - -\n",
    " Seeing the beginning of the data set with command `head()`"
   ]
  },
  {
   "cell_type": "code",
   "execution_count": null,
   "id": "236d6b58",
   "metadata": {},
   "outputs": [],
   "source": [
    "ted_main.head(2)"
   ]
  },
  {
   "cell_type": "code",
   "execution_count": null,
   "id": "5b001e92",
   "metadata": {},
   "outputs": [],
   "source": [
    "ted_main.url[0]"
   ]
  },
  {
   "cell_type": "markdown",
   "id": "640557b1",
   "metadata": {},
   "source": [
    "- - -\n",
    "`iloc[]` allows you to see a specific row of data"
   ]
  },
  {
   "cell_type": "code",
   "execution_count": null,
   "id": "517fa3be",
   "metadata": {
    "scrolled": true
   },
   "outputs": [],
   "source": [
    "ted_main.iloc[23]"
   ]
  },
  {
   "cell_type": "markdown",
   "id": "c31b03af",
   "metadata": {},
   "source": [
    "- - -\n",
    "finding the url field for the first 4 rows with function `iterrows()` in a for loop"
   ]
  },
  {
   "cell_type": "code",
   "execution_count": null,
   "id": "6a597929",
   "metadata": {},
   "outputs": [],
   "source": [
    "for i, row in ted_main.iterrows():\n",
    "    if i > 4:\n",
    "        break\n",
    "    print(row[\"url\"])"
   ]
  },
  {
   "cell_type": "markdown",
   "id": "458ba74f",
   "metadata": {},
   "source": [
    "- - -\n",
    "using `loc[]` to find the row with index 666.\n",
    "\n",
    "\n",
    "loc vs iloc\n",
    "\n",
    "`loc` gets rows/columns with particular labels from the index\n",
    "\n",
    "`iloc` gets rows/columns at a position in the index (only takes integers)"
   ]
  },
  {
   "cell_type": "code",
   "execution_count": null,
   "id": "477ac543",
   "metadata": {},
   "outputs": [],
   "source": [
    "# ted_main.loc[666, 'description']\n",
    "# ted_main.iloc[666]"
   ]
  },
  {
   "cell_type": "markdown",
   "id": "5a546be0",
   "metadata": {},
   "source": [
    "- - -\n",
    "`dtypes` gets the data types of the fields in the file"
   ]
  },
  {
   "cell_type": "code",
   "execution_count": null,
   "id": "e88abe04",
   "metadata": {
    "scrolled": false
   },
   "outputs": [],
   "source": [
    "ted_main.dtypes"
   ]
  },
  {
   "cell_type": "markdown",
   "id": "bb3682bc",
   "metadata": {},
   "source": [
    "- - -\n",
    "`describe()` shows statistics of the numerical fields in the set"
   ]
  },
  {
   "cell_type": "code",
   "execution_count": null,
   "id": "d86d123f",
   "metadata": {
    "scrolled": true
   },
   "outputs": [],
   "source": [
    "ted_main.describe()"
   ]
  },
  {
   "cell_type": "markdown",
   "id": "5e7e72b8",
   "metadata": {},
   "source": [
    "- - -\n",
    "### Extracting columns\n",
    "\n",
    "you can use a tuple to extract columns as such:"
   ]
  },
  {
   "cell_type": "code",
   "execution_count": null,
   "id": "4a4167de",
   "metadata": {},
   "outputs": [],
   "source": [
    "snapshot = [\"main_speaker\", \"speaker_occupation\"]\n",
    "ted_main[snapshot].head()"
   ]
  },
  {
   "cell_type": "markdown",
   "id": "47c287f7",
   "metadata": {},
   "source": [
    "- - -\n",
    "constraining data works like this:"
   ]
  },
  {
   "cell_type": "code",
   "execution_count": 5,
   "id": "e5800138",
   "metadata": {
    "scrolled": false
   },
   "outputs": [
    {
     "data": {
      "text/html": [
       "<div>\n",
       "<style scoped>\n",
       "    .dataframe tbody tr th:only-of-type {\n",
       "        vertical-align: middle;\n",
       "    }\n",
       "\n",
       "    .dataframe tbody tr th {\n",
       "        vertical-align: top;\n",
       "    }\n",
       "\n",
       "    .dataframe thead th {\n",
       "        text-align: right;\n",
       "    }\n",
       "</style>\n",
       "<table border=\"1\" class=\"dataframe\">\n",
       "  <thead>\n",
       "    <tr style=\"text-align: right;\">\n",
       "      <th></th>\n",
       "      <th>comments</th>\n",
       "      <th>description</th>\n",
       "      <th>duration</th>\n",
       "      <th>event</th>\n",
       "      <th>film_date</th>\n",
       "      <th>languages</th>\n",
       "      <th>main_speaker</th>\n",
       "      <th>name</th>\n",
       "      <th>num_speaker</th>\n",
       "      <th>published_date</th>\n",
       "      <th>ratings</th>\n",
       "      <th>related_talks</th>\n",
       "      <th>speaker_occupation</th>\n",
       "      <th>tags</th>\n",
       "      <th>title</th>\n",
       "      <th>url</th>\n",
       "      <th>views</th>\n",
       "    </tr>\n",
       "  </thead>\n",
       "  <tbody>\n",
       "    <tr>\n",
       "      <th>0</th>\n",
       "      <td>4553</td>\n",
       "      <td>Sir Ken Robinson makes an entertaining and pro...</td>\n",
       "      <td>1164</td>\n",
       "      <td>TED2006</td>\n",
       "      <td>1140825600</td>\n",
       "      <td>60</td>\n",
       "      <td>Ken Robinson</td>\n",
       "      <td>Ken Robinson: Do schools kill creativity?</td>\n",
       "      <td>1</td>\n",
       "      <td>1151367060</td>\n",
       "      <td>[{'id': 7, 'name': 'Funny', 'count': 19645}, {...</td>\n",
       "      <td>[{'id': 865, 'hero': 'https://pe.tedcdn.com/im...</td>\n",
       "      <td>Author/educator</td>\n",
       "      <td>['children', 'creativity', 'culture', 'dance',...</td>\n",
       "      <td>Do schools kill creativity?</td>\n",
       "      <td>https://www.ted.com/talks/ken_robinson_says_sc...</td>\n",
       "      <td>47227110</td>\n",
       "    </tr>\n",
       "    <tr>\n",
       "      <th>677</th>\n",
       "      <td>1930</td>\n",
       "      <td>Simon Sinek has a simple but powerful model fo...</td>\n",
       "      <td>1084</td>\n",
       "      <td>TEDxPuget Sound</td>\n",
       "      <td>1253145600</td>\n",
       "      <td>45</td>\n",
       "      <td>Simon Sinek</td>\n",
       "      <td>Simon Sinek: How great leaders inspire action</td>\n",
       "      <td>1</td>\n",
       "      <td>1272965460</td>\n",
       "      <td>[{'id': 21, 'name': 'Unconvincing', 'count': 9...</td>\n",
       "      <td>[{'id': 814, 'hero': 'https://pe.tedcdn.com/im...</td>\n",
       "      <td>Leadership expert</td>\n",
       "      <td>['TEDx', 'business', 'entrepreneur', 'leadersh...</td>\n",
       "      <td>How great leaders inspire action</td>\n",
       "      <td>https://www.ted.com/talks/simon_sinek_how_grea...</td>\n",
       "      <td>34309432</td>\n",
       "    </tr>\n",
       "    <tr>\n",
       "      <th>1346</th>\n",
       "      <td>2290</td>\n",
       "      <td>Body language affects how others see us, but i...</td>\n",
       "      <td>1262</td>\n",
       "      <td>TEDGlobal 2012</td>\n",
       "      <td>1340668800</td>\n",
       "      <td>51</td>\n",
       "      <td>Amy Cuddy</td>\n",
       "      <td>Amy Cuddy: Your body language may shape who yo...</td>\n",
       "      <td>1</td>\n",
       "      <td>1349103608</td>\n",
       "      <td>[{'id': 23, 'name': 'Jaw-dropping', 'count': 3...</td>\n",
       "      <td>[{'id': 605, 'hero': 'https://pe.tedcdn.com/im...</td>\n",
       "      <td>Social psychologist</td>\n",
       "      <td>['body language', 'brain', 'business', 'psycho...</td>\n",
       "      <td>Your body language may shape who you are</td>\n",
       "      <td>https://www.ted.com/talks/amy_cuddy_your_body_...</td>\n",
       "      <td>43155405</td>\n",
       "    </tr>\n",
       "  </tbody>\n",
       "</table>\n",
       "</div>"
      ],
      "text/plain": [
       "      comments                                        description  duration  \\\n",
       "0         4553  Sir Ken Robinson makes an entertaining and pro...      1164   \n",
       "677       1930  Simon Sinek has a simple but powerful model fo...      1084   \n",
       "1346      2290  Body language affects how others see us, but i...      1262   \n",
       "\n",
       "                 event   film_date  languages  main_speaker  \\\n",
       "0              TED2006  1140825600         60  Ken Robinson   \n",
       "677   TEDxPuget Sound   1253145600         45   Simon Sinek   \n",
       "1346    TEDGlobal 2012  1340668800         51     Amy Cuddy   \n",
       "\n",
       "                                                   name  num_speaker  \\\n",
       "0             Ken Robinson: Do schools kill creativity?            1   \n",
       "677       Simon Sinek: How great leaders inspire action            1   \n",
       "1346  Amy Cuddy: Your body language may shape who yo...            1   \n",
       "\n",
       "      published_date                                            ratings  \\\n",
       "0         1151367060  [{'id': 7, 'name': 'Funny', 'count': 19645}, {...   \n",
       "677       1272965460  [{'id': 21, 'name': 'Unconvincing', 'count': 9...   \n",
       "1346      1349103608  [{'id': 23, 'name': 'Jaw-dropping', 'count': 3...   \n",
       "\n",
       "                                          related_talks   speaker_occupation  \\\n",
       "0     [{'id': 865, 'hero': 'https://pe.tedcdn.com/im...      Author/educator   \n",
       "677   [{'id': 814, 'hero': 'https://pe.tedcdn.com/im...    Leadership expert   \n",
       "1346  [{'id': 605, 'hero': 'https://pe.tedcdn.com/im...  Social psychologist   \n",
       "\n",
       "                                                   tags  \\\n",
       "0     ['children', 'creativity', 'culture', 'dance',...   \n",
       "677   ['TEDx', 'business', 'entrepreneur', 'leadersh...   \n",
       "1346  ['body language', 'brain', 'business', 'psycho...   \n",
       "\n",
       "                                         title  \\\n",
       "0                  Do schools kill creativity?   \n",
       "677           How great leaders inspire action   \n",
       "1346  Your body language may shape who you are   \n",
       "\n",
       "                                                    url     views  \n",
       "0     https://www.ted.com/talks/ken_robinson_says_sc...  47227110  \n",
       "677   https://www.ted.com/talks/simon_sinek_how_grea...  34309432  \n",
       "1346  https://www.ted.com/talks/amy_cuddy_your_body_...  43155405  "
      ]
     },
     "execution_count": 5,
     "metadata": {},
     "output_type": "execute_result"
    }
   ],
   "source": [
    "constraint = ted_main[\"views\"]>31415926\n",
    "ted_main[constraint]\n",
    "# ted_main['views']"
   ]
  },
  {
   "cell_type": "markdown",
   "id": "7dd98c65",
   "metadata": {},
   "source": [
    "- - -\n",
    "count values with function `value_counts()`, then use `counts.value` or `counts.index` to access that data"
   ]
  },
  {
   "cell_type": "code",
   "execution_count": 7,
   "id": "e08e3473",
   "metadata": {},
   "outputs": [],
   "source": [
    "counts = ted_main[\"num_speaker\"].value_counts()"
   ]
  },
  {
   "cell_type": "code",
   "execution_count": null,
   "id": "6c2928e5",
   "metadata": {},
   "outputs": [],
   "source": [
    "counts.values"
   ]
  },
  {
   "cell_type": "code",
   "execution_count": null,
   "id": "aa5b47b5",
   "metadata": {},
   "outputs": [],
   "source": [
    "counts.index"
   ]
  },
  {
   "cell_type": "markdown",
   "id": "99cf21cc",
   "metadata": {},
   "source": [
    "- - -\n",
    "### Plotting\n",
    "\n",
    "<sub>*note that this uses the `matplotlib` package*</sub>\n",
    "\n",
    "plotting the `value_counts` data"
   ]
  },
  {
   "cell_type": "code",
   "execution_count": 8,
   "id": "64cc874a",
   "metadata": {
    "scrolled": false
   },
   "outputs": [
    {
     "data": {
      "image/png": "[encoded data removed]",
      "text/plain": [
       "<Figure size 640x480 with 1 Axes>"
      ]
     },
     "metadata": {},
     "output_type": "display_data"
    }
   ],
   "source": [
    "counts.plot(kind=\"bar\", title=\"Speaker Counts\");"
   ]
  },
  {
   "cell_type": "markdown",
   "id": "9483291c",
   "metadata": {},
   "source": [
    "- - -\n",
    "finding null values with `isnull()`\n",
    "\n",
    "<sub>*data must be the Python noneType (None) or NaN to be considered null in Pandas*</sub>"
   ]
  },
  {
   "cell_type": "code",
   "execution_count": null,
   "id": "6563c310",
   "metadata": {},
   "outputs": [],
   "source": [
    "ted_main.isnull().sum()"
   ]
  },
  {
   "cell_type": "markdown",
   "id": "e18da8f0",
   "metadata": {},
   "source": [
    "- - -\n",
    "replacing missing values"
   ]
  },
  {
   "cell_type": "code",
   "execution_count": null,
   "id": "9dbbdfa5",
   "metadata": {},
   "outputs": [],
   "source": [
    "temp = ted_main.fillna(\"Not specified\")\n",
    "temp2 = temp[temp[\"speaker_occupation\"] == \"Not specified\"]\n",
    "\n",
    "len(temp2)"
   ]
  },
  {
   "cell_type": "markdown",
   "id": "a64e2c39",
   "metadata": {},
   "source": [
    "- - -\n",
    "dropping rows with missing values"
   ]
  },
  {
   "cell_type": "code",
   "execution_count": null,
   "id": "57dc406d",
   "metadata": {},
   "outputs": [],
   "source": [
    "ted_main.shape"
   ]
  },
  {
   "cell_type": "code",
   "execution_count": null,
   "id": "efc412e9",
   "metadata": {},
   "outputs": [],
   "source": [
    "ted_main.dropna(how='any', inplace=True)"
   ]
  },
  {
   "cell_type": "code",
   "execution_count": null,
   "id": "ebce155e",
   "metadata": {},
   "outputs": [],
   "source": [
    "ted_main.shape"
   ]
  },
  {
   "cell_type": "markdown",
   "id": "961ace98",
   "metadata": {},
   "source": [
    "- - -\n",
    "change data types"
   ]
  },
  {
   "cell_type": "code",
   "execution_count": 3,
   "id": "ace64d02",
   "metadata": {},
   "outputs": [
    {
     "data": {
      "text/plain": [
       "\"[{'id': 7, 'name': 'Funny', 'count': 19645}, {'id': 1, 'name': 'Beautiful', 'count': 4573}, {'id': 9, 'name': 'Ingenious', 'count': 6073}, {'id': 3, 'name': 'Courageous', 'count': 3253}, {'id': 11, 'name': 'Longwinded', 'count': 387}, {'id': 2, 'name': 'Confusing', 'count': 242}, {'id': 8, 'name': 'Informative', 'count': 7346}, {'id': 22, 'name': 'Fascinating', 'count': 10581}, {'id': 21, 'name': 'Unconvincing', 'count': 300}, {'id': 24, 'name': 'Persuasive', 'count': 10704}, {'id': 23, 'name': 'Jaw-dropping', 'count': 4439}, {'id': 25, 'name': 'OK', 'count': 1174}, {'id': 26, 'name': 'Obnoxious', 'count': 209}, {'id': 10, 'name': 'Inspiring', 'count': 24924}]\""
      ]
     },
     "execution_count": 3,
     "metadata": {},
     "output_type": "execute_result"
    }
   ],
   "source": [
    "ted_main[\"ratings\"].iloc[0]"
   ]
  },
  {
   "cell_type": "code",
   "execution_count": null,
   "id": "e4c4c59c",
   "metadata": {},
   "outputs": [],
   "source": [
    "ted_main[\"film_date\"].iloc[0]"
   ]
  },
  {
   "cell_type": "code",
   "execution_count": null,
   "id": "8c9d55bc",
   "metadata": {},
   "outputs": [],
   "source": [
    "ted_main[\"published_date\"].iloc[0]"
   ]
  },
  {
   "cell_type": "code",
   "execution_count": 4,
   "id": "3c8e36ae",
   "metadata": {},
   "outputs": [
    {
     "data": {
      "text/plain": [
       "\"[{'id': 23, 'name': 'Jaw-dropping', 'count': 187}, {'id': 1, 'name': 'Beautiful', 'count': 223}, {'id': 22, 'name': 'Fascinating', 'count': 353}, {'id': 8, 'name': 'Informative', 'count': 196}, {'id': 25, 'name': 'OK', 'count': 15}, {'id': 9, 'name': 'Ingenious', 'count': 69}, {'id': 11, 'name': 'Longwinded', 'count': 10}, {'id': 10, 'name': 'Inspiring', 'count': 130}, {'id': 3, 'name': 'Courageous', 'count': 16}, {'id': 24, 'name': 'Persuasive', 'count': 35}, {'id': 7, 'name': 'Funny', 'count': 16}, {'id': 26, 'name': 'Obnoxious', 'count': 1}, {'id': 21, 'name': 'Unconvincing', 'count': 3}, {'id': 2, 'name': 'Confusing', 'count': 0}]\""
      ]
     },
     "execution_count": 4,
     "metadata": {},
     "output_type": "execute_result"
    }
   ],
   "source": [
    "ted_main.loc[666][\"ratings\"]"
   ]
  },
  {
   "cell_type": "code",
   "execution_count": 17,
   "id": "610ea422",
   "metadata": {
    "scrolled": true
   },
   "outputs": [
    {
     "data": {
      "text/html": [
       "<div>\n",
       "<style scoped>\n",
       "    .dataframe tbody tr th:only-of-type {\n",
       "        vertical-align: middle;\n",
       "    }\n",
       "\n",
       "    .dataframe tbody tr th {\n",
       "        vertical-align: top;\n",
       "    }\n",
       "\n",
       "    .dataframe thead th {\n",
       "        text-align: right;\n",
       "    }\n",
       "</style>\n",
       "<table border=\"1\" class=\"dataframe\">\n",
       "  <thead>\n",
       "    <tr style=\"text-align: right;\">\n",
       "      <th></th>\n",
       "      <th>comments</th>\n",
       "      <th>description</th>\n",
       "      <th>duration</th>\n",
       "      <th>event</th>\n",
       "      <th>film_date</th>\n",
       "      <th>languages</th>\n",
       "      <th>main_speaker</th>\n",
       "      <th>name</th>\n",
       "      <th>num_speaker</th>\n",
       "      <th>published_date</th>\n",
       "      <th>ratings</th>\n",
       "      <th>related_talks</th>\n",
       "      <th>speaker_occupation</th>\n",
       "      <th>tags</th>\n",
       "      <th>title</th>\n",
       "      <th>url</th>\n",
       "      <th>views</th>\n",
       "    </tr>\n",
       "  </thead>\n",
       "  <tbody>\n",
       "    <tr>\n",
       "      <th>0</th>\n",
       "      <td>4553</td>\n",
       "      <td>Sir Ken Robinson makes an entertaining and pro...</td>\n",
       "      <td>1164</td>\n",
       "      <td>TED2006</td>\n",
       "      <td>2006-02-25</td>\n",
       "      <td>60</td>\n",
       "      <td>Ken Robinson</td>\n",
       "      <td>Ken Robinson: Do schools kill creativity?</td>\n",
       "      <td>1</td>\n",
       "      <td>2006-06-27 00:11:00</td>\n",
       "      <td>[{'id': 7, 'name': 'Funny', 'count': 19645}, {...</td>\n",
       "      <td>[{'id': 865, 'hero': 'https://pe.tedcdn.com/im...</td>\n",
       "      <td>Author/educator</td>\n",
       "      <td>[children, creativity, culture, dance, educati...</td>\n",
       "      <td>Do schools kill creativity?</td>\n",
       "      <td>https://www.ted.com/talks/ken_robinson_says_sc...</td>\n",
       "      <td>47227110</td>\n",
       "    </tr>\n",
       "    <tr>\n",
       "      <th>1</th>\n",
       "      <td>265</td>\n",
       "      <td>With the same humor and humanity he exuded in ...</td>\n",
       "      <td>977</td>\n",
       "      <td>TED2006</td>\n",
       "      <td>2006-02-25</td>\n",
       "      <td>43</td>\n",
       "      <td>Al Gore</td>\n",
       "      <td>Al Gore: Averting the climate crisis</td>\n",
       "      <td>1</td>\n",
       "      <td>2006-06-27 00:11:00</td>\n",
       "      <td>[{'id': 7, 'name': 'Funny', 'count': 544}, {'i...</td>\n",
       "      <td>[{'id': 243, 'hero': 'https://pe.tedcdn.com/im...</td>\n",
       "      <td>Climate advocate</td>\n",
       "      <td>[alternative energy, cars, climate change, cul...</td>\n",
       "      <td>Averting the climate crisis</td>\n",
       "      <td>https://www.ted.com/talks/al_gore_on_averting_...</td>\n",
       "      <td>3200520</td>\n",
       "    </tr>\n",
       "    <tr>\n",
       "      <th>2</th>\n",
       "      <td>124</td>\n",
       "      <td>New York Times columnist David Pogue takes aim...</td>\n",
       "      <td>1286</td>\n",
       "      <td>TED2006</td>\n",
       "      <td>2006-02-24</td>\n",
       "      <td>26</td>\n",
       "      <td>David Pogue</td>\n",
       "      <td>David Pogue: Simplicity sells</td>\n",
       "      <td>1</td>\n",
       "      <td>2006-06-27 00:11:00</td>\n",
       "      <td>[{'id': 7, 'name': 'Funny', 'count': 964}, {'i...</td>\n",
       "      <td>[{'id': 1725, 'hero': 'https://pe.tedcdn.com/i...</td>\n",
       "      <td>Technology columnist</td>\n",
       "      <td>[computers, entertainment, interface design, m...</td>\n",
       "      <td>Simplicity sells</td>\n",
       "      <td>https://www.ted.com/talks/david_pogue_says_sim...</td>\n",
       "      <td>1636292</td>\n",
       "    </tr>\n",
       "  </tbody>\n",
       "</table>\n",
       "</div>"
      ],
      "text/plain": [
       "   comments                                        description  duration  \\\n",
       "0      4553  Sir Ken Robinson makes an entertaining and pro...      1164   \n",
       "1       265  With the same humor and humanity he exuded in ...       977   \n",
       "2       124  New York Times columnist David Pogue takes aim...      1286   \n",
       "\n",
       "     event  film_date  languages  main_speaker  \\\n",
       "0  TED2006 2006-02-25         60  Ken Robinson   \n",
       "1  TED2006 2006-02-25         43       Al Gore   \n",
       "2  TED2006 2006-02-24         26   David Pogue   \n",
       "\n",
       "                                        name  num_speaker      published_date  \\\n",
       "0  Ken Robinson: Do schools kill creativity?            1 2006-06-27 00:11:00   \n",
       "1       Al Gore: Averting the climate crisis            1 2006-06-27 00:11:00   \n",
       "2              David Pogue: Simplicity sells            1 2006-06-27 00:11:00   \n",
       "\n",
       "                                             ratings  \\\n",
       "0  [{'id': 7, 'name': 'Funny', 'count': 19645}, {...   \n",
       "1  [{'id': 7, 'name': 'Funny', 'count': 544}, {'i...   \n",
       "2  [{'id': 7, 'name': 'Funny', 'count': 964}, {'i...   \n",
       "\n",
       "                                       related_talks    speaker_occupation  \\\n",
       "0  [{'id': 865, 'hero': 'https://pe.tedcdn.com/im...       Author/educator   \n",
       "1  [{'id': 243, 'hero': 'https://pe.tedcdn.com/im...      Climate advocate   \n",
       "2  [{'id': 1725, 'hero': 'https://pe.tedcdn.com/i...  Technology columnist   \n",
       "\n",
       "                                                tags  \\\n",
       "0  [children, creativity, culture, dance, educati...   \n",
       "1  [alternative energy, cars, climate change, cul...   \n",
       "2  [computers, entertainment, interface design, m...   \n",
       "\n",
       "                         title  \\\n",
       "0  Do schools kill creativity?   \n",
       "1  Averting the climate crisis   \n",
       "2             Simplicity sells   \n",
       "\n",
       "                                                 url     views  \n",
       "0  https://www.ted.com/talks/ken_robinson_says_sc...  47227110  \n",
       "1  https://www.ted.com/talks/al_gore_on_averting_...   3200520  \n",
       "2  https://www.ted.com/talks/david_pogue_says_sim...   1636292  "
      ]
     },
     "execution_count": 17,
     "metadata": {},
     "output_type": "execute_result"
    }
   ],
   "source": [
    "from ast import literal_eval\n",
    "\n",
    "# ted_main['ratings'] = ted_main['ratings'].apply(literal_eval)\n",
    "ted_main['ratings'] = ted_main['ratings'].apply(lambda x: literal_eval(str(x)))\n",
    "\n",
    "ted_main['related_talks'] = ted_main['related_talks'].apply(lambda x: literal_eval(str(x)))\n",
    "\n",
    "ted_main['tags'] = ted_main['tags'].apply(lambda x: literal_eval(str(x)))\n",
    "\n",
    "ted_main['film_date'] = pd.to_datetime(ted_main['film_date'], unit='s')\n",
    "ted_main['published_date'] = pd.to_datetime(ted_main['published_date'], unit='s')\n",
    "\n",
    "ted_main['film_date'][666]\n",
    "\n",
    "ted_main.head(3)"
   ]
  },
  {
   "cell_type": "code",
   "execution_count": 18,
   "id": "018f5904",
   "metadata": {},
   "outputs": [
    {
     "data": {
      "text/plain": [
       "'https://www.ted.com/talks/ken_robinson_says_schools_kill_creativity\\n'"
      ]
     },
     "execution_count": 18,
     "metadata": {},
     "output_type": "execute_result"
    }
   ],
   "source": [
    "ted_main.loc[ted_main['languages'] == 0, 'languages'] = 1\n",
    "ted_main['url'].iloc[0]"
   ]
  },
  {
   "cell_type": "code",
   "execution_count": 19,
   "id": "42a5a7bc",
   "metadata": {},
   "outputs": [
    {
     "data": {
      "text/plain": [
       "'https://www.ted.com/talks/ken_robinson_says_schools_kill_creativity'"
      ]
     },
     "execution_count": 19,
     "metadata": {},
     "output_type": "execute_result"
    }
   ],
   "source": [
    "ted_main['url'] = ted_main['url'].apply(lambda x: x.replace('\\n', ''))\n",
    "ted_main['url'].iloc[0]"
   ]
  },
  {
   "cell_type": "markdown",
   "id": "b1922eef",
   "metadata": {},
   "source": [
    "- - -\n",
    "Using functions to clean data"
   ]
  },
  {
   "cell_type": "code",
   "execution_count": 21,
   "id": "34dd0c30",
   "metadata": {},
   "outputs": [],
   "source": [
    "def remove_speaker_name(row):\n",
    "    return row['name'].replace(\"%s:\" % row['main_speaker'], '').strip()\n",
    "\n",
    "ted_main['name'] = ted_main.apply(remove_speaker_name, axis=1)"
   ]
  }
 ],
 "metadata": {
  "kernelspec": {
   "display_name": "Python 3 (ipykernel)",
   "language": "python",
   "name": "python3"
  },
  "language_info": {
   "codemirror_mode": {
    "name": "ipython",
    "version": 3
   },
   "file_extension": ".py",
   "mimetype": "text/x-python",
   "name": "python",
   "nbconvert_exporter": "python",
   "pygments_lexer": "ipython3",
   "version": "3.9.13"
  }
 },
 "nbformat": 4,
 "nbformat_minor": 5
}
