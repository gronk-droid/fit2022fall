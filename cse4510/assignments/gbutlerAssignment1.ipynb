{
 "cells": [
  {
   "cell_type": "markdown",
   "id": "de21b085",
   "metadata": {},
   "source": [
    "# CSE4510 Activity 1\n",
    "Grant Butler | Pandas EDA"
   ]
  },
  {
   "cell_type": "code",
   "execution_count": 1,
   "id": "cd735aa6",
   "metadata": {},
   "outputs": [],
   "source": [
    "import pandas as pd"
   ]
  },
  {
   "cell_type": "markdown",
   "id": "ad082d55",
   "metadata": {},
   "source": [
    "### Question 1:\n",
    "##### a. Loading the dataset using pandas"
   ]
  },
  {
   "cell_type": "code",
   "execution_count": 2,
   "id": "530432d5",
   "metadata": {},
   "outputs": [],
   "source": [
    "# 1a.\n",
    "brooklyn = pd.read_csv(\"data/rollingsales_brooklyn.csv\", skiprows = 4) \n",
    "# first four rows of data had info that was messing up the information"
   ]
  },
  {
   "cell_type": "markdown",
   "id": "cb52ba2f",
   "metadata": {},
   "source": [
    "##### b. Display shape of data"
   ]
  },
  {
   "cell_type": "code",
   "execution_count": 3,
   "id": "459619ce",
   "metadata": {},
   "outputs": [
    {
     "data": {
      "text/plain": [
       "(23373, 21)"
      ]
     },
     "execution_count": 3,
     "metadata": {},
     "output_type": "execute_result"
    }
   ],
   "source": [
    "# 1b.\n",
    "brooklyn.shape"
   ]
  },
  {
   "cell_type": "markdown",
   "id": "bd97154c",
   "metadata": {},
   "source": [
    "##### c. Display the first 2 rows"
   ]
  },
  {
   "cell_type": "code",
   "execution_count": 4,
   "id": "7321f6be",
   "metadata": {},
   "outputs": [
    {
     "data": {
      "text/html": [
       "<div>\n",
       "<style scoped>\n",
       "    .dataframe tbody tr th:only-of-type {\n",
       "        vertical-align: middle;\n",
       "    }\n",
       "\n",
       "    .dataframe tbody tr th {\n",
       "        vertical-align: top;\n",
       "    }\n",
       "\n",
       "    .dataframe thead th {\n",
       "        text-align: right;\n",
       "    }\n",
       "</style>\n",
       "<table border=\"1\" class=\"dataframe\">\n",
       "  <thead>\n",
       "    <tr style=\"text-align: right;\">\n",
       "      <th></th>\n",
       "      <th>BOROUGH</th>\n",
       "      <th>NEIGHBORHOOD</th>\n",
       "      <th>BUILDING CLASS CATEGORY</th>\n",
       "      <th>TAX CLASS AT PRESENT</th>\n",
       "      <th>BLOCK</th>\n",
       "      <th>LOT</th>\n",
       "      <th>EASE-MENT</th>\n",
       "      <th>BUILDING CLASS AT PRESENT</th>\n",
       "      <th>ADDRESS</th>\n",
       "      <th>APART\\nMENT\\nNUMBER</th>\n",
       "      <th>...</th>\n",
       "      <th>RESIDENTIAL UNITS</th>\n",
       "      <th>COMMERCIAL UNITS</th>\n",
       "      <th>TOTAL UNITS</th>\n",
       "      <th>LAND SQUARE FEET</th>\n",
       "      <th>GROSS SQUARE FEET</th>\n",
       "      <th>YEAR BUILT</th>\n",
       "      <th>TAX CLASS AT TIME OF SALE</th>\n",
       "      <th>BUILDING CLASS AT TIME OF SALE</th>\n",
       "      <th>SALE\\nPRICE</th>\n",
       "      <th>SALE DATE</th>\n",
       "    </tr>\n",
       "  </thead>\n",
       "  <tbody>\n",
       "    <tr>\n",
       "      <th>0</th>\n",
       "      <td>3</td>\n",
       "      <td></td>\n",
       "      <td>15  CONDOS - 2-10 UNIT RESIDENTIAL</td>\n",
       "      <td></td>\n",
       "      <td>814</td>\n",
       "      <td>1103</td>\n",
       "      <td></td>\n",
       "      <td></td>\n",
       "      <td>342 53RD    STREET</td>\n",
       "      <td></td>\n",
       "      <td>...</td>\n",
       "      <td>0</td>\n",
       "      <td>0</td>\n",
       "      <td>0</td>\n",
       "      <td>0</td>\n",
       "      <td>0</td>\n",
       "      <td>0</td>\n",
       "      <td>2</td>\n",
       "      <td>R1</td>\n",
       "      <td>$403,572</td>\n",
       "      <td>7/9/13</td>\n",
       "    </tr>\n",
       "    <tr>\n",
       "      <th>1</th>\n",
       "      <td>3</td>\n",
       "      <td></td>\n",
       "      <td>15  CONDOS - 2-10 UNIT RESIDENTIAL</td>\n",
       "      <td></td>\n",
       "      <td>814</td>\n",
       "      <td>1105</td>\n",
       "      <td></td>\n",
       "      <td></td>\n",
       "      <td>342 53RD    STREET</td>\n",
       "      <td></td>\n",
       "      <td>...</td>\n",
       "      <td>0</td>\n",
       "      <td>0</td>\n",
       "      <td>0</td>\n",
       "      <td>0</td>\n",
       "      <td>0</td>\n",
       "      <td>0</td>\n",
       "      <td>2</td>\n",
       "      <td>R1</td>\n",
       "      <td>$218,010</td>\n",
       "      <td>7/12/13</td>\n",
       "    </tr>\n",
       "  </tbody>\n",
       "</table>\n",
       "<p>2 rows × 21 columns</p>\n",
       "</div>"
      ],
      "text/plain": [
       "   BOROUGH               NEIGHBORHOOD  \\\n",
       "0        3                              \n",
       "1        3                              \n",
       "\n",
       "                        BUILDING CLASS CATEGORY TAX CLASS AT PRESENT  BLOCK  \\\n",
       "0  15  CONDOS - 2-10 UNIT RESIDENTIAL                                   814   \n",
       "1  15  CONDOS - 2-10 UNIT RESIDENTIAL                                   814   \n",
       "\n",
       "    LOT EASE-MENT BUILDING CLASS AT PRESENT  \\\n",
       "0  1103                                       \n",
       "1  1105                                       \n",
       "\n",
       "                                       ADDRESS APART\\nMENT\\nNUMBER  ...  \\\n",
       "0   342 53RD    STREET                                              ...   \n",
       "1   342 53RD    STREET                                              ...   \n",
       "\n",
       "   RESIDENTIAL UNITS  COMMERCIAL UNITS  TOTAL UNITS  LAND SQUARE FEET  \\\n",
       "0                  0                 0            0                 0   \n",
       "1                  0                 0            0                 0   \n",
       "\n",
       "  GROSS SQUARE FEET YEAR BUILT  TAX CLASS AT TIME OF SALE  \\\n",
       "0                 0          0                          2   \n",
       "1                 0          0                          2   \n",
       "\n",
       "   BUILDING CLASS AT TIME OF SALE SALE\\nPRICE SALE DATE  \n",
       "0                             R1     $403,572    7/9/13  \n",
       "1                             R1     $218,010   7/12/13  \n",
       "\n",
       "[2 rows x 21 columns]"
      ]
     },
     "execution_count": 4,
     "metadata": {},
     "output_type": "execute_result"
    }
   ],
   "source": [
    "# 1c.\n",
    "brooklyn.head(2)"
   ]
  },
  {
   "cell_type": "markdown",
   "id": "95d5262c",
   "metadata": {},
   "source": [
    "##### d. Display row 14"
   ]
  },
  {
   "cell_type": "code",
   "execution_count": 5,
   "id": "afeda26d",
   "metadata": {},
   "outputs": [
    {
     "data": {
      "text/plain": [
       "BOROUGH                                                                      3\n",
       "NEIGHBORHOOD                                         BATH BEACH               \n",
       "BUILDING CLASS CATEGORY                                                       \n",
       "TAX CLASS AT PRESENT                                                         4\n",
       "BLOCK                                                                     6370\n",
       "LOT                                                                       1321\n",
       "EASE-MENT                                                                     \n",
       "BUILDING CLASS AT PRESENT                                                   RP\n",
       "ADDRESS                             98 BAY 20TH   STREET                      \n",
       "APART\\nMENT\\nNUMBER                                               P1          \n",
       "ZIP CODE                                                                 11214\n",
       "RESIDENTIAL UNITS                                                            0\n",
       "COMMERCIAL UNITS                                                             0\n",
       "TOTAL UNITS                                                                  1\n",
       "LAND SQUARE FEET                                                             0\n",
       "GROSS SQUARE FEET                                                            0\n",
       "YEAR BUILT                                                                2011\n",
       "TAX CLASS AT TIME OF SALE                                                    4\n",
       "BUILDING CLASS AT TIME OF SALE                                             RP \n",
       "SALE\\nPRICE                                                                 $0\n",
       "SALE DATE                                                              12/7/12\n",
       "Name: 14, dtype: object"
      ]
     },
     "execution_count": 5,
     "metadata": {},
     "output_type": "execute_result"
    }
   ],
   "source": [
    "# 1d. \n",
    "brooklyn.iloc[14]"
   ]
  },
  {
   "cell_type": "markdown",
   "id": "2bf614eb",
   "metadata": {},
   "source": [
    "- - -"
   ]
  },
  {
   "cell_type": "markdown",
   "id": "0fb03216",
   "metadata": {},
   "source": [
    "### Question 2:\n",
    "##### a. Converting column names to lower case"
   ]
  },
  {
   "cell_type": "code",
   "execution_count": 6,
   "id": "f33615e5",
   "metadata": {},
   "outputs": [],
   "source": [
    "brooklyn.columns = [x.lower() for x in brooklyn.columns.tolist()]"
   ]
  },
  {
   "cell_type": "markdown",
   "id": "20b66552",
   "metadata": {},
   "source": [
    "##### b. Replace the '\\n' in the column names with space"
   ]
  },
  {
   "cell_type": "code",
   "execution_count": 7,
   "id": "c7f13ed5",
   "metadata": {},
   "outputs": [],
   "source": [
    "brooklyn.columns = [x.replace('\\n', ' ') for x in brooklyn.columns.tolist()]"
   ]
  },
  {
   "cell_type": "markdown",
   "id": "47abe758",
   "metadata": {},
   "source": [
    "##### c. Replace the spaces in the names with underscores"
   ]
  },
  {
   "cell_type": "code",
   "execution_count": 8,
   "id": "c954e5a7",
   "metadata": {},
   "outputs": [],
   "source": [
    "brooklyn.columns = [x.replace(' ', '_') for x in brooklyn.columns.tolist()]"
   ]
  },
  {
   "cell_type": "markdown",
   "id": "2f02d506",
   "metadata": {},
   "source": [
    "##### d. Display row 14 again to see the changes"
   ]
  },
  {
   "cell_type": "code",
   "execution_count": 9,
   "id": "ca5da476",
   "metadata": {},
   "outputs": [
    {
     "data": {
      "text/plain": [
       "borough                                                                      3\n",
       "neighborhood                                         BATH BEACH               \n",
       "building_class_category                                                       \n",
       "tax_class_at_present                                                         4\n",
       "block                                                                     6370\n",
       "lot                                                                       1321\n",
       "ease-ment                                                                     \n",
       "building_class_at_present                                                   RP\n",
       "address                             98 BAY 20TH   STREET                      \n",
       "apart_ment_number                                                 P1          \n",
       "zip_code                                                                 11214\n",
       "residential_units                                                            0\n",
       "commercial_units                                                             0\n",
       "total_units                                                                  1\n",
       "land_square_feet                                                             0\n",
       "gross_square_feet                                                            0\n",
       "year_built                                                                2011\n",
       "tax_class_at_time_of_sale                                                    4\n",
       "building_class_at_time_of_sale                                             RP \n",
       "sale_price                                                                  $0\n",
       "sale_date                                                              12/7/12\n",
       "Name: 14, dtype: object"
      ]
     },
     "execution_count": 9,
     "metadata": {},
     "output_type": "execute_result"
    }
   ],
   "source": [
    "brooklyn.iloc[14]"
   ]
  },
  {
   "cell_type": "markdown",
   "id": "0648a05f",
   "metadata": {},
   "source": [
    "- - -"
   ]
  },
  {
   "cell_type": "markdown",
   "id": "2446c9e7",
   "metadata": {},
   "source": [
    "### Question 3:\n",
    "##### Convert field `sale_price` to numeric."
   ]
  },
  {
   "cell_type": "code",
   "execution_count": 10,
   "id": "6634dd52",
   "metadata": {},
   "outputs": [],
   "source": [
    "import re\n",
    "\n",
    "# remove_things = [x.replace('$', '') for x in brooklyn['sale_price'].tolist()]\n",
    "# final = [x.replace(',', '') for x in remove_things]\n",
    "\n",
    "# easier with regular expression crutch ( ಡ益ಡ)\n",
    "# brooklyn['sale_price']\n",
    "\n",
    "brooklyn['sale_price'] = [re.sub('[^0-9]', '', x) for x in brooklyn['sale_price']]\n",
    "\n",
    "              \n",
    "brooklyn['sale_price'] = brooklyn['sale_price'].astype('int') # changing the actual data type"
   ]
  },
  {
   "cell_type": "markdown",
   "id": "85aea0f2",
   "metadata": {},
   "source": [
    "Quick Question:\n",
    "\n",
    "I am a bit confused why this didn't work to convert the column.\n",
    "\n",
    "```py\n",
    "pd.to_numeric(brooklyn['sale_price'])\n",
    "```\n",
    "\n",
    "When I tried to use this and then tried to do question 4, I would keep getting an error that said the comparison was between a str and an int, despite me double checking that the dtype was definitely int64. I'm not sure why that is, since there were no errors when using the `to_numeric` function since all of the fields were numbers. Do you have any insight as to why?\n",
    "- - -"
   ]
  },
  {
   "cell_type": "markdown",
   "id": "6275ad25",
   "metadata": {},
   "source": [
    "### Quesiton 4:\n",
    "##### Display count of missing sale prices"
   ]
  },
  {
   "cell_type": "code",
   "execution_count": 11,
   "id": "4fd96a46",
   "metadata": {},
   "outputs": [
    {
     "name": "stdout",
     "output_type": "stream",
     "text": [
      "8791\n"
     ]
    }
   ],
   "source": [
    "# getting constraint of the rows that are zero in field 'sale_price'\n",
    "missing_sale = brooklyn['sale_price']<1\n",
    "\n",
    "# getting the count and printing it\n",
    "count = brooklyn[missing_sale].value_counts().sum() \n",
    "\n",
    "print(count)"
   ]
  },
  {
   "cell_type": "markdown",
   "id": "a31d627f",
   "metadata": {},
   "source": [
    "- - -"
   ]
  },
  {
   "cell_type": "markdown",
   "id": "27aa36a3",
   "metadata": {},
   "source": [
    "### Question 5:\n",
    "##### Convert `land_square_feet` to numeric"
   ]
  },
  {
   "cell_type": "code",
   "execution_count": 12,
   "id": "5bab932d",
   "metadata": {},
   "outputs": [],
   "source": [
    "# removing anything that is not a number\n",
    "brooklyn['land_square_feet'] = [re.sub('[^0-9]', '', x) for x in brooklyn['land_square_feet']]\n",
    "\n",
    "# converting to integers\n",
    "brooklyn['land_square_feet'] = brooklyn['land_square_feet'].astype('int')"
   ]
  },
  {
   "cell_type": "markdown",
   "id": "5bdbe2fa",
   "metadata": {},
   "source": [
    "- - -"
   ]
  },
  {
   "cell_type": "markdown",
   "id": "981bd4a5",
   "metadata": {},
   "source": [
    "### Question 6:\n",
    "##### Converting `gross_square_feet` to numeric"
   ]
  },
  {
   "cell_type": "code",
   "execution_count": 13,
   "id": "f8235e2d",
   "metadata": {},
   "outputs": [],
   "source": [
    "brooklyn['gross_square_feet'] = [re.sub('[^0-9]', '', x) for x in brooklyn['gross_square_feet']]\n",
    "brooklyn['gross_square_feet'] = brooklyn['gross_square_feet'].astype('int')"
   ]
  },
  {
   "cell_type": "markdown",
   "id": "2b122b15",
   "metadata": {},
   "source": [
    "##### Converting `sale_date` to datetime"
   ]
  },
  {
   "cell_type": "code",
   "execution_count": 14,
   "id": "c44ffa38",
   "metadata": {},
   "outputs": [
    {
     "data": {
      "text/plain": [
       "0       2013-07-09\n",
       "1       2013-07-12\n",
       "2       2013-04-25\n",
       "3       2013-04-25\n",
       "4       2013-04-25\n",
       "           ...    \n",
       "23368   2013-01-17\n",
       "23369   2013-01-17\n",
       "23370   2012-12-28\n",
       "23371   2013-04-17\n",
       "23372   2012-12-14\n",
       "Name: sale_date, Length: 23373, dtype: datetime64[ns]"
      ]
     },
     "execution_count": 14,
     "metadata": {},
     "output_type": "execute_result"
    }
   ],
   "source": [
    "pd.to_datetime(brooklyn['sale_date'])"
   ]
  },
  {
   "cell_type": "markdown",
   "id": "57119070",
   "metadata": {},
   "source": [
    "##### Converting `year_built` to numeric"
   ]
  },
  {
   "cell_type": "code",
   "execution_count": 15,
   "id": "ca177bb0",
   "metadata": {},
   "outputs": [],
   "source": [
    "brooklyn['year_built'] = brooklyn['year_built'].astype('int32')"
   ]
  },
  {
   "cell_type": "markdown",
   "id": "e277cb7e",
   "metadata": {},
   "source": [
    "##### Converting `zip_code` to string"
   ]
  },
  {
   "cell_type": "code",
   "execution_count": 16,
   "id": "709e2d2a",
   "metadata": {},
   "outputs": [],
   "source": [
    "brooklyn['zip_code'] = brooklyn['zip_code'].astype('str')"
   ]
  },
  {
   "cell_type": "markdown",
   "id": "ba6e448c",
   "metadata": {},
   "source": [
    "##### Displaying dtypes"
   ]
  },
  {
   "cell_type": "code",
   "execution_count": 17,
   "id": "1d339c48",
   "metadata": {},
   "outputs": [
    {
     "data": {
      "text/plain": [
       "borough                            int64\n",
       "neighborhood                      object\n",
       "building_class_category           object\n",
       "tax_class_at_present              object\n",
       "block                              int64\n",
       "lot                                int64\n",
       "ease-ment                         object\n",
       "building_class_at_present         object\n",
       "address                           object\n",
       "apart_ment_number                 object\n",
       "zip_code                          object\n",
       "residential_units                  int64\n",
       "commercial_units                   int64\n",
       "total_units                        int64\n",
       "land_square_feet                   int64\n",
       "gross_square_feet                  int64\n",
       "year_built                         int32\n",
       "tax_class_at_time_of_sale          int64\n",
       "building_class_at_time_of_sale    object\n",
       "sale_price                         int64\n",
       "sale_date                         object\n",
       "dtype: object"
      ]
     },
     "execution_count": 17,
     "metadata": {},
     "output_type": "execute_result"
    }
   ],
   "source": [
    "brooklyn.dtypes"
   ]
  },
  {
   "cell_type": "markdown",
   "id": "6571299a",
   "metadata": {},
   "source": [
    "- - -"
   ]
  },
  {
   "cell_type": "markdown",
   "id": "5cc5021b",
   "metadata": {},
   "source": [
    "### Question 7:\n",
    "##### Changing `EAST/WEST` to `E/W` for each address"
   ]
  },
  {
   "cell_type": "code",
   "execution_count": 18,
   "id": "26808c0b",
   "metadata": {},
   "outputs": [],
   "source": [
    "brooklyn['address'] = [x.replace('EAST', 'E') for x in brooklyn['address']]\n",
    "brooklyn['address'] = [x.replace('WEST', 'W') for x in brooklyn['address']]"
   ]
  },
  {
   "cell_type": "markdown",
   "id": "628e870e",
   "metadata": {},
   "source": [
    "- - -"
   ]
  },
  {
   "cell_type": "markdown",
   "id": "d356f7b7",
   "metadata": {},
   "source": [
    "### Question 8:\n",
    "##### Changing `STREET/AVENUE` to `ST/AVE` in each address"
   ]
  },
  {
   "cell_type": "code",
   "execution_count": 19,
   "id": "7d33f0bf",
   "metadata": {},
   "outputs": [],
   "source": [
    "brooklyn['address'] = [x.replace('STREET', 'ST') for x in brooklyn['address']]\n",
    "brooklyn['address'] = [x.replace('AVENUE', 'AVE') for x in brooklyn['address']]"
   ]
  },
  {
   "cell_type": "markdown",
   "id": "786b8943",
   "metadata": {},
   "source": [
    "- - -"
   ]
  },
  {
   "cell_type": "markdown",
   "id": "765737d0",
   "metadata": {},
   "source": [
    "### Question 9:\n",
    "#### Plotting histograms"
   ]
  },
  {
   "cell_type": "markdown",
   "id": "0d05cbaa",
   "metadata": {},
   "source": [
    "##### sale price by counts"
   ]
  },
  {
   "cell_type": "code",
   "execution_count": 20,
   "id": "c3536e7d",
   "metadata": {},
   "outputs": [],
   "source": [
    "from matplotlib import pyplot as plt"
   ]
  },
  {
   "cell_type": "code",
   "execution_count": 31,
   "id": "4c02d6df",
   "metadata": {},
   "outputs": [
    {
     "data": {
      "image/png": "[encoded data removed]",
      "text/plain": [
       "<Figure size 640x480 with 1 Axes>"
      ]
     },
     "metadata": {},
     "output_type": "display_data"
    }
   ],
   "source": [
    "brooklyn['sale_price'].value_counts().plot.bar();"
   ]
  },
  {
   "cell_type": "markdown",
   "id": "02f5c8db",
   "metadata": {},
   "source": [
    "- - -"
   ]
  },
  {
   "cell_type": "markdown",
   "id": "407d2f51",
   "metadata": {},
   "source": [
    "### Question 10:\n",
    "##### Filtering data by family homes"
   ]
  },
  {
   "cell_type": "code",
   "execution_count": 22,
   "id": "a279e03f",
   "metadata": {
    "scrolled": true
   },
   "outputs": [
    {
     "data": {
      "text/html": [
       "<div>\n",
       "<style scoped>\n",
       "    .dataframe tbody tr th:only-of-type {\n",
       "        vertical-align: middle;\n",
       "    }\n",
       "\n",
       "    .dataframe tbody tr th {\n",
       "        vertical-align: top;\n",
       "    }\n",
       "\n",
       "    .dataframe thead th {\n",
       "        text-align: right;\n",
       "    }\n",
       "</style>\n",
       "<table border=\"1\" class=\"dataframe\">\n",
       "  <thead>\n",
       "    <tr style=\"text-align: right;\">\n",
       "      <th></th>\n",
       "      <th>borough</th>\n",
       "      <th>neighborhood</th>\n",
       "      <th>building_class_category</th>\n",
       "      <th>tax_class_at_present</th>\n",
       "      <th>block</th>\n",
       "      <th>lot</th>\n",
       "      <th>ease-ment</th>\n",
       "      <th>building_class_at_present</th>\n",
       "      <th>address</th>\n",
       "      <th>apart_ment_number</th>\n",
       "      <th>...</th>\n",
       "      <th>residential_units</th>\n",
       "      <th>commercial_units</th>\n",
       "      <th>total_units</th>\n",
       "      <th>land_square_feet</th>\n",
       "      <th>gross_square_feet</th>\n",
       "      <th>year_built</th>\n",
       "      <th>tax_class_at_time_of_sale</th>\n",
       "      <th>building_class_at_time_of_sale</th>\n",
       "      <th>sale_price</th>\n",
       "      <th>sale_date</th>\n",
       "    </tr>\n",
       "  </thead>\n",
       "  <tbody>\n",
       "    <tr>\n",
       "      <th>25</th>\n",
       "      <td>3</td>\n",
       "      <td>BATH BEACH</td>\n",
       "      <td>01  ONE FAMILY HOMES</td>\n",
       "      <td>1</td>\n",
       "      <td>6363</td>\n",
       "      <td>23</td>\n",
       "      <td></td>\n",
       "      <td>A9</td>\n",
       "      <td>8641 16TH AVE</td>\n",
       "      <td></td>\n",
       "      <td>...</td>\n",
       "      <td>1</td>\n",
       "      <td>0</td>\n",
       "      <td>1</td>\n",
       "      <td>2058</td>\n",
       "      <td>1492</td>\n",
       "      <td>1930</td>\n",
       "      <td>1</td>\n",
       "      <td>A9</td>\n",
       "      <td>560000</td>\n",
       "      <td>6/6/13</td>\n",
       "    </tr>\n",
       "    <tr>\n",
       "      <th>26</th>\n",
       "      <td>3</td>\n",
       "      <td>BATH BEACH</td>\n",
       "      <td>01  ONE FAMILY HOMES</td>\n",
       "      <td>1</td>\n",
       "      <td>6366</td>\n",
       "      <td>69</td>\n",
       "      <td></td>\n",
       "      <td>A1</td>\n",
       "      <td>8658 BAY 16TH   ST</td>\n",
       "      <td></td>\n",
       "      <td>...</td>\n",
       "      <td>1</td>\n",
       "      <td>0</td>\n",
       "      <td>1</td>\n",
       "      <td>4833</td>\n",
       "      <td>1724</td>\n",
       "      <td>1930</td>\n",
       "      <td>1</td>\n",
       "      <td>A1</td>\n",
       "      <td>860000</td>\n",
       "      <td>12/18/12</td>\n",
       "    </tr>\n",
       "    <tr>\n",
       "      <th>27</th>\n",
       "      <td>3</td>\n",
       "      <td>BATH BEACH</td>\n",
       "      <td>01  ONE FAMILY HOMES</td>\n",
       "      <td>1</td>\n",
       "      <td>6371</td>\n",
       "      <td>21</td>\n",
       "      <td></td>\n",
       "      <td>A9</td>\n",
       "      <td>73 BAY 20TH   ST</td>\n",
       "      <td></td>\n",
       "      <td>...</td>\n",
       "      <td>1</td>\n",
       "      <td>0</td>\n",
       "      <td>1</td>\n",
       "      <td>2417</td>\n",
       "      <td>2132</td>\n",
       "      <td>1930</td>\n",
       "      <td>1</td>\n",
       "      <td>A9</td>\n",
       "      <td>508000</td>\n",
       "      <td>8/24/12</td>\n",
       "    </tr>\n",
       "    <tr>\n",
       "      <th>28</th>\n",
       "      <td>3</td>\n",
       "      <td>BATH BEACH</td>\n",
       "      <td>01  ONE FAMILY HOMES</td>\n",
       "      <td>1</td>\n",
       "      <td>6378</td>\n",
       "      <td>64</td>\n",
       "      <td></td>\n",
       "      <td>A1</td>\n",
       "      <td>56 BAY 28TH   ST</td>\n",
       "      <td></td>\n",
       "      <td>...</td>\n",
       "      <td>1</td>\n",
       "      <td>0</td>\n",
       "      <td>1</td>\n",
       "      <td>3867</td>\n",
       "      <td>1704</td>\n",
       "      <td>1899</td>\n",
       "      <td>1</td>\n",
       "      <td>A1</td>\n",
       "      <td>600000</td>\n",
       "      <td>6/18/13</td>\n",
       "    </tr>\n",
       "    <tr>\n",
       "      <th>29</th>\n",
       "      <td>3</td>\n",
       "      <td>BATH BEACH</td>\n",
       "      <td>01  ONE FAMILY HOMES</td>\n",
       "      <td>1</td>\n",
       "      <td>6379</td>\n",
       "      <td>42</td>\n",
       "      <td></td>\n",
       "      <td>S1</td>\n",
       "      <td>2142 86TH   ST</td>\n",
       "      <td></td>\n",
       "      <td>...</td>\n",
       "      <td>1</td>\n",
       "      <td>1</td>\n",
       "      <td>2</td>\n",
       "      <td>1600</td>\n",
       "      <td>2640</td>\n",
       "      <td>1925</td>\n",
       "      <td>1</td>\n",
       "      <td>S1</td>\n",
       "      <td>0</td>\n",
       "      <td>12/14/12</td>\n",
       "    </tr>\n",
       "    <tr>\n",
       "      <th>...</th>\n",
       "      <td>...</td>\n",
       "      <td>...</td>\n",
       "      <td>...</td>\n",
       "      <td>...</td>\n",
       "      <td>...</td>\n",
       "      <td>...</td>\n",
       "      <td>...</td>\n",
       "      <td>...</td>\n",
       "      <td>...</td>\n",
       "      <td>...</td>\n",
       "      <td>...</td>\n",
       "      <td>...</td>\n",
       "      <td>...</td>\n",
       "      <td>...</td>\n",
       "      <td>...</td>\n",
       "      <td>...</td>\n",
       "      <td>...</td>\n",
       "      <td>...</td>\n",
       "      <td>...</td>\n",
       "      <td>...</td>\n",
       "      <td>...</td>\n",
       "    </tr>\n",
       "    <tr>\n",
       "      <th>23292</th>\n",
       "      <td>3</td>\n",
       "      <td>WYCKOFF HEIGHTS</td>\n",
       "      <td>03  THREE FAMILY HOMES</td>\n",
       "      <td>1</td>\n",
       "      <td>3311</td>\n",
       "      <td>15</td>\n",
       "      <td></td>\n",
       "      <td>C0</td>\n",
       "      <td>382 BLEECKER ST</td>\n",
       "      <td></td>\n",
       "      <td>...</td>\n",
       "      <td>3</td>\n",
       "      <td>0</td>\n",
       "      <td>3</td>\n",
       "      <td>2000</td>\n",
       "      <td>2880</td>\n",
       "      <td>1931</td>\n",
       "      <td>1</td>\n",
       "      <td>C0</td>\n",
       "      <td>100000</td>\n",
       "      <td>10/2/12</td>\n",
       "    </tr>\n",
       "    <tr>\n",
       "      <th>23293</th>\n",
       "      <td>3</td>\n",
       "      <td>WYCKOFF HEIGHTS</td>\n",
       "      <td>03  THREE FAMILY HOMES</td>\n",
       "      <td>1</td>\n",
       "      <td>3319</td>\n",
       "      <td>42</td>\n",
       "      <td></td>\n",
       "      <td>C0</td>\n",
       "      <td>377 GROVE ST</td>\n",
       "      <td></td>\n",
       "      <td>...</td>\n",
       "      <td>3</td>\n",
       "      <td>0</td>\n",
       "      <td>3</td>\n",
       "      <td>2000</td>\n",
       "      <td>4000</td>\n",
       "      <td>1931</td>\n",
       "      <td>1</td>\n",
       "      <td>C0</td>\n",
       "      <td>0</td>\n",
       "      <td>12/7/12</td>\n",
       "    </tr>\n",
       "    <tr>\n",
       "      <th>23294</th>\n",
       "      <td>3</td>\n",
       "      <td>WYCKOFF HEIGHTS</td>\n",
       "      <td>03  THREE FAMILY HOMES</td>\n",
       "      <td>1</td>\n",
       "      <td>3320</td>\n",
       "      <td>37</td>\n",
       "      <td></td>\n",
       "      <td>C0</td>\n",
       "      <td>427 GROVE ST</td>\n",
       "      <td></td>\n",
       "      <td>...</td>\n",
       "      <td>3</td>\n",
       "      <td>0</td>\n",
       "      <td>3</td>\n",
       "      <td>2000</td>\n",
       "      <td>4194</td>\n",
       "      <td>1920</td>\n",
       "      <td>1</td>\n",
       "      <td>C0</td>\n",
       "      <td>0</td>\n",
       "      <td>2/4/13</td>\n",
       "    </tr>\n",
       "    <tr>\n",
       "      <th>23295</th>\n",
       "      <td>3</td>\n",
       "      <td>WYCKOFF HEIGHTS</td>\n",
       "      <td>03  THREE FAMILY HOMES</td>\n",
       "      <td>1</td>\n",
       "      <td>3371</td>\n",
       "      <td>14</td>\n",
       "      <td></td>\n",
       "      <td>C0</td>\n",
       "      <td>1384 MADISON ST</td>\n",
       "      <td></td>\n",
       "      <td>...</td>\n",
       "      <td>3</td>\n",
       "      <td>0</td>\n",
       "      <td>3</td>\n",
       "      <td>2000</td>\n",
       "      <td>4400</td>\n",
       "      <td>1910</td>\n",
       "      <td>1</td>\n",
       "      <td>C0</td>\n",
       "      <td>600000</td>\n",
       "      <td>6/10/13</td>\n",
       "    </tr>\n",
       "    <tr>\n",
       "      <th>23296</th>\n",
       "      <td>3</td>\n",
       "      <td>WYCKOFF HEIGHTS</td>\n",
       "      <td>03  THREE FAMILY HOMES</td>\n",
       "      <td>1</td>\n",
       "      <td>3386</td>\n",
       "      <td>9</td>\n",
       "      <td></td>\n",
       "      <td>C0</td>\n",
       "      <td>433 IRVING AVE</td>\n",
       "      <td></td>\n",
       "      <td>...</td>\n",
       "      <td>3</td>\n",
       "      <td>0</td>\n",
       "      <td>3</td>\n",
       "      <td>1900</td>\n",
       "      <td>3300</td>\n",
       "      <td>1905</td>\n",
       "      <td>1</td>\n",
       "      <td>C0</td>\n",
       "      <td>0</td>\n",
       "      <td>2/1/13</td>\n",
       "    </tr>\n",
       "  </tbody>\n",
       "</table>\n",
       "<p>10921 rows × 21 columns</p>\n",
       "</div>"
      ],
      "text/plain": [
       "       borough               neighborhood  \\\n",
       "25           3  BATH BEACH                  \n",
       "26           3  BATH BEACH                  \n",
       "27           3  BATH BEACH                  \n",
       "28           3  BATH BEACH                  \n",
       "29           3  BATH BEACH                  \n",
       "...        ...                        ...   \n",
       "23292        3  WYCKOFF HEIGHTS             \n",
       "23293        3  WYCKOFF HEIGHTS             \n",
       "23294        3  WYCKOFF HEIGHTS             \n",
       "23295        3  WYCKOFF HEIGHTS             \n",
       "23296        3  WYCKOFF HEIGHTS             \n",
       "\n",
       "                            building_class_category tax_class_at_present  \\\n",
       "25     01  ONE FAMILY HOMES                                            1   \n",
       "26     01  ONE FAMILY HOMES                                            1   \n",
       "27     01  ONE FAMILY HOMES                                            1   \n",
       "28     01  ONE FAMILY HOMES                                            1   \n",
       "29     01  ONE FAMILY HOMES                                            1   \n",
       "...                                             ...                  ...   \n",
       "23292  03  THREE FAMILY HOMES                                          1   \n",
       "23293  03  THREE FAMILY HOMES                                          1   \n",
       "23294  03  THREE FAMILY HOMES                                          1   \n",
       "23295  03  THREE FAMILY HOMES                                          1   \n",
       "23296  03  THREE FAMILY HOMES                                          1   \n",
       "\n",
       "       block  lot ease-ment building_class_at_present  \\\n",
       "25      6363   23                                  A9   \n",
       "26      6366   69                                  A1   \n",
       "27      6371   21                                  A9   \n",
       "28      6378   64                                  A1   \n",
       "29      6379   42                                  S1   \n",
       "...      ...  ...       ...                       ...   \n",
       "23292   3311   15                                  C0   \n",
       "23293   3319   42                                  C0   \n",
       "23294   3320   37                                  C0   \n",
       "23295   3371   14                                  C0   \n",
       "23296   3386    9                                  C0   \n",
       "\n",
       "                                           address apart_ment_number  ...  \\\n",
       "25         8641 16TH AVE                                              ...   \n",
       "26          8658 BAY 16TH   ST                                        ...   \n",
       "27          73 BAY 20TH   ST                                          ...   \n",
       "28          56 BAY 28TH   ST                                          ...   \n",
       "29          2142 86TH   ST                                            ...   \n",
       "...                                            ...               ...  ...   \n",
       "23292       382 BLEECKER ST                                           ...   \n",
       "23293       377 GROVE ST                                              ...   \n",
       "23294       427 GROVE ST                                              ...   \n",
       "23295       1384 MADISON ST                                           ...   \n",
       "23296   433 IRVING AVE                                                ...   \n",
       "\n",
       "      residential_units  commercial_units  total_units  land_square_feet  \\\n",
       "25                    1                 0            1              2058   \n",
       "26                    1                 0            1              4833   \n",
       "27                    1                 0            1              2417   \n",
       "28                    1                 0            1              3867   \n",
       "29                    1                 1            2              1600   \n",
       "...                 ...               ...          ...               ...   \n",
       "23292                 3                 0            3              2000   \n",
       "23293                 3                 0            3              2000   \n",
       "23294                 3                 0            3              2000   \n",
       "23295                 3                 0            3              2000   \n",
       "23296                 3                 0            3              1900   \n",
       "\n",
       "       gross_square_feet  year_built  tax_class_at_time_of_sale  \\\n",
       "25                  1492        1930                          1   \n",
       "26                  1724        1930                          1   \n",
       "27                  2132        1930                          1   \n",
       "28                  1704        1899                          1   \n",
       "29                  2640        1925                          1   \n",
       "...                  ...         ...                        ...   \n",
       "23292               2880        1931                          1   \n",
       "23293               4000        1931                          1   \n",
       "23294               4194        1920                          1   \n",
       "23295               4400        1910                          1   \n",
       "23296               3300        1905                          1   \n",
       "\n",
       "       building_class_at_time_of_sale sale_price  sale_date  \n",
       "25                                A9      560000     6/6/13  \n",
       "26                                A1      860000   12/18/12  \n",
       "27                                A9      508000    8/24/12  \n",
       "28                                A1      600000    6/18/13  \n",
       "29                                S1           0   12/14/12  \n",
       "...                               ...        ...        ...  \n",
       "23292                             C0      100000    10/2/12  \n",
       "23293                             C0           0    12/7/12  \n",
       "23294                             C0           0     2/4/13  \n",
       "23295                             C0      600000    6/10/13  \n",
       "23296                             C0           0     2/1/13  \n",
       "\n",
       "[10921 rows x 21 columns]"
      ]
     },
     "execution_count": 22,
     "metadata": {},
     "output_type": "execute_result"
    }
   ],
   "source": [
    "brooklyn.loc[brooklyn['building_class_category'].str.contains('FAMILY')]"
   ]
  },
  {
   "cell_type": "markdown",
   "id": "577181b8",
   "metadata": {},
   "source": [
    "### Question 11:\n",
    "##### Create a log scatter plot of `gross_sqft` vs `sale_price`"
   ]
  },
  {
   "cell_type": "code",
   "execution_count": 53,
   "id": "bcc74432",
   "metadata": {},
   "outputs": [
    {
     "data": {
      "image/png": "[encoded data removed]",
      "text/plain": [
       "<Figure size 640x480 with 1 Axes>"
      ]
     },
     "metadata": {},
     "output_type": "display_data"
    }
   ],
   "source": [
    "# gross_square_feet vs sale\n",
    "brooklyn.plot.scatter(x='sale_price', y='gross_square_feet', loglog=True, title=\"gross_sqft vs sale_price\");"
   ]
  },
  {
   "cell_type": "markdown",
   "id": "5c87ae27",
   "metadata": {},
   "source": [
    "- - -"
   ]
  },
  {
   "cell_type": "markdown",
   "id": "e6669469",
   "metadata": {},
   "source": [
    "### Question 12:\n",
    "##### Getting subset of homes where `sale_price` < $100,000"
   ]
  },
  {
   "cell_type": "code",
   "execution_count": 33,
   "id": "69d6c252",
   "metadata": {},
   "outputs": [
    {
     "data": {
      "text/html": [
       "<div>\n",
       "<style scoped>\n",
       "    .dataframe tbody tr th:only-of-type {\n",
       "        vertical-align: middle;\n",
       "    }\n",
       "\n",
       "    .dataframe tbody tr th {\n",
       "        vertical-align: top;\n",
       "    }\n",
       "\n",
       "    .dataframe thead th {\n",
       "        text-align: right;\n",
       "    }\n",
       "</style>\n",
       "<table border=\"1\" class=\"dataframe\">\n",
       "  <thead>\n",
       "    <tr style=\"text-align: right;\">\n",
       "      <th></th>\n",
       "      <th>borough</th>\n",
       "      <th>neighborhood</th>\n",
       "      <th>building_class_category</th>\n",
       "      <th>tax_class_at_present</th>\n",
       "      <th>block</th>\n",
       "      <th>lot</th>\n",
       "      <th>ease-ment</th>\n",
       "      <th>building_class_at_present</th>\n",
       "      <th>address</th>\n",
       "      <th>apart_ment_number</th>\n",
       "      <th>...</th>\n",
       "      <th>residential_units</th>\n",
       "      <th>commercial_units</th>\n",
       "      <th>total_units</th>\n",
       "      <th>land_square_feet</th>\n",
       "      <th>gross_square_feet</th>\n",
       "      <th>year_built</th>\n",
       "      <th>tax_class_at_time_of_sale</th>\n",
       "      <th>building_class_at_time_of_sale</th>\n",
       "      <th>sale_price</th>\n",
       "      <th>sale_date</th>\n",
       "    </tr>\n",
       "  </thead>\n",
       "  <tbody>\n",
       "    <tr>\n",
       "      <th>6</th>\n",
       "      <td>3</td>\n",
       "      <td></td>\n",
       "      <td>18  TAX CLASS 3 - UTILITY PROPERTIES</td>\n",
       "      <td>3</td>\n",
       "      <td>7247</td>\n",
       "      <td>114</td>\n",
       "      <td></td>\n",
       "      <td>U2</td>\n",
       "      <td>873 NEPTUNE AVE</td>\n",
       "      <td></td>\n",
       "      <td>...</td>\n",
       "      <td>0</td>\n",
       "      <td>0</td>\n",
       "      <td>0</td>\n",
       "      <td>0</td>\n",
       "      <td>0</td>\n",
       "      <td>0</td>\n",
       "      <td>3</td>\n",
       "      <td>U2</td>\n",
       "      <td>0</td>\n",
       "      <td>7/25/13</td>\n",
       "    </tr>\n",
       "    <tr>\n",
       "      <th>8</th>\n",
       "      <td>3</td>\n",
       "      <td>BATH BEACH</td>\n",
       "      <td></td>\n",
       "      <td>4</td>\n",
       "      <td>6370</td>\n",
       "      <td>1308</td>\n",
       "      <td></td>\n",
       "      <td>RP</td>\n",
       "      <td>88 BAY 20TH   ST</td>\n",
       "      <td>P7</td>\n",
       "      <td>...</td>\n",
       "      <td>0</td>\n",
       "      <td>0</td>\n",
       "      <td>1</td>\n",
       "      <td>0</td>\n",
       "      <td>0</td>\n",
       "      <td>2011</td>\n",
       "      <td>4</td>\n",
       "      <td>RP</td>\n",
       "      <td>0</td>\n",
       "      <td>11/19/12</td>\n",
       "    </tr>\n",
       "    <tr>\n",
       "      <th>9</th>\n",
       "      <td>3</td>\n",
       "      <td>BATH BEACH</td>\n",
       "      <td></td>\n",
       "      <td>4</td>\n",
       "      <td>6370</td>\n",
       "      <td>1309</td>\n",
       "      <td></td>\n",
       "      <td>RP</td>\n",
       "      <td>88 BAY 20TH   ST</td>\n",
       "      <td>P8</td>\n",
       "      <td>...</td>\n",
       "      <td>0</td>\n",
       "      <td>0</td>\n",
       "      <td>1</td>\n",
       "      <td>0</td>\n",
       "      <td>0</td>\n",
       "      <td>2011</td>\n",
       "      <td>4</td>\n",
       "      <td>RP</td>\n",
       "      <td>0</td>\n",
       "      <td>4/22/13</td>\n",
       "    </tr>\n",
       "    <tr>\n",
       "      <th>10</th>\n",
       "      <td>3</td>\n",
       "      <td>BATH BEACH</td>\n",
       "      <td></td>\n",
       "      <td>4</td>\n",
       "      <td>6370</td>\n",
       "      <td>1310</td>\n",
       "      <td></td>\n",
       "      <td>RP</td>\n",
       "      <td>88 BAY 20TH   ST</td>\n",
       "      <td>P9</td>\n",
       "      <td>...</td>\n",
       "      <td>0</td>\n",
       "      <td>0</td>\n",
       "      <td>1</td>\n",
       "      <td>0</td>\n",
       "      <td>0</td>\n",
       "      <td>2011</td>\n",
       "      <td>4</td>\n",
       "      <td>RP</td>\n",
       "      <td>0</td>\n",
       "      <td>11/12/12</td>\n",
       "    </tr>\n",
       "    <tr>\n",
       "      <th>11</th>\n",
       "      <td>3</td>\n",
       "      <td>BATH BEACH</td>\n",
       "      <td></td>\n",
       "      <td>4</td>\n",
       "      <td>6370</td>\n",
       "      <td>1311</td>\n",
       "      <td></td>\n",
       "      <td>RP</td>\n",
       "      <td>88 BAY 20TH   ST</td>\n",
       "      <td>P10</td>\n",
       "      <td>...</td>\n",
       "      <td>0</td>\n",
       "      <td>0</td>\n",
       "      <td>1</td>\n",
       "      <td>0</td>\n",
       "      <td>0</td>\n",
       "      <td>2011</td>\n",
       "      <td>4</td>\n",
       "      <td>RP</td>\n",
       "      <td>0</td>\n",
       "      <td>2/8/13</td>\n",
       "    </tr>\n",
       "    <tr>\n",
       "      <th>...</th>\n",
       "      <td>...</td>\n",
       "      <td>...</td>\n",
       "      <td>...</td>\n",
       "      <td>...</td>\n",
       "      <td>...</td>\n",
       "      <td>...</td>\n",
       "      <td>...</td>\n",
       "      <td>...</td>\n",
       "      <td>...</td>\n",
       "      <td>...</td>\n",
       "      <td>...</td>\n",
       "      <td>...</td>\n",
       "      <td>...</td>\n",
       "      <td>...</td>\n",
       "      <td>...</td>\n",
       "      <td>...</td>\n",
       "      <td>...</td>\n",
       "      <td>...</td>\n",
       "      <td>...</td>\n",
       "      <td>...</td>\n",
       "      <td>...</td>\n",
       "    </tr>\n",
       "    <tr>\n",
       "      <th>23366</th>\n",
       "      <td>3</td>\n",
       "      <td>WYCKOFF HEIGHTS</td>\n",
       "      <td>29  COMMERCIAL GARAGES</td>\n",
       "      <td>4</td>\n",
       "      <td>3248</td>\n",
       "      <td>54</td>\n",
       "      <td></td>\n",
       "      <td>G9</td>\n",
       "      <td>297 STOCKHOLM ST</td>\n",
       "      <td></td>\n",
       "      <td>...</td>\n",
       "      <td>0</td>\n",
       "      <td>1</td>\n",
       "      <td>1</td>\n",
       "      <td>2500</td>\n",
       "      <td>2500</td>\n",
       "      <td>1931</td>\n",
       "      <td>4</td>\n",
       "      <td>G9</td>\n",
       "      <td>0</td>\n",
       "      <td>4/17/13</td>\n",
       "    </tr>\n",
       "    <tr>\n",
       "      <th>23368</th>\n",
       "      <td>3</td>\n",
       "      <td>WYCKOFF HEIGHTS</td>\n",
       "      <td>30  WAREHOUSES</td>\n",
       "      <td>4</td>\n",
       "      <td>3167</td>\n",
       "      <td>8</td>\n",
       "      <td></td>\n",
       "      <td>E9</td>\n",
       "      <td>1144 FLUSHING AVE</td>\n",
       "      <td></td>\n",
       "      <td>...</td>\n",
       "      <td>0</td>\n",
       "      <td>1</td>\n",
       "      <td>1</td>\n",
       "      <td>10250</td>\n",
       "      <td>6675</td>\n",
       "      <td>1931</td>\n",
       "      <td>4</td>\n",
       "      <td>E9</td>\n",
       "      <td>0</td>\n",
       "      <td>1/17/13</td>\n",
       "    </tr>\n",
       "    <tr>\n",
       "      <th>23369</th>\n",
       "      <td>3</td>\n",
       "      <td>WYCKOFF HEIGHTS</td>\n",
       "      <td>30  WAREHOUSES</td>\n",
       "      <td>4</td>\n",
       "      <td>3167</td>\n",
       "      <td>69</td>\n",
       "      <td></td>\n",
       "      <td>E9</td>\n",
       "      <td>349 JEFFERSON ST</td>\n",
       "      <td></td>\n",
       "      <td>...</td>\n",
       "      <td>0</td>\n",
       "      <td>1</td>\n",
       "      <td>1</td>\n",
       "      <td>3600</td>\n",
       "      <td>2800</td>\n",
       "      <td>1931</td>\n",
       "      <td>4</td>\n",
       "      <td>E9</td>\n",
       "      <td>0</td>\n",
       "      <td>1/17/13</td>\n",
       "    </tr>\n",
       "    <tr>\n",
       "      <th>23371</th>\n",
       "      <td>3</td>\n",
       "      <td>WYCKOFF HEIGHTS</td>\n",
       "      <td>30  WAREHOUSES</td>\n",
       "      <td>4</td>\n",
       "      <td>3248</td>\n",
       "      <td>55</td>\n",
       "      <td></td>\n",
       "      <td>E9</td>\n",
       "      <td>295 STOCKHOLM ST</td>\n",
       "      <td></td>\n",
       "      <td>...</td>\n",
       "      <td>0</td>\n",
       "      <td>1</td>\n",
       "      <td>1</td>\n",
       "      <td>2500</td>\n",
       "      <td>2475</td>\n",
       "      <td>1931</td>\n",
       "      <td>4</td>\n",
       "      <td>E9</td>\n",
       "      <td>0</td>\n",
       "      <td>4/17/13</td>\n",
       "    </tr>\n",
       "    <tr>\n",
       "      <th>23372</th>\n",
       "      <td>3</td>\n",
       "      <td>WYCKOFF HEIGHTS</td>\n",
       "      <td>30  WAREHOUSES</td>\n",
       "      <td>4</td>\n",
       "      <td>3280</td>\n",
       "      <td>28</td>\n",
       "      <td></td>\n",
       "      <td>E1</td>\n",
       "      <td>342 HIMROD ST</td>\n",
       "      <td></td>\n",
       "      <td>...</td>\n",
       "      <td>0</td>\n",
       "      <td>1</td>\n",
       "      <td>1</td>\n",
       "      <td>6000</td>\n",
       "      <td>7140</td>\n",
       "      <td>1931</td>\n",
       "      <td>4</td>\n",
       "      <td>E1</td>\n",
       "      <td>0</td>\n",
       "      <td>12/14/12</td>\n",
       "    </tr>\n",
       "  </tbody>\n",
       "</table>\n",
       "<p>9688 rows × 21 columns</p>\n",
       "</div>"
      ],
      "text/plain": [
       "       borough               neighborhood  \\\n",
       "6            3                              \n",
       "8            3  BATH BEACH                  \n",
       "9            3  BATH BEACH                  \n",
       "10           3  BATH BEACH                  \n",
       "11           3  BATH BEACH                  \n",
       "...        ...                        ...   \n",
       "23366        3  WYCKOFF HEIGHTS             \n",
       "23368        3  WYCKOFF HEIGHTS             \n",
       "23369        3  WYCKOFF HEIGHTS             \n",
       "23371        3  WYCKOFF HEIGHTS             \n",
       "23372        3  WYCKOFF HEIGHTS             \n",
       "\n",
       "                            building_class_category tax_class_at_present  \\\n",
       "6      18  TAX CLASS 3 - UTILITY PROPERTIES                            3   \n",
       "8                                                                      4   \n",
       "9                                                                      4   \n",
       "10                                                                     4   \n",
       "11                                                                     4   \n",
       "...                                             ...                  ...   \n",
       "23366  29  COMMERCIAL GARAGES                                          4   \n",
       "23368  30  WAREHOUSES                                                  4   \n",
       "23369  30  WAREHOUSES                                                  4   \n",
       "23371  30  WAREHOUSES                                                  4   \n",
       "23372  30  WAREHOUSES                                                  4   \n",
       "\n",
       "       block   lot ease-ment building_class_at_present  \\\n",
       "6       7247   114                                  U2   \n",
       "8       6370  1308                                  RP   \n",
       "9       6370  1309                                  RP   \n",
       "10      6370  1310                                  RP   \n",
       "11      6370  1311                                  RP   \n",
       "...      ...   ...       ...                       ...   \n",
       "23366   3248    54                                  G9   \n",
       "23368   3167     8                                  E9   \n",
       "23369   3167    69                                  E9   \n",
       "23371   3248    55                                  E9   \n",
       "23372   3280    28                                  E1   \n",
       "\n",
       "                                        address apart_ment_number  ...  \\\n",
       "6       873 NEPTUNE AVE                                            ...   \n",
       "8        88 BAY 20TH   ST                            P7            ...   \n",
       "9        88 BAY 20TH   ST                            P8            ...   \n",
       "10       88 BAY 20TH   ST                            P9            ...   \n",
       "11       88 BAY 20TH   ST                            P10           ...   \n",
       "...                                         ...               ...  ...   \n",
       "23366    297 STOCKHOLM ST                                          ...   \n",
       "23368   1144 FLUSHING AVE                                          ...   \n",
       "23369    349 JEFFERSON ST                                          ...   \n",
       "23371    295 STOCKHOLM ST                                          ...   \n",
       "23372    342 HIMROD ST                                             ...   \n",
       "\n",
       "      residential_units  commercial_units  total_units  land_square_feet  \\\n",
       "6                     0                 0            0                 0   \n",
       "8                     0                 0            1                 0   \n",
       "9                     0                 0            1                 0   \n",
       "10                    0                 0            1                 0   \n",
       "11                    0                 0            1                 0   \n",
       "...                 ...               ...          ...               ...   \n",
       "23366                 0                 1            1              2500   \n",
       "23368                 0                 1            1             10250   \n",
       "23369                 0                 1            1              3600   \n",
       "23371                 0                 1            1              2500   \n",
       "23372                 0                 1            1              6000   \n",
       "\n",
       "       gross_square_feet  year_built  tax_class_at_time_of_sale  \\\n",
       "6                      0           0                          3   \n",
       "8                      0        2011                          4   \n",
       "9                      0        2011                          4   \n",
       "10                     0        2011                          4   \n",
       "11                     0        2011                          4   \n",
       "...                  ...         ...                        ...   \n",
       "23366               2500        1931                          4   \n",
       "23368               6675        1931                          4   \n",
       "23369               2800        1931                          4   \n",
       "23371               2475        1931                          4   \n",
       "23372               7140        1931                          4   \n",
       "\n",
       "       building_class_at_time_of_sale sale_price  sale_date  \n",
       "6                                 U2           0    7/25/13  \n",
       "8                                 RP           0   11/19/12  \n",
       "9                                 RP           0    4/22/13  \n",
       "10                                RP           0   11/12/12  \n",
       "11                                RP           0     2/8/13  \n",
       "...                               ...        ...        ...  \n",
       "23366                             G9           0    4/17/13  \n",
       "23368                             E9           0    1/17/13  \n",
       "23369                             E9           0    1/17/13  \n",
       "23371                             E9           0    4/17/13  \n",
       "23372                             E1           0   12/14/12  \n",
       "\n",
       "[9688 rows x 21 columns]"
      ]
     },
     "execution_count": 33,
     "metadata": {},
     "output_type": "execute_result"
    }
   ],
   "source": [
    "under_one_k = brooklyn['sale_price']<100000\n",
    "brooklyn[under_one_k]"
   ]
  },
  {
   "cell_type": "markdown",
   "id": "f82f975a",
   "metadata": {},
   "source": [
    "##### Number of homes under $100,000"
   ]
  },
  {
   "cell_type": "code",
   "execution_count": 36,
   "id": "73a9563e",
   "metadata": {},
   "outputs": [
    {
     "data": {
      "text/plain": [
       "9688"
      ]
     },
     "execution_count": 36,
     "metadata": {},
     "output_type": "execute_result"
    }
   ],
   "source": [
    "brooklyn[under_one_k].value_counts().sum()"
   ]
  },
  {
   "cell_type": "markdown",
   "id": "76103d92",
   "metadata": {},
   "source": [
    "- - -"
   ]
  },
  {
   "cell_type": "markdown",
   "id": "b12e955f",
   "metadata": {},
   "source": [
    "### Question 13:\n",
    "##### Count of sale prices"
   ]
  },
  {
   "cell_type": "code",
   "execution_count": 54,
   "id": "74c6dc95",
   "metadata": {},
   "outputs": [
    {
     "data": {
      "text/plain": [
       "23373"
      ]
     },
     "execution_count": 54,
     "metadata": {},
     "output_type": "execute_result"
    }
   ],
   "source": [
    "brooklyn['sale_price'].value_counts().sum()"
   ]
  },
  {
   "cell_type": "code",
   "execution_count": null,
   "id": "70bf687d",
   "metadata": {},
   "outputs": [],
   "source": []
  }
 ],
 "metadata": {
  "kernelspec": {
   "display_name": "Python 3 (ipykernel)",
   "language": "python",
   "name": "python3"
  },
  "language_info": {
   "codemirror_mode": {
    "name": "ipython",
    "version": 3
   },
   "file_extension": ".py",
   "mimetype": "text/x-python",
   "name": "python",
   "nbconvert_exporter": "python",
   "pygments_lexer": "ipython3",
   "version": "3.9.13"
  }
 },
 "nbformat": 4,
 "nbformat_minor": 5
}
