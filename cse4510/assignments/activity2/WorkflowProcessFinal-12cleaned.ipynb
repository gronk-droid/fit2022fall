{
 "cells": [
  {
   "cell_type": "markdown",
   "id": "29c336e9-4ce0-4471-853a-f0e9841e224c",
   "metadata": {
    "tags": []
   },
   "source": [
    "# 1. Data Gathering"
   ]
  },
  {
   "cell_type": "markdown",
   "id": "e6262a78-67f1-47e5-be61-bd958e63e5e3",
   "metadata": {
    "tags": []
   },
   "source": [
    "#### (a) Download the parking violations dataset for 2017 - 2022 (≈10.5GB) from the following website https://data.cityofnewyork.us/City-Government/Parking-Violations-Issued-Fiscal-Year-2023/pvqr-7yc4"
   ]
  },
  {
   "cell_type": "markdown",
   "id": "c3cd2e12-d423-448d-8019-39ab444ee1e1",
   "metadata": {
    "tags": []
   },
   "source": [
    "#### (b) Store all the CSV data in a single AWS S3 bucket via the AWS Academy Learner Lab (Big Data Containers) class. You may manually upload the data or use the code provided in the S3 tutorial to upload the data to the bucket.\n",
    "\n",
    "![Buckets](https://cdn.discordapp.com/attachments/1012099908557344791/1029833420135747664/bucketsScreentshot.png)\n"
   ]
  },
  {
   "cell_type": "markdown",
   "id": "f7e1a8fa-1211-4e58-872f-08c7a7adfcc5",
   "metadata": {
    "tags": []
   },
   "source": [
    "#### (c) Create a second bucket that will store the intermediate steps of your work as parquet files.\n",
    "![CSV Files](https://cdn.discordapp.com/attachments/1012099908557344791/1029833420521607239/csvScreenshot.png)"
   ]
  },
  {
   "cell_type": "code",
   "execution_count": 69,
   "id": "eba670b5-64e1-4615-bfb2-915391804b83",
   "metadata": {
    "execution": {
     "iopub.execute_input": "2022-10-12T18:14:33.625389Z",
     "iopub.status.busy": "2022-10-12T18:14:33.624801Z",
     "iopub.status.idle": "2022-10-12T18:14:33.639576Z",
     "shell.execute_reply": "2022-10-12T18:14:33.635037Z",
     "shell.execute_reply.started": "2022-10-12T18:14:33.625354Z"
    },
    "tags": []
   },
   "outputs": [
    {
     "name": "stdout",
     "output_type": "stream",
     "text": [
      "env: SATURN_BASE_URL=https://app.community.saturnenterprise.io\n",
      "env: SATURN_TOKEN=server-80a185b8b3624752be65ef2a3adb0c38\n"
     ]
    }
   ],
   "source": [
    "# Import needed libraries\n",
    "import os\n",
    "import logging\n",
    "import boto3\n",
    "from botocore.exceptions import ClientError\n",
    "import sys\n",
    "import threading\n",
    "import pandas as pd\n",
    "import requests\n",
    "import io\n",
    "import s3fs\n",
    "from functools import reduce\n",
    "import numpy as np\n",
    "from datetime import datetime\n",
    "\n",
    "from dask_saturn import ExternalConnection, SaturnCluster\n",
    "from dask.distributed import Client\n",
    "import dask.dataframe as dd\n",
    "from dask.diagnostics import ProgressBar\n",
    "\n",
    "# Set ENV Vars\n",
    "%env SATURN_BASE_URL=https://app.community.saturnenterprise.io\n",
    "%env SATURN_TOKEN=server-80a185b8b3624752be65ef2a3adb0c38\n"
   ]
  },
  {
   "cell_type": "markdown",
   "id": "e07882d4-9b5f-4b61-a523-4d3785d304d0",
   "metadata": {
    "tags": []
   },
   "source": [
    "# 2. Data Cleaning"
   ]
  },
  {
   "cell_type": "markdown",
   "id": "48d9c453-6904-4847-8bfe-ef5aa7efe1cb",
   "metadata": {
    "tags": []
   },
   "source": [
    "#### (a) Load the data from your S3 bucket into dask using a cluster (eg. Saturn Cloud or AWS ECS)"
   ]
  },
  {
   "cell_type": "code",
   "execution_count": 38,
   "id": "3df1e8d3-4352-47a3-9f08-23564e3e7490",
   "metadata": {
    "execution": {
     "iopub.execute_input": "2022-10-12T16:58:49.532596Z",
     "iopub.status.busy": "2022-10-12T16:58:49.532202Z",
     "iopub.status.idle": "2022-10-12T16:58:49.944823Z",
     "shell.execute_reply": "2022-10-12T16:58:49.943968Z",
     "shell.execute_reply.started": "2022-10-12T16:58:49.532565Z"
    },
    "tags": []
   },
   "outputs": [
    {
     "name": "stderr",
     "output_type": "stream",
     "text": [
      "INFO:dask-saturn:Cluster is ready\n",
      "INFO:dask-saturn:Registering default plugins\n",
      "INFO:dask-saturn:Success!\n"
     ]
    },
    {
     "data": {
      "text/html": [
       "<div>\n",
       "    <div style=\"width: 24px; height: 24px; background-color: #e1e1e1; border: 3px solid #9D9D9D; border-radius: 5px; position: absolute;\"> </div>\n",
       "    <div style=\"margin-left: 48px;\">\n",
       "        <h3 style=\"margin-bottom: 0px;\">Client</h3>\n",
       "        <p style=\"color: #9D9D9D; margin-bottom: 0px;\">Client-24ba9d10-4a4f-11ed-8170-be3e55aec8f1</p>\n",
       "        <table style=\"width: 100%; text-align: left;\">\n",
       "\n",
       "        <tr>\n",
       "        \n",
       "            <td style=\"text-align: left;\"><strong>Connection method:</strong> Cluster object</td>\n",
       "            <td style=\"text-align: left;\"><strong>Cluster type:</strong> dask_saturn.SaturnCluster</td>\n",
       "        \n",
       "        </tr>\n",
       "\n",
       "        \n",
       "            <tr>\n",
       "                <td style=\"text-align: left;\">\n",
       "                    <strong>Dashboard: </strong> <a href=\"https://dc-teema-dask-cluster-c8e1eb58bb334a7f96c74798224046ce.community.saturnenterprise.io\" target=\"_blank\">https://dc-teema-dask-cluster-c8e1eb58bb334a7f96c74798224046ce.community.saturnenterprise.io</a>\n",
       "                </td>\n",
       "                <td style=\"text-align: left;\"></td>\n",
       "            </tr>\n",
       "        \n",
       "\n",
       "        </table>\n",
       "\n",
       "        \n",
       "            <details>\n",
       "            <summary style=\"margin-bottom: 20px;\"><h3 style=\"display: inline;\">Cluster Info</h3></summary>\n",
       "            <div class=\"jp-RenderedHTMLCommon jp-RenderedHTML jp-mod-trusted jp-OutputArea-output\">\n",
       "    <div style=\"width: 24px; height: 24px; background-color: #e1e1e1; border: 3px solid #9D9D9D; border-radius: 5px; position: absolute;\">\n",
       "    </div>\n",
       "    <div style=\"margin-left: 48px;\">\n",
       "        <h3 style=\"margin-bottom: 0px; margin-top: 0px;\">SaturnCluster</h3>\n",
       "        <p style=\"color: #9D9D9D; margin-bottom: 0px;\">c8e1eb58bb334a7f96c74798224046ce</p>\n",
       "        <table style=\"width: 100%; text-align: left;\">\n",
       "            <tr>\n",
       "                <td style=\"text-align: left;\">\n",
       "                    <strong>Dashboard:</strong> <a href=\"https://dc-teema-dask-cluster-c8e1eb58bb334a7f96c74798224046ce.community.saturnenterprise.io\" target=\"_blank\">https://dc-teema-dask-cluster-c8e1eb58bb334a7f96c74798224046ce.community.saturnenterprise.io</a>\n",
       "                </td>\n",
       "                <td style=\"text-align: left;\">\n",
       "                    <strong>Workers:</strong> 3\n",
       "                </td>\n",
       "            </tr>\n",
       "            <tr>\n",
       "                <td style=\"text-align: left;\">\n",
       "                    <strong>Total threads:</strong> 6\n",
       "                </td>\n",
       "                <td style=\"text-align: left;\">\n",
       "                    <strong>Total memory:</strong> 43.31 GiB\n",
       "                </td>\n",
       "            </tr>\n",
       "            \n",
       "        </table>\n",
       "\n",
       "        <details>\n",
       "            <summary style=\"margin-bottom: 20px;\">\n",
       "                <h3 style=\"display: inline;\">Scheduler Info</h3>\n",
       "            </summary>\n",
       "\n",
       "            <div style=\"\">\n",
       "    <div>\n",
       "        <div style=\"width: 24px; height: 24px; background-color: #FFF7E5; border: 3px solid #FF6132; border-radius: 5px; position: absolute;\"> </div>\n",
       "        <div style=\"margin-left: 48px;\">\n",
       "            <h3 style=\"margin-bottom: 0px;\">Scheduler</h3>\n",
       "            <p style=\"color: #9D9D9D; margin-bottom: 0px;\">Scheduler-a61b6e29-f914-4708-8020-083e92ad7fa3</p>\n",
       "            <table style=\"width: 100%; text-align: left;\">\n",
       "                <tr>\n",
       "                    <td style=\"text-align: left;\">\n",
       "                        <strong>Comm:</strong> tcp://192.168.206.194:8786\n",
       "                    </td>\n",
       "                    <td style=\"text-align: left;\">\n",
       "                        <strong>Workers:</strong> 3\n",
       "                    </td>\n",
       "                </tr>\n",
       "                <tr>\n",
       "                    <td style=\"text-align: left;\">\n",
       "                        <strong>Dashboard:</strong> <a href=\"http://192.168.206.194:8787/status\" target=\"_blank\">http://192.168.206.194:8787/status</a>\n",
       "                    </td>\n",
       "                    <td style=\"text-align: left;\">\n",
       "                        <strong>Total threads:</strong> 6\n",
       "                    </td>\n",
       "                </tr>\n",
       "                <tr>\n",
       "                    <td style=\"text-align: left;\">\n",
       "                        <strong>Started:</strong> 1 hour ago\n",
       "                    </td>\n",
       "                    <td style=\"text-align: left;\">\n",
       "                        <strong>Total memory:</strong> 43.31 GiB\n",
       "                    </td>\n",
       "                </tr>\n",
       "            </table>\n",
       "        </div>\n",
       "    </div>\n",
       "\n",
       "    <details style=\"margin-left: 48px;\">\n",
       "        <summary style=\"margin-bottom: 20px;\">\n",
       "            <h3 style=\"display: inline;\">Workers</h3>\n",
       "        </summary>\n",
       "\n",
       "        \n",
       "        <div style=\"margin-bottom: 20px;\">\n",
       "            <div style=\"width: 24px; height: 24px; background-color: #DBF5FF; border: 3px solid #4CC9FF; border-radius: 5px; position: absolute;\"> </div>\n",
       "            <div style=\"margin-left: 48px;\">\n",
       "            <details>\n",
       "                <summary>\n",
       "                    <h4 style=\"margin-bottom: 0px; display: inline;\">Worker: 0</h4>\n",
       "                </summary>\n",
       "                <table style=\"width: 100%; text-align: left;\">\n",
       "                    <tr>\n",
       "                        <td style=\"text-align: left;\">\n",
       "                            <strong>Comm: </strong> tcp://192.168.17.131:34547\n",
       "                        </td>\n",
       "                        <td style=\"text-align: left;\">\n",
       "                            <strong>Total threads: </strong> 2\n",
       "                        </td>\n",
       "                    </tr>\n",
       "                    <tr>\n",
       "                        <td style=\"text-align: left;\">\n",
       "                            <strong>Dashboard: </strong> <a href=\"http://192.168.17.131:8787/status\" target=\"_blank\">http://192.168.17.131:8787/status</a>\n",
       "                        </td>\n",
       "                        <td style=\"text-align: left;\">\n",
       "                            <strong>Memory: </strong> 14.44 GiB\n",
       "                        </td>\n",
       "                    </tr>\n",
       "                    <tr>\n",
       "                        <td style=\"text-align: left;\">\n",
       "                            <strong>Nanny: </strong> tcp://192.168.17.131:45289\n",
       "                        </td>\n",
       "                        <td style=\"text-align: left;\"></td>\n",
       "                    </tr>\n",
       "                    <tr>\n",
       "                        <td colspan=\"2\" style=\"text-align: left;\">\n",
       "                            <strong>Local directory: </strong> /tmp/dask-worker-space/worker-wdcy6zz9\n",
       "                        </td>\n",
       "                    </tr>\n",
       "\n",
       "                    \n",
       "\n",
       "                    \n",
       "\n",
       "                </table>\n",
       "            </details>\n",
       "            </div>\n",
       "        </div>\n",
       "        \n",
       "        <div style=\"margin-bottom: 20px;\">\n",
       "            <div style=\"width: 24px; height: 24px; background-color: #DBF5FF; border: 3px solid #4CC9FF; border-radius: 5px; position: absolute;\"> </div>\n",
       "            <div style=\"margin-left: 48px;\">\n",
       "            <details>\n",
       "                <summary>\n",
       "                    <h4 style=\"margin-bottom: 0px; display: inline;\">Worker: 1</h4>\n",
       "                </summary>\n",
       "                <table style=\"width: 100%; text-align: left;\">\n",
       "                    <tr>\n",
       "                        <td style=\"text-align: left;\">\n",
       "                            <strong>Comm: </strong> tcp://192.168.121.195:33159\n",
       "                        </td>\n",
       "                        <td style=\"text-align: left;\">\n",
       "                            <strong>Total threads: </strong> 2\n",
       "                        </td>\n",
       "                    </tr>\n",
       "                    <tr>\n",
       "                        <td style=\"text-align: left;\">\n",
       "                            <strong>Dashboard: </strong> <a href=\"http://192.168.121.195:8787/status\" target=\"_blank\">http://192.168.121.195:8787/status</a>\n",
       "                        </td>\n",
       "                        <td style=\"text-align: left;\">\n",
       "                            <strong>Memory: </strong> 14.44 GiB\n",
       "                        </td>\n",
       "                    </tr>\n",
       "                    <tr>\n",
       "                        <td style=\"text-align: left;\">\n",
       "                            <strong>Nanny: </strong> tcp://192.168.121.195:40007\n",
       "                        </td>\n",
       "                        <td style=\"text-align: left;\"></td>\n",
       "                    </tr>\n",
       "                    <tr>\n",
       "                        <td colspan=\"2\" style=\"text-align: left;\">\n",
       "                            <strong>Local directory: </strong> /tmp/dask-worker-space/worker-tw96_d1g\n",
       "                        </td>\n",
       "                    </tr>\n",
       "\n",
       "                    \n",
       "\n",
       "                    \n",
       "\n",
       "                </table>\n",
       "            </details>\n",
       "            </div>\n",
       "        </div>\n",
       "        \n",
       "        <div style=\"margin-bottom: 20px;\">\n",
       "            <div style=\"width: 24px; height: 24px; background-color: #DBF5FF; border: 3px solid #4CC9FF; border-radius: 5px; position: absolute;\"> </div>\n",
       "            <div style=\"margin-left: 48px;\">\n",
       "            <details>\n",
       "                <summary>\n",
       "                    <h4 style=\"margin-bottom: 0px; display: inline;\">Worker: 2</h4>\n",
       "                </summary>\n",
       "                <table style=\"width: 100%; text-align: left;\">\n",
       "                    <tr>\n",
       "                        <td style=\"text-align: left;\">\n",
       "                            <strong>Comm: </strong> tcp://192.168.188.195:42311\n",
       "                        </td>\n",
       "                        <td style=\"text-align: left;\">\n",
       "                            <strong>Total threads: </strong> 2\n",
       "                        </td>\n",
       "                    </tr>\n",
       "                    <tr>\n",
       "                        <td style=\"text-align: left;\">\n",
       "                            <strong>Dashboard: </strong> <a href=\"http://192.168.188.195:8787/status\" target=\"_blank\">http://192.168.188.195:8787/status</a>\n",
       "                        </td>\n",
       "                        <td style=\"text-align: left;\">\n",
       "                            <strong>Memory: </strong> 14.44 GiB\n",
       "                        </td>\n",
       "                    </tr>\n",
       "                    <tr>\n",
       "                        <td style=\"text-align: left;\">\n",
       "                            <strong>Nanny: </strong> tcp://192.168.188.195:41477\n",
       "                        </td>\n",
       "                        <td style=\"text-align: left;\"></td>\n",
       "                    </tr>\n",
       "                    <tr>\n",
       "                        <td colspan=\"2\" style=\"text-align: left;\">\n",
       "                            <strong>Local directory: </strong> /tmp/dask-worker-space/worker-4rt96g2p\n",
       "                        </td>\n",
       "                    </tr>\n",
       "\n",
       "                    \n",
       "\n",
       "                    \n",
       "\n",
       "                </table>\n",
       "            </details>\n",
       "            </div>\n",
       "        </div>\n",
       "        \n",
       "\n",
       "    </details>\n",
       "</div>\n",
       "\n",
       "        </details>\n",
       "    </div>\n",
       "</div>\n",
       "            </details>\n",
       "        \n",
       "\n",
       "    </div>\n",
       "</div>"
      ],
      "text/plain": [
       "<Client: 'tcp://192.168.206.194:8786' processes=3 threads=6, memory=43.31 GiB>"
      ]
     },
     "execution_count": 38,
     "metadata": {},
     "output_type": "execute_result"
    }
   ],
   "source": [
    "# Connect to SaturnCloud cluster\n",
    "cluster = SaturnCluster()\n",
    "client = Client(cluster)\n",
    "client"
   ]
  },
  {
   "cell_type": "code",
   "execution_count": 39,
   "id": "76bd3da8-7d11-4673-a660-f7888ceb73ab",
   "metadata": {
    "execution": {
     "iopub.execute_input": "2022-10-12T16:58:52.330478Z",
     "iopub.status.busy": "2022-10-12T16:58:52.330096Z",
     "iopub.status.idle": "2022-10-12T16:58:52.336088Z",
     "shell.execute_reply": "2022-10-12T16:58:52.335266Z",
     "shell.execute_reply.started": "2022-10-12T16:58:52.330450Z"
    },
    "tags": []
   },
   "outputs": [
    {
     "data": {
      "text/plain": [
       "['nyc-parking-violations-csv/Parking_Violations_Issued_-_Fiscal_Year_2017.csv',\n",
       " 'nyc-parking-violations-csv/Parking_Violations_Issued_-_Fiscal_Year_2018.csv',\n",
       " 'nyc-parking-violations-csv/Parking_Violations_Issued_-_Fiscal_Year_2019.csv',\n",
       " 'nyc-parking-violations-csv/Parking_Violations_Issued_-_Fiscal_Year_2020.csv',\n",
       " 'nyc-parking-violations-csv/Parking_Violations_Issued_-_Fiscal_Year_2021.csv',\n",
       " 'nyc-parking-violations-csv/Parking_Violations_Issued_-_Fiscal_Year_2022.csv',\n",
       " 'nyc-parking-violations-csv/Parking_Violations_Issued_-_Fiscal_Year_2023.csv']"
      ]
     },
     "execution_count": 39,
     "metadata": {},
     "output_type": "execute_result"
    }
   ],
   "source": [
    "# Connect to S3 Bucket with all CSVs and show all loaded\n",
    "s3 = s3fs.S3FileSystem(anon=True)\n",
    "s3path = 's3://nyc-parking-violations-csv/'\n",
    "s3.ls(s3path)\n",
    "# %reset"
   ]
  },
  {
   "cell_type": "code",
   "execution_count": 5,
   "id": "0c6b1de8-c62f-48c1-b03e-10e9ee7bd6a3",
   "metadata": {
    "execution": {
     "iopub.execute_input": "2022-10-12T15:13:13.084873Z",
     "iopub.status.busy": "2022-10-12T15:13:13.084415Z",
     "iopub.status.idle": "2022-10-12T15:13:13.089479Z",
     "shell.execute_reply": "2022-10-12T15:13:13.088596Z",
     "shell.execute_reply.started": "2022-10-12T15:13:13.084847Z"
    }
   },
   "outputs": [],
   "source": [
    "#test = dd.read_parquet('s3://nyc-parking-violations-parquet/test')"
   ]
  },
  {
   "cell_type": "code",
   "execution_count": 6,
   "id": "5854861c-2078-4192-a0b0-ab64bfff70fd",
   "metadata": {
    "execution": {
     "iopub.execute_input": "2022-10-12T15:13:13.926619Z",
     "iopub.status.busy": "2022-10-12T15:13:13.926059Z",
     "iopub.status.idle": "2022-10-12T15:13:13.930017Z",
     "shell.execute_reply": "2022-10-12T15:13:13.929135Z",
     "shell.execute_reply.started": "2022-10-12T15:13:13.926591Z"
    },
    "tags": []
   },
   "outputs": [],
   "source": [
    "#test = dd.read_csv('s3://nyc-parking-violations-csv/Parking_Violations_Issued_-_Fiscal_Year_2023.csv')"
   ]
  },
  {
   "cell_type": "code",
   "execution_count": 40,
   "id": "51c51fa8-c7bc-41ed-ab8d-19d5ba1522f8",
   "metadata": {
    "execution": {
     "iopub.execute_input": "2022-10-12T16:58:58.474117Z",
     "iopub.status.busy": "2022-10-12T16:58:58.473733Z",
     "iopub.status.idle": "2022-10-12T16:59:00.383630Z",
     "shell.execute_reply": "2022-10-12T16:59:00.382934Z",
     "shell.execute_reply.started": "2022-10-12T16:58:58.474088Z"
    },
    "tags": []
   },
   "outputs": [],
   "source": [
    "# Build dataframes from S3 by reading CSV in from built path\n",
    "files = s3.ls(s3path)\n",
    "\n",
    "def load_data_individually(filepaths, aws=False):\n",
    "    bucket = ''\n",
    "    \n",
    "    if aws:\n",
    "        bucket = 's3://'\n",
    "        \n",
    "    dataframes = {}\n",
    "    with ProgressBar():\n",
    "        for file in files:\n",
    "            path = bucket + file\n",
    "            dataframes[file[-8:-4]] = dd.read_csv(path)\n",
    "    return dataframes\n",
    "\n",
    "dataframes = load_data_individually(files, True)\n",
    "# client.persist(dataframes)"
   ]
  },
  {
   "cell_type": "markdown",
   "id": "e3799f31-dd6a-4e74-b6e3-ef32bb3f0a98",
   "metadata": {
    "tags": []
   },
   "source": [
    "#### (b) Find the common columns between each dataset."
   ]
  },
  {
   "cell_type": "code",
   "execution_count": 43,
   "id": "4856cc38-67d2-48c8-8ffa-097081c4a552",
   "metadata": {
    "execution": {
     "iopub.execute_input": "2022-10-12T16:59:57.441689Z",
     "iopub.status.busy": "2022-10-12T16:59:57.441306Z",
     "iopub.status.idle": "2022-10-12T16:59:57.448448Z",
     "shell.execute_reply": "2022-10-12T16:59:57.447652Z",
     "shell.execute_reply.started": "2022-10-12T16:59:57.441661Z"
    },
    "tags": []
   },
   "outputs": [
    {
     "data": {
      "text/plain": [
       "['Street Code2',\n",
       " 'Intersecting Street',\n",
       " 'Vehicle Year',\n",
       " 'Hydrant Violation',\n",
       " 'Violation Post Code',\n",
       " 'Time First Observed',\n",
       " 'Vehicle Expiration Date',\n",
       " 'Plate Type',\n",
       " 'Violation Location',\n",
       " 'Issuer Command',\n",
       " 'Violation Time',\n",
       " 'Registration State',\n",
       " 'Unregistered Vehicle?',\n",
       " 'Street Name',\n",
       " 'Issuer Code',\n",
       " 'Law Section',\n",
       " 'Violation County',\n",
       " 'Issue Date',\n",
       " 'Plate ID',\n",
       " 'Issuing Agency',\n",
       " 'Date First Observed',\n",
       " 'Sub Division',\n",
       " 'Double Parking Violation',\n",
       " 'Street Code3',\n",
       " 'Vehicle Color',\n",
       " 'Violation Code',\n",
       " 'Violation Precinct',\n",
       " 'Violation In Front Of Or Opposite',\n",
       " 'Street Code1',\n",
       " 'From Hours In Effect',\n",
       " 'Meter Number',\n",
       " 'Feet From Curb',\n",
       " 'Vehicle Make',\n",
       " 'House Number',\n",
       " 'Violation Legal Code',\n",
       " 'No Standing or Stopping Violation',\n",
       " 'Summons Number',\n",
       " 'Vehicle Body Type',\n",
       " 'Issuer Squad',\n",
       " 'To Hours In Effect',\n",
       " 'Violation Description',\n",
       " 'Issuer Precinct']"
      ]
     },
     "execution_count": 43,
     "metadata": {},
     "output_type": "execute_result"
    }
   ],
   "source": [
    "# Use list comprehension to build a single list with every unique column across all CSVs\n",
    "def find_common_columns(dataframes):\n",
    "    columns = [set(dataframes[x].columns) for x in dataframes]\n",
    "    common_columns = list(reduce(lambda a, i: a.intersection(i), columns))\n",
    "    return common_columns\n",
    "\n",
    "# Using all dataframes loaded find all unique columns and display\n",
    "common_columns = find_common_columns(dataframes)\n",
    "common_columns"
   ]
  },
  {
   "cell_type": "code",
   "execution_count": 44,
   "id": "fef9ef95-7c0f-46a4-b92d-accafcc79c1b",
   "metadata": {
    "execution": {
     "iopub.execute_input": "2022-10-12T17:00:03.931503Z",
     "iopub.status.busy": "2022-10-12T17:00:03.931091Z",
     "iopub.status.idle": "2022-10-12T17:00:03.935962Z",
     "shell.execute_reply": "2022-10-12T17:00:03.935113Z",
     "shell.execute_reply.started": "2022-10-12T17:00:03.931475Z"
    }
   },
   "outputs": [
    {
     "name": "stdout",
     "output_type": "stream",
     "text": [
      "Number of Common Columns: 42\n"
     ]
    }
   ],
   "source": [
    "print(f\"Number of Common Columns: {len(common_columns)}\")"
   ]
  },
  {
   "cell_type": "markdown",
   "id": "39d3ca53-5d86-41b1-8203-6fcbff52e636",
   "metadata": {
    "tags": []
   },
   "source": [
    "#### (c) Either create your own meaningful schema based on the common columns in the dataset or use the schema presented on the slides"
   ]
  },
  {
   "cell_type": "code",
   "execution_count": 45,
   "id": "9db6f078-f0c0-4d0e-864e-f31d776c54c1",
   "metadata": {
    "execution": {
     "iopub.execute_input": "2022-10-12T17:00:09.029513Z",
     "iopub.status.busy": "2022-10-12T17:00:09.029133Z",
     "iopub.status.idle": "2022-10-12T17:00:09.037998Z",
     "shell.execute_reply": "2022-10-12T17:00:09.037154Z",
     "shell.execute_reply.started": "2022-10-12T17:00:09.029484Z"
    },
    "tags": []
   },
   "outputs": [],
   "source": [
    "# DTypes provided by Dr. Fitz in course slides\n",
    "\n",
    "dtypes = {\n",
    " 'Date First Observed': np.str_,\n",
    " 'Days Parking In Effect    ': np.str_,\n",
    " 'Double Parking Violation': np.str_,\n",
    " 'Feet From Curb': np.float32,\n",
    " 'From Hours In Effect': np.str_,\n",
    " 'House Number': np.str_,\n",
    " 'Hydrant Violation': np.str_,\n",
    " 'Intersecting Street': np.str_,\n",
    " 'Issue Date': np.str_,\n",
    " 'Issuer Code': np.float32,\n",
    " 'Issuer Command': np.str_,\n",
    " 'Issuer Precinct': np.float32,\n",
    " 'Issuer Squad': np.str_,\n",
    " 'Issuing Agency': np.str_,\n",
    " 'Law Section': np.float32,\n",
    " 'Meter Number': np.str_,\n",
    " 'No Standing or Stopping Violation': np.str_,\n",
    " 'Plate ID': np.str_,\n",
    " 'Plate Type': np.str_,\n",
    " 'Registration State': np.str_,\n",
    " 'Street Code1': np.uint32,\n",
    " 'Street Code2': np.uint32,\n",
    " 'Street Code3': np.uint32,\n",
    " 'Street Name': np.str_,\n",
    " 'Sub Division': np.str_,\n",
    " 'Summons Number': np.uint32,\n",
    " 'Time First Observed': np.str_,\n",
    " 'To Hours In Effect': np.str_,\n",
    " 'Unregistered Vehicle?': np.str_,\n",
    " 'Vehicle Body Type': np.str_,\n",
    " 'Vehicle Color': np.str_,\n",
    " 'Vehicle Expiration Date': np.str_,\n",
    " 'Vehicle Make': np.str_,\n",
    " 'Vehicle Year': np.uint32,\n",
    " 'Violation Code': np.uint16,\n",
    " 'Violation County': np.str_,\n",
    " 'Violation Description': np.str_,\n",
    " 'Violation In Front Of Or Opposite': np.str_,\n",
    " 'Violation Legal Code': np.str_,\n",
    " 'Violation Location': np.str_,\n",
    " 'Violation Post Code': np.str_,\n",
    " 'Violation Precinct': np.float32,\n",
    " 'Violation Time': np.str_\n",
    "}"
   ]
  },
  {
   "cell_type": "code",
   "execution_count": 46,
   "id": "006f9af9-44ce-429e-8cbb-99074ce5b8e1",
   "metadata": {
    "execution": {
     "iopub.execute_input": "2022-10-12T17:00:13.533927Z",
     "iopub.status.busy": "2022-10-12T17:00:13.533549Z",
     "iopub.status.idle": "2022-10-12T17:00:13.871670Z",
     "shell.execute_reply": "2022-10-12T17:00:13.870934Z",
     "shell.execute_reply.started": "2022-10-12T17:00:13.533900Z"
    },
    "tags": []
   },
   "outputs": [],
   "source": [
    "# Read in all CSVs with specified DTypes and all columns\n",
    "nyc_data_raw = dd.read_csv('s3://nyc-parking-violations-csv/*.csv', dtype=dtypes, usecols=common_columns)\n",
    "\n",
    "# client.persist(nyc_data_raw)"
   ]
  },
  {
   "cell_type": "markdown",
   "id": "ddc9d06a-22bc-4dff-95c3-d16ee0af3587",
   "metadata": {
    "tags": []
   },
   "source": [
    "#### (d) Find the percentage of missing values in the dataset"
   ]
  },
  {
   "cell_type": "code",
   "execution_count": 52,
   "id": "0a083179-8b1f-4aa6-a03c-1bb212c2c6be",
   "metadata": {
    "execution": {
     "iopub.execute_input": "2022-10-12T17:14:34.194284Z",
     "iopub.status.busy": "2022-10-12T17:14:34.193914Z",
     "iopub.status.idle": "2022-10-12T17:18:54.343557Z",
     "shell.execute_reply": "2022-10-12T17:18:54.342671Z",
     "shell.execute_reply.started": "2022-10-12T17:14:34.194259Z"
    },
    "tags": []
   },
   "outputs": [
    {
     "name": "stdout",
     "output_type": "stream",
     "text": [
      "CPU times: user 277 ms, sys: 41.5 ms, total: 318 ms\n",
      "Wall time: 4min 20s\n"
     ]
    },
    {
     "data": {
      "text/plain": [
       "Summons Number                         0.000000\n",
       "Plate ID                               0.002325\n",
       "Registration State                     0.000000\n",
       "Plate Type                             0.000000\n",
       "Issue Date                             0.000380\n",
       "Violation Code                         0.000000\n",
       "Vehicle Body Type                      0.325483\n",
       "Vehicle Make                           0.405139\n",
       "Issuing Agency                         0.000002\n",
       "Street Code1                           0.000000\n",
       "Street Code2                           0.000000\n",
       "Street Code3                           0.000000\n",
       "Vehicle Expiration Date                0.000000\n",
       "Violation Location                    28.558537\n",
       "Violation Precinct                     0.000000\n",
       "Issuer Precinct                        0.000000\n",
       "Issuer Code                            0.000000\n",
       "Issuer Command                        28.323948\n",
       "Issuer Squad                          29.064128\n",
       "Violation Time                         0.001230\n",
       "Time First Observed                   94.735404\n",
       "Violation County                       0.318927\n",
       "Violation In Front Of Or Opposite     28.936523\n",
       "House Number                          29.674973\n",
       "Street Name                            0.018440\n",
       "Intersecting Street                   60.889376\n",
       "Date First Observed                    0.000000\n",
       "Law Section                            0.000000\n",
       "Sub Division                           0.012136\n",
       "Violation Legal Code                  71.675816\n",
       "From Hours In Effect                  58.783212\n",
       "To Hours In Effect                    58.783246\n",
       "Vehicle Color                          3.632938\n",
       "Unregistered Vehicle?                 94.235296\n",
       "Vehicle Year                           0.000000\n",
       "Meter Number                          88.821984\n",
       "Feet From Curb                         0.000000\n",
       "Violation Post Code                   34.826575\n",
       "Violation Description                 34.524048\n",
       "No Standing or Stopping Violation    100.000000\n",
       "Hydrant Violation                    100.000000\n",
       "Double Parking Violation             100.000000\n",
       "dtype: float64"
      ]
     },
     "execution_count": 52,
     "metadata": {},
     "output_type": "execute_result"
    }
   ],
   "source": [
    "%%time\n",
    "\n",
    "# Find all null values in data set and sum them\n",
    "missing_values = nyc_data_raw.isnull().sum()\n",
    "\n",
    "# With the total number of null vals, find the percentage of each column\n",
    "with ProgressBar():\n",
    "    percent_missing = ((missing_values / nyc_data_raw.index.size) * 100).compute()\n",
    "percent_missing"
   ]
  },
  {
   "cell_type": "markdown",
   "id": "998f63c7-8188-47e7-9a46-4ccb46debc79",
   "metadata": {
    "tags": []
   },
   "source": [
    "#### (e) Drop columns with missing values >=50%"
   ]
  },
  {
   "cell_type": "code",
   "execution_count": 49,
   "id": "b49827a6-804a-4241-a7b8-3eb39e3c3a92",
   "metadata": {
    "execution": {
     "iopub.execute_input": "2022-10-12T17:07:50.723708Z",
     "iopub.status.busy": "2022-10-12T17:07:50.723332Z",
     "iopub.status.idle": "2022-10-12T17:07:54.385314Z",
     "shell.execute_reply": "2022-10-12T17:07:54.384483Z",
     "shell.execute_reply.started": "2022-10-12T17:07:50.723682Z"
    },
    "tags": []
   },
   "outputs": [
    {
     "data": {
      "text/html": [
       "<div>\n",
       "<style scoped>\n",
       "    .dataframe tbody tr th:only-of-type {\n",
       "        vertical-align: middle;\n",
       "    }\n",
       "\n",
       "    .dataframe tbody tr th {\n",
       "        vertical-align: top;\n",
       "    }\n",
       "\n",
       "    .dataframe thead th {\n",
       "        text-align: right;\n",
       "    }\n",
       "</style>\n",
       "<table border=\"1\" class=\"dataframe\">\n",
       "  <thead>\n",
       "    <tr style=\"text-align: right;\">\n",
       "      <th></th>\n",
       "      <th>Summons Number</th>\n",
       "      <th>Plate ID</th>\n",
       "      <th>Registration State</th>\n",
       "      <th>Plate Type</th>\n",
       "      <th>Issue Date</th>\n",
       "      <th>Violation Code</th>\n",
       "      <th>Vehicle Body Type</th>\n",
       "      <th>Vehicle Make</th>\n",
       "      <th>Issuing Agency</th>\n",
       "      <th>Street Code1</th>\n",
       "      <th>...</th>\n",
       "      <th>House Number</th>\n",
       "      <th>Street Name</th>\n",
       "      <th>Date First Observed</th>\n",
       "      <th>Law Section</th>\n",
       "      <th>Sub Division</th>\n",
       "      <th>Vehicle Color</th>\n",
       "      <th>Vehicle Year</th>\n",
       "      <th>Feet From Curb</th>\n",
       "      <th>Violation Post Code</th>\n",
       "      <th>Violation Description</th>\n",
       "    </tr>\n",
       "  </thead>\n",
       "  <tbody>\n",
       "    <tr>\n",
       "      <th>0</th>\n",
       "      <td>797502185</td>\n",
       "      <td>GZH7067</td>\n",
       "      <td>NY</td>\n",
       "      <td>PAS</td>\n",
       "      <td>07/10/2016</td>\n",
       "      <td>7</td>\n",
       "      <td>SUBN</td>\n",
       "      <td>TOYOT</td>\n",
       "      <td>V</td>\n",
       "      <td>0</td>\n",
       "      <td>...</td>\n",
       "      <td>NaN</td>\n",
       "      <td>ALLERTON AVE (W/B) @</td>\n",
       "      <td>0</td>\n",
       "      <td>1111.0</td>\n",
       "      <td>D</td>\n",
       "      <td>GY</td>\n",
       "      <td>2001</td>\n",
       "      <td>0.0</td>\n",
       "      <td>NaN</td>\n",
       "      <td>FAILURE TO STOP AT RED LIGHT</td>\n",
       "    </tr>\n",
       "    <tr>\n",
       "      <th>1</th>\n",
       "      <td>797484362</td>\n",
       "      <td>GZH7067</td>\n",
       "      <td>NY</td>\n",
       "      <td>PAS</td>\n",
       "      <td>07/08/2016</td>\n",
       "      <td>7</td>\n",
       "      <td>SUBN</td>\n",
       "      <td>TOYOT</td>\n",
       "      <td>V</td>\n",
       "      <td>0</td>\n",
       "      <td>...</td>\n",
       "      <td>NaN</td>\n",
       "      <td>ALLERTON AVE (W/B) @</td>\n",
       "      <td>0</td>\n",
       "      <td>1111.0</td>\n",
       "      <td>D</td>\n",
       "      <td>GY</td>\n",
       "      <td>2001</td>\n",
       "      <td>0.0</td>\n",
       "      <td>NaN</td>\n",
       "      <td>FAILURE TO STOP AT RED LIGHT</td>\n",
       "    </tr>\n",
       "    <tr>\n",
       "      <th>2</th>\n",
       "      <td>336666088</td>\n",
       "      <td>AVM7975</td>\n",
       "      <td>NY</td>\n",
       "      <td>PAS</td>\n",
       "      <td>03/09/2017</td>\n",
       "      <td>36</td>\n",
       "      <td>SUBN</td>\n",
       "      <td>GMC</td>\n",
       "      <td>V</td>\n",
       "      <td>0</td>\n",
       "      <td>...</td>\n",
       "      <td>NaN</td>\n",
       "      <td>WB LINDEN BLVD @ LIN</td>\n",
       "      <td>0</td>\n",
       "      <td>1180.0</td>\n",
       "      <td>B</td>\n",
       "      <td>GY</td>\n",
       "      <td>2010</td>\n",
       "      <td>0.0</td>\n",
       "      <td>NaN</td>\n",
       "      <td>PHTO SCHOOL ZN SPEED VIOLATION</td>\n",
       "    </tr>\n",
       "    <tr>\n",
       "      <th>3</th>\n",
       "      <td>3901589984</td>\n",
       "      <td>GWB7054</td>\n",
       "      <td>NY</td>\n",
       "      <td>PAS</td>\n",
       "      <td>01/18/2017</td>\n",
       "      <td>70</td>\n",
       "      <td>SUBN</td>\n",
       "      <td>TOYOT</td>\n",
       "      <td>T</td>\n",
       "      <td>59590</td>\n",
       "      <td>...</td>\n",
       "      <td>35-11</td>\n",
       "      <td>Prince St</td>\n",
       "      <td>0</td>\n",
       "      <td>408.0</td>\n",
       "      <td>j3</td>\n",
       "      <td>BL</td>\n",
       "      <td>2015</td>\n",
       "      <td>0.0</td>\n",
       "      <td>05</td>\n",
       "      <td>70A-Reg. Sticker Expired (NYS)</td>\n",
       "    </tr>\n",
       "    <tr>\n",
       "      <th>4</th>\n",
       "      <td>336217062</td>\n",
       "      <td>EXZ9820</td>\n",
       "      <td>NY</td>\n",
       "      <td>PAS</td>\n",
       "      <td>03/02/2017</td>\n",
       "      <td>36</td>\n",
       "      <td>4DSD</td>\n",
       "      <td>HONDA</td>\n",
       "      <td>V</td>\n",
       "      <td>0</td>\n",
       "      <td>...</td>\n",
       "      <td>NaN</td>\n",
       "      <td>WB FLATLANDS AVE @ E</td>\n",
       "      <td>0</td>\n",
       "      <td>1180.0</td>\n",
       "      <td>B</td>\n",
       "      <td>GR</td>\n",
       "      <td>1997</td>\n",
       "      <td>0.0</td>\n",
       "      <td>NaN</td>\n",
       "      <td>PHTO SCHOOL ZN SPEED VIOLATION</td>\n",
       "    </tr>\n",
       "  </tbody>\n",
       "</table>\n",
       "<p>5 rows × 32 columns</p>\n",
       "</div>"
      ],
      "text/plain": [
       "   Summons Number Plate ID Registration State Plate Type  Issue Date  \\\n",
       "0       797502185  GZH7067                 NY        PAS  07/10/2016   \n",
       "1       797484362  GZH7067                 NY        PAS  07/08/2016   \n",
       "2       336666088  AVM7975                 NY        PAS  03/09/2017   \n",
       "3      3901589984  GWB7054                 NY        PAS  01/18/2017   \n",
       "4       336217062  EXZ9820                 NY        PAS  03/02/2017   \n",
       "\n",
       "   Violation Code Vehicle Body Type Vehicle Make Issuing Agency  Street Code1  \\\n",
       "0               7              SUBN        TOYOT              V             0   \n",
       "1               7              SUBN        TOYOT              V             0   \n",
       "2              36              SUBN          GMC              V             0   \n",
       "3              70              SUBN        TOYOT              T         59590   \n",
       "4              36              4DSD        HONDA              V             0   \n",
       "\n",
       "   ...  House Number           Street Name Date First Observed Law Section  \\\n",
       "0  ...           NaN  ALLERTON AVE (W/B) @                   0      1111.0   \n",
       "1  ...           NaN  ALLERTON AVE (W/B) @                   0      1111.0   \n",
       "2  ...           NaN  WB LINDEN BLVD @ LIN                   0      1180.0   \n",
       "3  ...         35-11             Prince St                   0       408.0   \n",
       "4  ...           NaN  WB FLATLANDS AVE @ E                   0      1180.0   \n",
       "\n",
       "   Sub Division  Vehicle Color  Vehicle Year Feet From Curb  \\\n",
       "0             D             GY          2001            0.0   \n",
       "1             D             GY          2001            0.0   \n",
       "2             B             GY          2010            0.0   \n",
       "3            j3             BL          2015            0.0   \n",
       "4             B             GR          1997            0.0   \n",
       "\n",
       "  Violation Post Code           Violation Description  \n",
       "0                 NaN    FAILURE TO STOP AT RED LIGHT  \n",
       "1                 NaN    FAILURE TO STOP AT RED LIGHT  \n",
       "2                 NaN  PHTO SCHOOL ZN SPEED VIOLATION  \n",
       "3                  05  70A-Reg. Sticker Expired (NYS)  \n",
       "4                 NaN  PHTO SCHOOL ZN SPEED VIOLATION  \n",
       "\n",
       "[5 rows x 32 columns]"
      ]
     },
     "execution_count": 49,
     "metadata": {},
     "output_type": "execute_result"
    }
   ],
   "source": [
    "# If more than 50% of the column is missing, we will drop it and save new dataframe to new var\n",
    "with ProgressBar():\n",
    "    columns_to_drop = list(percent_missing[percent_missing >= 50].index)\n",
    "    nyc_data_clean_stage1 = nyc_data_raw.drop(columns_to_drop, axis=1)\n",
    "    \n",
    "nyc_data_clean_stage1.head()"
   ]
  },
  {
   "cell_type": "markdown",
   "id": "6d4077e7-03ba-4c9f-a467-3749bc78e83d",
   "metadata": {
    "tags": []
   },
   "source": [
    "#### (f) Impute the most common vehicle color into the records that are missing a vehicle color\n"
   ]
  },
  {
   "cell_type": "code",
   "execution_count": 55,
   "id": "d73e421a-411f-463e-8590-8166f4abfe29",
   "metadata": {
    "execution": {
     "iopub.execute_input": "2022-10-12T17:23:08.745609Z",
     "iopub.status.busy": "2022-10-12T17:23:08.744739Z",
     "iopub.status.idle": "2022-10-12T17:25:57.983592Z",
     "shell.execute_reply": "2022-10-12T17:25:57.982714Z",
     "shell.execute_reply.started": "2022-10-12T17:23:08.745552Z"
    },
    "tags": []
   },
   "outputs": [
    {
     "name": "stdout",
     "output_type": "stream",
     "text": [
      "The most common color was: GY\n"
     ]
    }
   ],
   "source": [
    "# With the cleaned data, get the count of car colors\n",
    "with ProgressBar():\n",
    "    count_of_vehicle_colors = nyc_data_clean_stage1['Vehicle Color'].value_counts().compute()\n",
    "\n",
    "# Find the most common color and fill all null colors with it. \n",
    "most_common_color = count_of_vehicle_colors.sort_values(ascending=False).index[0]\n",
    "print(f\"The most common color was: {most_common_color}\")\n",
    "nyc_data_clean_stage2 = nyc_data_clean_stage1.fillna({'Vehicle Color': most_common_color})"
   ]
  },
  {
   "cell_type": "markdown",
   "id": "92882a9a-a58d-49bf-904e-5d15b41b175b",
   "metadata": {
    "tags": []
   },
   "source": [
    "#### (g) Drop rows with missing values of <= 5%\n"
   ]
  },
  {
   "cell_type": "code",
   "execution_count": 59,
   "id": "c3a3821c-054f-49f6-bac4-a636d3bf7163",
   "metadata": {
    "execution": {
     "iopub.execute_input": "2022-10-12T17:42:54.707044Z",
     "iopub.status.busy": "2022-10-12T17:42:54.706666Z",
     "iopub.status.idle": "2022-10-12T17:42:54.719524Z",
     "shell.execute_reply": "2022-10-12T17:42:54.718827Z",
     "shell.execute_reply.started": "2022-10-12T17:42:54.707017Z"
    },
    "tags": []
   },
   "outputs": [],
   "source": [
    "# If a row has 0 to 4.99999 percent, it will be kept. Otherwise, drop the row. \n",
    "rows_to_drop = list(percent_missing[(percent_missing > 0) & (percent_missing <= 5)].index)\n",
    "nyc_data_clean_stage3 = nyc_data_clean_stage2.dropna(subset=rows_to_drop)"
   ]
  },
  {
   "cell_type": "code",
   "execution_count": 57,
   "id": "4307d20a-804a-44c3-a49b-c5cda456cd8b",
   "metadata": {
    "execution": {
     "iopub.execute_input": "2022-10-12T17:30:29.906942Z",
     "iopub.status.busy": "2022-10-12T17:30:29.906496Z",
     "iopub.status.idle": "2022-10-12T17:33:29.007873Z",
     "shell.execute_reply": "2022-10-12T17:33:29.006943Z",
     "shell.execute_reply.started": "2022-10-12T17:30:29.906907Z"
    },
    "tags": []
   },
   "outputs": [
    {
     "name": "stdout",
     "output_type": "stream",
     "text": [
      "80012109\n"
     ]
    }
   ],
   "source": [
    "# Before we drop the rows with <= 5% missing\n",
    "with ProgressBar():\n",
    "    print(len(nyc_data_clean_stage2))"
   ]
  },
  {
   "cell_type": "code",
   "execution_count": 58,
   "id": "0d8da664-f4e0-42d1-979e-74f03feec598",
   "metadata": {
    "execution": {
     "iopub.execute_input": "2022-10-12T17:33:29.009878Z",
     "iopub.status.busy": "2022-10-12T17:33:29.009553Z",
     "iopub.status.idle": "2022-10-12T17:37:25.306345Z",
     "shell.execute_reply": "2022-10-12T17:37:25.305433Z",
     "shell.execute_reply.started": "2022-10-12T17:33:29.009846Z"
    },
    "tags": []
   },
   "outputs": [
    {
     "name": "stdout",
     "output_type": "stream",
     "text": [
      "79245726\n"
     ]
    }
   ],
   "source": [
    "# After we drop the rows with <= 5% missing\n",
    "with ProgressBar():\n",
    "    print(len(nyc_data_clean_stage3))"
   ]
  },
  {
   "cell_type": "markdown",
   "id": "144f7196-a162-4f81-888d-da45f8de3e93",
   "metadata": {
    "tags": []
   },
   "source": [
    "#### (h) Fill the missing values with the default value of \"Unknown\" for any column of string data type that has more than 5% missing values and less than 50% missing values.\n"
   ]
  },
  {
   "cell_type": "code",
   "execution_count": 19,
   "id": "0daedd0d-ceb2-450d-ba51-fad85bb27a2d",
   "metadata": {
    "execution": {
     "iopub.execute_input": "2022-10-12T15:31:07.058194Z",
     "iopub.status.busy": "2022-10-12T15:31:07.057789Z",
     "iopub.status.idle": "2022-10-12T15:31:07.066021Z",
     "shell.execute_reply": "2022-10-12T15:31:07.065071Z",
     "shell.execute_reply.started": "2022-10-12T15:31:07.058167Z"
    }
   },
   "outputs": [
    {
     "data": {
      "text/plain": [
       "Violation Location                   object\n",
       "Issuer Command                       object\n",
       "Issuer Squad                         object\n",
       "Violation In Front Of Or Opposite    object\n",
       "House Number                         object\n",
       "Violation Post Code                  object\n",
       "Violation Description                object\n",
       "dtype: object"
      ]
     },
     "execution_count": 19,
     "metadata": {},
     "output_type": "execute_result"
    }
   ],
   "source": [
    "# Gather columns still left to be replaces with \"Unknown\"\n",
    "remaining_columns_to_clean = list(percent_missing[(percent_missing >= 5) & (percent_missing < 50)].index)\n",
    "nyc_data_raw.dtypes[remaining_columns_to_clean]"
   ]
  },
  {
   "cell_type": "code",
   "execution_count": 61,
   "id": "7c1b2248-2d83-49bb-abb6-3d525850cee3",
   "metadata": {
    "execution": {
     "iopub.execute_input": "2022-10-12T17:46:09.230997Z",
     "iopub.status.busy": "2022-10-12T17:46:09.230614Z",
     "iopub.status.idle": "2022-10-12T17:46:09.248998Z",
     "shell.execute_reply": "2022-10-12T17:46:09.248116Z",
     "shell.execute_reply.started": "2022-10-12T17:46:09.230969Z"
    },
    "tags": []
   },
   "outputs": [],
   "source": [
    "# For each of the remaining columns, build a dict with the column name and \"Unknown\"\n",
    "unknown_default_dict = dict(map(lambda columnName: (columnName, 'Unknown'), remaining_columns_to_clean))\n",
    "# Fill each null value according to the key value pairs from the dict\n",
    "nyc_data_clean_stage4 = nyc_data_clean_stage3.fillna(unknown_default_dict)"
   ]
  },
  {
   "cell_type": "code",
   "execution_count": 62,
   "id": "a1694d26-330b-4b0b-89bf-330088a7e9fd",
   "metadata": {
    "execution": {
     "iopub.execute_input": "2022-10-12T17:46:45.541760Z",
     "iopub.status.busy": "2022-10-12T17:46:45.541377Z",
     "iopub.status.idle": "2022-10-12T17:52:45.506190Z",
     "shell.execute_reply": "2022-10-12T17:52:45.350376Z",
     "shell.execute_reply.started": "2022-10-12T17:46:45.541734Z"
    },
    "tags": []
   },
   "outputs": [
    {
     "data": {
      "text/plain": [
       "Summons Number                       0\n",
       "Plate ID                             0\n",
       "Registration State                   0\n",
       "Plate Type                           0\n",
       "Issue Date                           0\n",
       "Violation Code                       0\n",
       "Vehicle Body Type                    0\n",
       "Vehicle Make                         0\n",
       "Issuing Agency                       0\n",
       "Street Code1                         0\n",
       "Street Code2                         0\n",
       "Street Code3                         0\n",
       "Vehicle Expiration Date              0\n",
       "Violation Location                   0\n",
       "Violation Precinct                   0\n",
       "Issuer Precinct                      0\n",
       "Issuer Code                          0\n",
       "Issuer Command                       0\n",
       "Issuer Squad                         0\n",
       "Violation Time                       0\n",
       "Violation County                     0\n",
       "Violation In Front Of Or Opposite    0\n",
       "House Number                         0\n",
       "Street Name                          0\n",
       "Date First Observed                  0\n",
       "Law Section                          0\n",
       "Sub Division                         0\n",
       "Vehicle Color                        0\n",
       "Vehicle Year                         0\n",
       "Feet From Curb                       0\n",
       "Violation Post Code                  0\n",
       "Violation Description                0\n",
       "dtype: int64"
      ]
     },
     "metadata": {},
     "output_type": "display_data"
    },
    {
     "data": {
      "text/html": [
       "<div><strong>Dask DataFrame Structure:</strong></div>\n",
       "<div>\n",
       "<style scoped>\n",
       "    .dataframe tbody tr th:only-of-type {\n",
       "        vertical-align: middle;\n",
       "    }\n",
       "\n",
       "    .dataframe tbody tr th {\n",
       "        vertical-align: top;\n",
       "    }\n",
       "\n",
       "    .dataframe thead th {\n",
       "        text-align: right;\n",
       "    }\n",
       "</style>\n",
       "<table border=\"1\" class=\"dataframe\">\n",
       "  <thead>\n",
       "    <tr style=\"text-align: right;\">\n",
       "      <th></th>\n",
       "      <th>Summons Number</th>\n",
       "      <th>Plate ID</th>\n",
       "      <th>Registration State</th>\n",
       "      <th>Plate Type</th>\n",
       "      <th>Issue Date</th>\n",
       "      <th>Violation Code</th>\n",
       "      <th>Vehicle Body Type</th>\n",
       "      <th>Vehicle Make</th>\n",
       "      <th>Issuing Agency</th>\n",
       "      <th>Street Code1</th>\n",
       "      <th>Street Code2</th>\n",
       "      <th>Street Code3</th>\n",
       "      <th>Vehicle Expiration Date</th>\n",
       "      <th>Violation Location</th>\n",
       "      <th>Violation Precinct</th>\n",
       "      <th>Issuer Precinct</th>\n",
       "      <th>Issuer Code</th>\n",
       "      <th>Issuer Command</th>\n",
       "      <th>Issuer Squad</th>\n",
       "      <th>Violation Time</th>\n",
       "      <th>Violation County</th>\n",
       "      <th>Violation In Front Of Or Opposite</th>\n",
       "      <th>House Number</th>\n",
       "      <th>Street Name</th>\n",
       "      <th>Date First Observed</th>\n",
       "      <th>Law Section</th>\n",
       "      <th>Sub Division</th>\n",
       "      <th>Vehicle Color</th>\n",
       "      <th>Vehicle Year</th>\n",
       "      <th>Feet From Curb</th>\n",
       "      <th>Violation Post Code</th>\n",
       "      <th>Violation Description</th>\n",
       "    </tr>\n",
       "    <tr>\n",
       "      <th>npartitions=228</th>\n",
       "      <th></th>\n",
       "      <th></th>\n",
       "      <th></th>\n",
       "      <th></th>\n",
       "      <th></th>\n",
       "      <th></th>\n",
       "      <th></th>\n",
       "      <th></th>\n",
       "      <th></th>\n",
       "      <th></th>\n",
       "      <th></th>\n",
       "      <th></th>\n",
       "      <th></th>\n",
       "      <th></th>\n",
       "      <th></th>\n",
       "      <th></th>\n",
       "      <th></th>\n",
       "      <th></th>\n",
       "      <th></th>\n",
       "      <th></th>\n",
       "      <th></th>\n",
       "      <th></th>\n",
       "      <th></th>\n",
       "      <th></th>\n",
       "      <th></th>\n",
       "      <th></th>\n",
       "      <th></th>\n",
       "      <th></th>\n",
       "      <th></th>\n",
       "      <th></th>\n",
       "      <th></th>\n",
       "      <th></th>\n",
       "    </tr>\n",
       "  </thead>\n",
       "  <tbody>\n",
       "    <tr>\n",
       "      <th></th>\n",
       "      <td>uint32</td>\n",
       "      <td>object</td>\n",
       "      <td>object</td>\n",
       "      <td>object</td>\n",
       "      <td>object</td>\n",
       "      <td>uint16</td>\n",
       "      <td>object</td>\n",
       "      <td>object</td>\n",
       "      <td>object</td>\n",
       "      <td>uint32</td>\n",
       "      <td>uint32</td>\n",
       "      <td>uint32</td>\n",
       "      <td>object</td>\n",
       "      <td>object</td>\n",
       "      <td>float32</td>\n",
       "      <td>float32</td>\n",
       "      <td>float32</td>\n",
       "      <td>object</td>\n",
       "      <td>object</td>\n",
       "      <td>object</td>\n",
       "      <td>object</td>\n",
       "      <td>object</td>\n",
       "      <td>object</td>\n",
       "      <td>object</td>\n",
       "      <td>object</td>\n",
       "      <td>float32</td>\n",
       "      <td>object</td>\n",
       "      <td>object</td>\n",
       "      <td>uint32</td>\n",
       "      <td>float32</td>\n",
       "      <td>object</td>\n",
       "      <td>object</td>\n",
       "    </tr>\n",
       "    <tr>\n",
       "      <th></th>\n",
       "      <td>...</td>\n",
       "      <td>...</td>\n",
       "      <td>...</td>\n",
       "      <td>...</td>\n",
       "      <td>...</td>\n",
       "      <td>...</td>\n",
       "      <td>...</td>\n",
       "      <td>...</td>\n",
       "      <td>...</td>\n",
       "      <td>...</td>\n",
       "      <td>...</td>\n",
       "      <td>...</td>\n",
       "      <td>...</td>\n",
       "      <td>...</td>\n",
       "      <td>...</td>\n",
       "      <td>...</td>\n",
       "      <td>...</td>\n",
       "      <td>...</td>\n",
       "      <td>...</td>\n",
       "      <td>...</td>\n",
       "      <td>...</td>\n",
       "      <td>...</td>\n",
       "      <td>...</td>\n",
       "      <td>...</td>\n",
       "      <td>...</td>\n",
       "      <td>...</td>\n",
       "      <td>...</td>\n",
       "      <td>...</td>\n",
       "      <td>...</td>\n",
       "      <td>...</td>\n",
       "      <td>...</td>\n",
       "      <td>...</td>\n",
       "    </tr>\n",
       "    <tr>\n",
       "      <th>...</th>\n",
       "      <td>...</td>\n",
       "      <td>...</td>\n",
       "      <td>...</td>\n",
       "      <td>...</td>\n",
       "      <td>...</td>\n",
       "      <td>...</td>\n",
       "      <td>...</td>\n",
       "      <td>...</td>\n",
       "      <td>...</td>\n",
       "      <td>...</td>\n",
       "      <td>...</td>\n",
       "      <td>...</td>\n",
       "      <td>...</td>\n",
       "      <td>...</td>\n",
       "      <td>...</td>\n",
       "      <td>...</td>\n",
       "      <td>...</td>\n",
       "      <td>...</td>\n",
       "      <td>...</td>\n",
       "      <td>...</td>\n",
       "      <td>...</td>\n",
       "      <td>...</td>\n",
       "      <td>...</td>\n",
       "      <td>...</td>\n",
       "      <td>...</td>\n",
       "      <td>...</td>\n",
       "      <td>...</td>\n",
       "      <td>...</td>\n",
       "      <td>...</td>\n",
       "      <td>...</td>\n",
       "      <td>...</td>\n",
       "      <td>...</td>\n",
       "    </tr>\n",
       "    <tr>\n",
       "      <th></th>\n",
       "      <td>...</td>\n",
       "      <td>...</td>\n",
       "      <td>...</td>\n",
       "      <td>...</td>\n",
       "      <td>...</td>\n",
       "      <td>...</td>\n",
       "      <td>...</td>\n",
       "      <td>...</td>\n",
       "      <td>...</td>\n",
       "      <td>...</td>\n",
       "      <td>...</td>\n",
       "      <td>...</td>\n",
       "      <td>...</td>\n",
       "      <td>...</td>\n",
       "      <td>...</td>\n",
       "      <td>...</td>\n",
       "      <td>...</td>\n",
       "      <td>...</td>\n",
       "      <td>...</td>\n",
       "      <td>...</td>\n",
       "      <td>...</td>\n",
       "      <td>...</td>\n",
       "      <td>...</td>\n",
       "      <td>...</td>\n",
       "      <td>...</td>\n",
       "      <td>...</td>\n",
       "      <td>...</td>\n",
       "      <td>...</td>\n",
       "      <td>...</td>\n",
       "      <td>...</td>\n",
       "      <td>...</td>\n",
       "      <td>...</td>\n",
       "    </tr>\n",
       "    <tr>\n",
       "      <th></th>\n",
       "      <td>...</td>\n",
       "      <td>...</td>\n",
       "      <td>...</td>\n",
       "      <td>...</td>\n",
       "      <td>...</td>\n",
       "      <td>...</td>\n",
       "      <td>...</td>\n",
       "      <td>...</td>\n",
       "      <td>...</td>\n",
       "      <td>...</td>\n",
       "      <td>...</td>\n",
       "      <td>...</td>\n",
       "      <td>...</td>\n",
       "      <td>...</td>\n",
       "      <td>...</td>\n",
       "      <td>...</td>\n",
       "      <td>...</td>\n",
       "      <td>...</td>\n",
       "      <td>...</td>\n",
       "      <td>...</td>\n",
       "      <td>...</td>\n",
       "      <td>...</td>\n",
       "      <td>...</td>\n",
       "      <td>...</td>\n",
       "      <td>...</td>\n",
       "      <td>...</td>\n",
       "      <td>...</td>\n",
       "      <td>...</td>\n",
       "      <td>...</td>\n",
       "      <td>...</td>\n",
       "      <td>...</td>\n",
       "      <td>...</td>\n",
       "    </tr>\n",
       "  </tbody>\n",
       "</table>\n",
       "</div>\n",
       "<div>Dask Name: fillna, 228 tasks</div>"
      ],
      "text/plain": [
       "Dask DataFrame Structure:\n",
       "                Summons Number Plate ID Registration State Plate Type Issue Date Violation Code Vehicle Body Type Vehicle Make Issuing Agency Street Code1 Street Code2 Street Code3 Vehicle Expiration Date Violation Location Violation Precinct Issuer Precinct Issuer Code Issuer Command Issuer Squad Violation Time Violation County Violation In Front Of Or Opposite House Number Street Name Date First Observed Law Section Sub Division Vehicle Color Vehicle Year Feet From Curb Violation Post Code Violation Description\n",
       "npartitions=228                                                                                                                                                                                                                                                                                                                                                                                                                                                                                                                       \n",
       "                        uint32   object             object     object     object         uint16            object       object         object       uint32       uint32       uint32                  object             object            float32         float32     float32         object       object         object           object                            object       object      object              object     float32       object        object       uint32        float32              object                object\n",
       "                           ...      ...                ...        ...        ...            ...               ...          ...            ...          ...          ...          ...                     ...                ...                ...             ...         ...            ...          ...            ...              ...                               ...          ...         ...                 ...         ...          ...           ...          ...            ...                 ...                   ...\n",
       "...                        ...      ...                ...        ...        ...            ...               ...          ...            ...          ...          ...          ...                     ...                ...                ...             ...         ...            ...          ...            ...              ...                               ...          ...         ...                 ...         ...          ...           ...          ...            ...                 ...                   ...\n",
       "                           ...      ...                ...        ...        ...            ...               ...          ...            ...          ...          ...          ...                     ...                ...                ...             ...         ...            ...          ...            ...              ...                               ...          ...         ...                 ...         ...          ...           ...          ...            ...                 ...                   ...\n",
       "                           ...      ...                ...        ...        ...            ...               ...          ...            ...          ...          ...          ...                     ...                ...                ...             ...         ...            ...          ...            ...              ...                               ...          ...         ...                 ...         ...          ...           ...          ...            ...                 ...                   ...\n",
       "Dask Name: fillna, 228 tasks"
      ]
     },
     "execution_count": 62,
     "metadata": {},
     "output_type": "execute_result"
    }
   ],
   "source": [
    "# Prove all data isn't null anymore\n",
    "with ProgressBar():\n",
    "    display(nyc_data_clean_stage4.isnull().sum().compute())\n",
    "nyc_data_clean_stage4.persist()"
   ]
  },
  {
   "cell_type": "markdown",
   "id": "924bf2f5-da9d-4efc-a2a3-31add8f71ca5",
   "metadata": {
    "tags": []
   },
   "source": [
    "#### (i) Recode the Plate Type column to have only 3 types (PAS, COM, and Other). That is, change all plate types that are not PAS or COM to \"Other\".\n"
   ]
  },
  {
   "cell_type": "code",
   "execution_count": 63,
   "id": "6566cb41-08ba-4815-a129-f686fcf210e4",
   "metadata": {
    "execution": {
     "iopub.execute_input": "2022-10-12T17:52:54.970794Z",
     "iopub.status.busy": "2022-10-12T17:52:54.970398Z",
     "iopub.status.idle": "2022-10-12T17:57:37.332067Z",
     "shell.execute_reply": "2022-10-12T17:57:37.331405Z",
     "shell.execute_reply.started": "2022-10-12T17:52:54.970767Z"
    },
    "tags": []
   },
   "outputs": [
    {
     "data": {
      "text/plain": [
       "PAS    61087763\n",
       "COM    11360044\n",
       "OMT     3073905\n",
       "SRF      763229\n",
       "OMS      749176\n",
       "         ...   \n",
       "GAC           8\n",
       "JWV           8\n",
       "SNO           4\n",
       "HIF           3\n",
       "LOC           3\n",
       "Name: Plate Type, Length: 90, dtype: int64"
      ]
     },
     "metadata": {},
     "output_type": "display_data"
    }
   ],
   "source": [
    "# Show original plate type count\n",
    "with ProgressBar():\n",
    "    display(nyc_data_clean_stage4['Plate Type'].value_counts().compute())"
   ]
  },
  {
   "cell_type": "code",
   "execution_count": 64,
   "id": "37861486-96df-4ade-9f9b-45b7a4826a6d",
   "metadata": {
    "execution": {
     "iopub.execute_input": "2022-10-12T17:57:37.334508Z",
     "iopub.status.busy": "2022-10-12T17:57:37.333872Z",
     "iopub.status.idle": "2022-10-12T17:57:37.361436Z",
     "shell.execute_reply": "2022-10-12T17:57:37.360755Z",
     "shell.execute_reply.started": "2022-10-12T17:57:37.334473Z"
    },
    "tags": []
   },
   "outputs": [],
   "source": [
    "# isin returns True if the value is contained in the list of objects, otherwise false\n",
    "condition = nyc_data_clean_stage4['Plate Type'].isin(['PAS', 'COM'])\n",
    "\n",
    "# Find records where the condition is satisfied; replace all others with ‘Other’\n",
    "plate_type_masked = nyc_data_clean_stage4['Plate Type'].where(condition, 'Other')\n",
    "\n",
    "# Drop the old Plate Type column completely\n",
    "nyc_data_recode_stage1 = nyc_data_clean_stage4.drop('Plate Type', axis=1)\n",
    "\n",
    "# Create a new column named PlateType with the updated data\n",
    "nyc_data_recode_stage2 = nyc_data_recode_stage1.assign(PlateType=plate_type_masked)\n",
    "\n",
    "# Rename this new column to the original \"Plate Type\"\n",
    "nyc_data_recode_stage3 = nyc_data_recode_stage2.rename(columns={'PlateType': 'Plate Type'})"
   ]
  },
  {
   "cell_type": "code",
   "execution_count": 65,
   "id": "2d1de446-2978-4c06-aee7-a4451f115f3c",
   "metadata": {
    "execution": {
     "iopub.execute_input": "2022-10-12T17:57:37.363133Z",
     "iopub.status.busy": "2022-10-12T17:57:37.362806Z",
     "iopub.status.idle": "2022-10-12T18:03:04.789968Z",
     "shell.execute_reply": "2022-10-12T18:03:04.789119Z",
     "shell.execute_reply.started": "2022-10-12T17:57:37.363101Z"
    },
    "tags": []
   },
   "outputs": [
    {
     "data": {
      "text/plain": [
       "PAS      61087763\n",
       "COM      11360044\n",
       "Other     6797919\n",
       "Name: Plate Type, dtype: int64"
      ]
     },
     "metadata": {},
     "output_type": "display_data"
    }
   ],
   "source": [
    "# Show updated plate type count\n",
    "with ProgressBar():\n",
    "    display(nyc_data_recode_stage3['Plate Type'].value_counts().compute())"
   ]
  },
  {
   "cell_type": "markdown",
   "id": "3b9323ed-1c81-43ca-b966-ee2060561d34",
   "metadata": {
    "tags": []
   },
   "source": [
    "#### (j) Change all vehicle colors that appear only once to \"Other\"\n"
   ]
  },
  {
   "cell_type": "code",
   "execution_count": 66,
   "id": "693ef4b1-d522-4910-8853-05de01715866",
   "metadata": {
    "execution": {
     "iopub.execute_input": "2022-10-12T18:03:04.792997Z",
     "iopub.status.busy": "2022-10-12T18:03:04.792108Z",
     "iopub.status.idle": "2022-10-12T18:08:34.108148Z",
     "shell.execute_reply": "2022-10-12T18:08:34.107244Z",
     "shell.execute_reply.started": "2022-10-12T18:03:04.792931Z"
    },
    "tags": []
   },
   "outputs": [
    {
     "data": {
      "text/plain": [
       "GY       17063924\n",
       "WH       14163643\n",
       "BK       12576097\n",
       "WHITE     7186696\n",
       "BL        4860439\n",
       "           ...   \n",
       "HGN             1\n",
       "HGRY            1\n",
       "HGY             1\n",
       "HIK             1\n",
       "`BRN            1\n",
       "Name: Vehicle Color, Length: 4743, dtype: int64"
      ]
     },
     "metadata": {},
     "output_type": "display_data"
    }
   ],
   "source": [
    "# Show original color counts\n",
    "with ProgressBar():\n",
    "    display(nyc_data_recode_stage3['Vehicle Color'].value_counts().compute())"
   ]
  },
  {
   "cell_type": "code",
   "execution_count": 67,
   "id": "f100f371-59e8-4f79-abc8-72da1bb0d6dd",
   "metadata": {
    "execution": {
     "iopub.execute_input": "2022-10-12T18:08:34.109967Z",
     "iopub.status.busy": "2022-10-12T18:08:34.109278Z",
     "iopub.status.idle": "2022-10-12T18:08:34.139797Z",
     "shell.execute_reply": "2022-10-12T18:08:34.139120Z",
     "shell.execute_reply.started": "2022-10-12T18:08:34.109932Z"
    },
    "tags": []
   },
   "outputs": [],
   "source": [
    "# List for colors that appear once\n",
    "single_color = list(count_of_vehicle_colors[count_of_vehicle_colors==1].index)\n",
    "\n",
    "# Bool for mask in vehicle color\n",
    "condition = nyc_data_clean_stage4['Vehicle Color'].isin(single_color)\n",
    "\n",
    "# Mask vehicle color\n",
    "vehicle_color_masked = nyc_data_clean_stage4['Vehicle Color'].mask(condition, 'Other')\n",
    "\n",
    "# Drop column old\n",
    "nyc_data_recode_stage4 = nyc_data_recode_stage3.drop('Vehicle Color', axis=1)\n",
    "\n",
    "# Assign new column\n",
    "nyc_data_recode_stage5 = nyc_data_recode_stage4.assign(VehicleColor=vehicle_color_masked)\n",
    "\n",
    "# Rename column to proper form\n",
    "nyc_data_recode_stage6 = nyc_data_recode_stage5.rename(columns={'VehicleColor':'Vehicle Color'})"
   ]
  },
  {
   "cell_type": "code",
   "execution_count": 68,
   "id": "cc1212ca-bf09-4b44-a055-d2c41e620771",
   "metadata": {
    "execution": {
     "iopub.execute_input": "2022-10-12T18:08:34.141065Z",
     "iopub.status.busy": "2022-10-12T18:08:34.140767Z",
     "iopub.status.idle": "2022-10-12T18:14:33.623676Z",
     "shell.execute_reply": "2022-10-12T18:14:33.623001Z",
     "shell.execute_reply.started": "2022-10-12T18:08:34.141035Z"
    },
    "tags": []
   },
   "outputs": [
    {
     "data": {
      "text/plain": [
       "GY       17063924\n",
       "WH       14163643\n",
       "BK       12576097\n",
       "WHITE     7186696\n",
       "BL        4860439\n",
       "           ...   \n",
       "WIL             1\n",
       "BLU/B           1\n",
       "BK W            1\n",
       "UD              1\n",
       "OB              1\n",
       "Name: Vehicle Color, Length: 2585, dtype: int64"
      ]
     },
     "metadata": {},
     "output_type": "display_data"
    }
   ],
   "source": [
    "# Show updated color counts \n",
    "with ProgressBar():\n",
    "    display(nyc_data_recode_stage6['Vehicle Color'].value_counts().compute())"
   ]
  },
  {
   "cell_type": "markdown",
   "id": "ab9111fd-5e7e-4b85-b9cf-6ba3f8dd13b5",
   "metadata": {
    "tags": []
   },
   "source": [
    "#### (k) Convert the data type of the Issue Date column to date\n"
   ]
  },
  {
   "cell_type": "code",
   "execution_count": 70,
   "id": "3cc07591-ab80-4cc0-9c91-63b95905d9e3",
   "metadata": {
    "execution": {
     "iopub.execute_input": "2022-10-12T18:14:33.642834Z",
     "iopub.status.busy": "2022-10-12T18:14:33.642308Z",
     "iopub.status.idle": "2022-10-12T18:14:38.936917Z",
     "shell.execute_reply": "2022-10-12T18:14:38.936094Z",
     "shell.execute_reply.started": "2022-10-12T18:14:33.642793Z"
    },
    "tags": []
   },
   "outputs": [
    {
     "data": {
      "text/plain": [
       "0    07/10/2016\n",
       "1    07/08/2016\n",
       "2    03/09/2017\n",
       "3    01/18/2017\n",
       "4    03/02/2017\n",
       "Name: Issue Date, dtype: object"
      ]
     },
     "metadata": {},
     "output_type": "display_data"
    }
   ],
   "source": [
    "# Date data before\n",
    "with ProgressBar():\n",
    "    display(nyc_data_recode_stage6['Issue Date'].head())"
   ]
  },
  {
   "cell_type": "code",
   "execution_count": 71,
   "id": "c46910c2-c38e-41ac-adce-04c04301b752",
   "metadata": {
    "execution": {
     "iopub.execute_input": "2022-10-12T18:14:38.938795Z",
     "iopub.status.busy": "2022-10-12T18:14:38.938259Z",
     "iopub.status.idle": "2022-10-12T18:14:38.967459Z",
     "shell.execute_reply": "2022-10-12T18:14:38.966734Z",
     "shell.execute_reply.started": "2022-10-12T18:14:38.938761Z"
    },
    "scrolled": true,
    "tags": []
   },
   "outputs": [
    {
     "name": "stderr",
     "output_type": "stream",
     "text": [
      "/opt/saturncloud/envs/saturn/lib/python3.9/site-packages/dask/dataframe/core.py:6335: FutureWarning: Meta is not valid, `map_partitions` expects output to be a pandas object. Try passing a pandas object as meta or a dict or tuple representing the (name, dtype) of the columns. In the future the meta you passed will not work.\n",
      "  warnings.warn(\n"
     ]
    }
   ],
   "source": [
    "# Parse the issue date column and correct it with a proper format\n",
    "issue_date_parsed = nyc_data_recode_stage6['Issue Date'].apply(lambda x: datetime.strptime(x[:10], \"%m/%d/%Y\"), meta=datetime)\n",
    "nyc_data_derived_stage1 = nyc_data_recode_stage6.drop('Issue Date', axis=1)\n",
    "nyc_data_derived_stage2 = nyc_data_derived_stage1.assign(IssueDate=issue_date_parsed)\n",
    "nyc_data_derived_stage3 = nyc_data_derived_stage2.rename(columns={'IssueDate':'Issue Date'})"
   ]
  },
  {
   "cell_type": "code",
   "execution_count": 72,
   "id": "2e6a25cd-0688-45fd-bc4a-1049c95f6c82",
   "metadata": {
    "execution": {
     "iopub.execute_input": "2022-10-12T18:14:38.968976Z",
     "iopub.status.busy": "2022-10-12T18:14:38.968668Z",
     "iopub.status.idle": "2022-10-12T18:14:46.725552Z",
     "shell.execute_reply": "2022-10-12T18:14:46.724845Z",
     "shell.execute_reply.started": "2022-10-12T18:14:38.968945Z"
    },
    "tags": []
   },
   "outputs": [
    {
     "data": {
      "text/plain": [
       "0   2016-07-10\n",
       "1   2016-07-08\n",
       "2   2017-03-09\n",
       "3   2017-01-18\n",
       "4   2017-03-02\n",
       "Name: Issue Date, dtype: datetime64[ns]"
      ]
     },
     "metadata": {},
     "output_type": "display_data"
    }
   ],
   "source": [
    "# Date data after correction\n",
    "with ProgressBar():\n",
    "    display(nyc_data_derived_stage3['Issue Date'].head())"
   ]
  },
  {
   "cell_type": "markdown",
   "id": "33316908-c03f-4048-8499-0945bef6aabf",
   "metadata": {
    "tags": []
   },
   "source": [
    "#### (l) Create a new column named \"Citation Issued Month Year\" that has a string representation of the month/year that the citation was issued (example: \"202109\" for September 2021.)"
   ]
  },
  {
   "cell_type": "code",
   "execution_count": 73,
   "id": "81cb0e61-e959-4dd8-b306-93b99d3bffda",
   "metadata": {
    "execution": {
     "iopub.execute_input": "2022-10-12T18:14:46.727468Z",
     "iopub.status.busy": "2022-10-12T18:14:46.726473Z",
     "iopub.status.idle": "2022-10-12T18:14:46.752307Z",
     "shell.execute_reply": "2022-10-12T18:14:46.751422Z",
     "shell.execute_reply.started": "2022-10-12T18:14:46.727442Z"
    },
    "tags": []
   },
   "outputs": [
    {
     "name": "stderr",
     "output_type": "stream",
     "text": [
      "/opt/saturncloud/envs/saturn/lib/python3.9/site-packages/dask/dataframe/core.py:6335: FutureWarning: Meta is not valid, `map_partitions` expects output to be a pandas object. Try passing a pandas object as meta or a dict or tuple representing the (name, dtype) of the columns. In the future the meta you passed will not work.\n",
      "  warnings.warn(\n"
     ]
    }
   ],
   "source": [
    "# Extracting the month and year\n",
    "issue_date_month_year = nyc_data_derived_stage3['Issue Date'].apply(lambda dt: dt.strftime(\"%Y%m\"), meta=str)\n",
    "nyc_data_derived_stage4 = nyc_data_derived_stage3.assign(IssueMonthYear=issue_date_month_year)\n",
    "nyc_data_derived_stage5 = nyc_data_derived_stage4.rename(columns={'IssueMonthYear':'Citation Issued Month Year'})"
   ]
  },
  {
   "cell_type": "code",
   "execution_count": 74,
   "id": "350721e5-40e1-4c28-825e-928030052f3b",
   "metadata": {
    "execution": {
     "iopub.execute_input": "2022-10-12T18:14:46.754246Z",
     "iopub.status.busy": "2022-10-12T18:14:46.753625Z",
     "iopub.status.idle": "2022-10-12T18:14:57.627260Z",
     "shell.execute_reply": "2022-10-12T18:14:57.626365Z",
     "shell.execute_reply.started": "2022-10-12T18:14:46.754212Z"
    },
    "tags": []
   },
   "outputs": [
    {
     "data": {
      "text/plain": [
       "0    201607\n",
       "1    201607\n",
       "2    201703\n",
       "3    201701\n",
       "4    201703\n",
       "Name: Citation Issued Month Year, dtype: object"
      ]
     },
     "metadata": {},
     "output_type": "display_data"
    }
   ],
   "source": [
    "# Inspecting the newly derived column\n",
    "with ProgressBar():\n",
    "    display(nyc_data_derived_stage5['Citation Issued Month Year'].head())"
   ]
  },
  {
   "cell_type": "code",
   "execution_count": 75,
   "id": "7fd87812-3da7-4c39-af21-b56f3bb02985",
   "metadata": {
    "execution": {
     "iopub.execute_input": "2022-10-12T18:14:57.629104Z",
     "iopub.status.busy": "2022-10-12T18:14:57.628583Z",
     "iopub.status.idle": "2022-10-12T18:14:57.885237Z",
     "shell.execute_reply": "2022-10-12T18:14:57.883084Z",
     "shell.execute_reply.started": "2022-10-12T18:14:57.629070Z"
    },
    "tags": []
   },
   "outputs": [],
   "source": [
    "nyc_data_clean = nyc_data_derived_stage5.persist()"
   ]
  },
  {
   "cell_type": "code",
   "execution_count": 76,
   "id": "073d8974-604c-46ef-b80a-998c6bdc83c2",
   "metadata": {
    "execution": {
     "iopub.execute_input": "2022-10-12T18:14:57.893808Z",
     "iopub.status.busy": "2022-10-12T18:14:57.893415Z",
     "iopub.status.idle": "2022-10-12T18:15:21.188895Z",
     "shell.execute_reply": "2022-10-12T18:15:21.186713Z",
     "shell.execute_reply.started": "2022-10-12T18:14:57.893781Z"
    },
    "tags": []
   },
   "outputs": [
    {
     "data": {
      "text/html": [
       "<div>\n",
       "<style scoped>\n",
       "    .dataframe tbody tr th:only-of-type {\n",
       "        vertical-align: middle;\n",
       "    }\n",
       "\n",
       "    .dataframe tbody tr th {\n",
       "        vertical-align: top;\n",
       "    }\n",
       "\n",
       "    .dataframe thead th {\n",
       "        text-align: right;\n",
       "    }\n",
       "</style>\n",
       "<table border=\"1\" class=\"dataframe\">\n",
       "  <thead>\n",
       "    <tr style=\"text-align: right;\">\n",
       "      <th></th>\n",
       "      <th>Summons Number</th>\n",
       "      <th>Plate ID</th>\n",
       "      <th>Registration State</th>\n",
       "      <th>Violation Code</th>\n",
       "      <th>Vehicle Body Type</th>\n",
       "      <th>Vehicle Make</th>\n",
       "      <th>Issuing Agency</th>\n",
       "      <th>Street Code1</th>\n",
       "      <th>Street Code2</th>\n",
       "      <th>Street Code3</th>\n",
       "      <th>...</th>\n",
       "      <th>Law Section</th>\n",
       "      <th>Sub Division</th>\n",
       "      <th>Vehicle Year</th>\n",
       "      <th>Feet From Curb</th>\n",
       "      <th>Violation Post Code</th>\n",
       "      <th>Violation Description</th>\n",
       "      <th>Plate Type</th>\n",
       "      <th>Vehicle Color</th>\n",
       "      <th>Issue Date</th>\n",
       "      <th>Citation Issued Month Year</th>\n",
       "    </tr>\n",
       "  </thead>\n",
       "  <tbody>\n",
       "    <tr>\n",
       "      <th>0</th>\n",
       "      <td>797502185</td>\n",
       "      <td>GZH7067</td>\n",
       "      <td>NY</td>\n",
       "      <td>7</td>\n",
       "      <td>SUBN</td>\n",
       "      <td>TOYOT</td>\n",
       "      <td>V</td>\n",
       "      <td>0</td>\n",
       "      <td>0</td>\n",
       "      <td>0</td>\n",
       "      <td>...</td>\n",
       "      <td>1111.0</td>\n",
       "      <td>D</td>\n",
       "      <td>2001</td>\n",
       "      <td>0.0</td>\n",
       "      <td>Unknown</td>\n",
       "      <td>FAILURE TO STOP AT RED LIGHT</td>\n",
       "      <td>PAS</td>\n",
       "      <td>GY</td>\n",
       "      <td>2016-07-10</td>\n",
       "      <td>201607</td>\n",
       "    </tr>\n",
       "    <tr>\n",
       "      <th>1</th>\n",
       "      <td>797484362</td>\n",
       "      <td>GZH7067</td>\n",
       "      <td>NY</td>\n",
       "      <td>7</td>\n",
       "      <td>SUBN</td>\n",
       "      <td>TOYOT</td>\n",
       "      <td>V</td>\n",
       "      <td>0</td>\n",
       "      <td>0</td>\n",
       "      <td>0</td>\n",
       "      <td>...</td>\n",
       "      <td>1111.0</td>\n",
       "      <td>D</td>\n",
       "      <td>2001</td>\n",
       "      <td>0.0</td>\n",
       "      <td>Unknown</td>\n",
       "      <td>FAILURE TO STOP AT RED LIGHT</td>\n",
       "      <td>PAS</td>\n",
       "      <td>GY</td>\n",
       "      <td>2016-07-08</td>\n",
       "      <td>201607</td>\n",
       "    </tr>\n",
       "    <tr>\n",
       "      <th>2</th>\n",
       "      <td>336666088</td>\n",
       "      <td>AVM7975</td>\n",
       "      <td>NY</td>\n",
       "      <td>36</td>\n",
       "      <td>SUBN</td>\n",
       "      <td>GMC</td>\n",
       "      <td>V</td>\n",
       "      <td>0</td>\n",
       "      <td>0</td>\n",
       "      <td>0</td>\n",
       "      <td>...</td>\n",
       "      <td>1180.0</td>\n",
       "      <td>B</td>\n",
       "      <td>2010</td>\n",
       "      <td>0.0</td>\n",
       "      <td>Unknown</td>\n",
       "      <td>PHTO SCHOOL ZN SPEED VIOLATION</td>\n",
       "      <td>PAS</td>\n",
       "      <td>GY</td>\n",
       "      <td>2017-03-09</td>\n",
       "      <td>201703</td>\n",
       "    </tr>\n",
       "    <tr>\n",
       "      <th>3</th>\n",
       "      <td>3901589984</td>\n",
       "      <td>GWB7054</td>\n",
       "      <td>NY</td>\n",
       "      <td>70</td>\n",
       "      <td>SUBN</td>\n",
       "      <td>TOYOT</td>\n",
       "      <td>T</td>\n",
       "      <td>59590</td>\n",
       "      <td>8590</td>\n",
       "      <td>57790</td>\n",
       "      <td>...</td>\n",
       "      <td>408.0</td>\n",
       "      <td>j3</td>\n",
       "      <td>2015</td>\n",
       "      <td>0.0</td>\n",
       "      <td>05</td>\n",
       "      <td>70A-Reg. Sticker Expired (NYS)</td>\n",
       "      <td>PAS</td>\n",
       "      <td>BL</td>\n",
       "      <td>2017-01-18</td>\n",
       "      <td>201701</td>\n",
       "    </tr>\n",
       "    <tr>\n",
       "      <th>4</th>\n",
       "      <td>336217062</td>\n",
       "      <td>EXZ9820</td>\n",
       "      <td>NY</td>\n",
       "      <td>36</td>\n",
       "      <td>4DSD</td>\n",
       "      <td>HONDA</td>\n",
       "      <td>V</td>\n",
       "      <td>0</td>\n",
       "      <td>0</td>\n",
       "      <td>0</td>\n",
       "      <td>...</td>\n",
       "      <td>1180.0</td>\n",
       "      <td>B</td>\n",
       "      <td>1997</td>\n",
       "      <td>0.0</td>\n",
       "      <td>Unknown</td>\n",
       "      <td>PHTO SCHOOL ZN SPEED VIOLATION</td>\n",
       "      <td>PAS</td>\n",
       "      <td>GR</td>\n",
       "      <td>2017-03-02</td>\n",
       "      <td>201703</td>\n",
       "    </tr>\n",
       "    <tr>\n",
       "      <th>5</th>\n",
       "      <td>4007039033</td>\n",
       "      <td>GZE1511</td>\n",
       "      <td>NY</td>\n",
       "      <td>5</td>\n",
       "      <td>4DSD</td>\n",
       "      <td>TOYOT</td>\n",
       "      <td>V</td>\n",
       "      <td>0</td>\n",
       "      <td>0</td>\n",
       "      <td>0</td>\n",
       "      <td>...</td>\n",
       "      <td>1111.0</td>\n",
       "      <td>C</td>\n",
       "      <td>2001</td>\n",
       "      <td>0.0</td>\n",
       "      <td>Unknown</td>\n",
       "      <td>BUS LANE VIOLATION</td>\n",
       "      <td>PAS</td>\n",
       "      <td>WH</td>\n",
       "      <td>2017-03-06</td>\n",
       "      <td>201703</td>\n",
       "    </tr>\n",
       "    <tr>\n",
       "      <th>6</th>\n",
       "      <td>3367768768</td>\n",
       "      <td>83485MH</td>\n",
       "      <td>NY</td>\n",
       "      <td>48</td>\n",
       "      <td>VAN</td>\n",
       "      <td>FRUEH</td>\n",
       "      <td>T</td>\n",
       "      <td>0</td>\n",
       "      <td>40404</td>\n",
       "      <td>40404</td>\n",
       "      <td>...</td>\n",
       "      <td>408.0</td>\n",
       "      <td>e9</td>\n",
       "      <td>2016</td>\n",
       "      <td>0.0</td>\n",
       "      <td>01 7</td>\n",
       "      <td>48-Bike Lane</td>\n",
       "      <td>COM</td>\n",
       "      <td>BROWN</td>\n",
       "      <td>2016-07-20</td>\n",
       "      <td>201607</td>\n",
       "    </tr>\n",
       "    <tr>\n",
       "      <th>7</th>\n",
       "      <td>4244393356</td>\n",
       "      <td>GEH9367</td>\n",
       "      <td>NY</td>\n",
       "      <td>70</td>\n",
       "      <td>4DSD</td>\n",
       "      <td>DODGE</td>\n",
       "      <td>T</td>\n",
       "      <td>31830</td>\n",
       "      <td>5430</td>\n",
       "      <td>5580</td>\n",
       "      <td>...</td>\n",
       "      <td>408.0</td>\n",
       "      <td>j3</td>\n",
       "      <td>2011</td>\n",
       "      <td>0.0</td>\n",
       "      <td>19</td>\n",
       "      <td>70A-Reg. Sticker Expired (NYS)</td>\n",
       "      <td>PAS</td>\n",
       "      <td>GY</td>\n",
       "      <td>2017-05-04</td>\n",
       "      <td>201705</td>\n",
       "    </tr>\n",
       "    <tr>\n",
       "      <th>8</th>\n",
       "      <td>3998577006</td>\n",
       "      <td>FYP7892</td>\n",
       "      <td>NY</td>\n",
       "      <td>14</td>\n",
       "      <td>SUBN</td>\n",
       "      <td>TOYOT</td>\n",
       "      <td>T</td>\n",
       "      <td>14380</td>\n",
       "      <td>35980</td>\n",
       "      <td>36030</td>\n",
       "      <td>...</td>\n",
       "      <td>408.0</td>\n",
       "      <td>c</td>\n",
       "      <td>2016</td>\n",
       "      <td>0.0</td>\n",
       "      <td>CC1</td>\n",
       "      <td>14-No Standing</td>\n",
       "      <td>PAS</td>\n",
       "      <td>WH</td>\n",
       "      <td>2016-10-03</td>\n",
       "      <td>201610</td>\n",
       "    </tr>\n",
       "    <tr>\n",
       "      <th>9</th>\n",
       "      <td>4230994939</td>\n",
       "      <td>HHM1058</td>\n",
       "      <td>NY</td>\n",
       "      <td>21</td>\n",
       "      <td>4DSD</td>\n",
       "      <td>ME/BE</td>\n",
       "      <td>T</td>\n",
       "      <td>35720</td>\n",
       "      <td>34020</td>\n",
       "      <td>22020</td>\n",
       "      <td>...</td>\n",
       "      <td>408.0</td>\n",
       "      <td>d1</td>\n",
       "      <td>2015</td>\n",
       "      <td>0.0</td>\n",
       "      <td>03</td>\n",
       "      <td>21-No Parking (street clean)</td>\n",
       "      <td>PAS</td>\n",
       "      <td>WH</td>\n",
       "      <td>2017-04-20</td>\n",
       "      <td>201704</td>\n",
       "    </tr>\n",
       "  </tbody>\n",
       "</table>\n",
       "<p>10 rows × 33 columns</p>\n",
       "</div>"
      ],
      "text/plain": [
       "   Summons Number Plate ID Registration State  Violation Code  \\\n",
       "0       797502185  GZH7067                 NY               7   \n",
       "1       797484362  GZH7067                 NY               7   \n",
       "2       336666088  AVM7975                 NY              36   \n",
       "3      3901589984  GWB7054                 NY              70   \n",
       "4       336217062  EXZ9820                 NY              36   \n",
       "5      4007039033  GZE1511                 NY               5   \n",
       "6      3367768768  83485MH                 NY              48   \n",
       "7      4244393356  GEH9367                 NY              70   \n",
       "8      3998577006  FYP7892                 NY              14   \n",
       "9      4230994939  HHM1058                 NY              21   \n",
       "\n",
       "  Vehicle Body Type Vehicle Make Issuing Agency  Street Code1  Street Code2  \\\n",
       "0              SUBN        TOYOT              V             0             0   \n",
       "1              SUBN        TOYOT              V             0             0   \n",
       "2              SUBN          GMC              V             0             0   \n",
       "3              SUBN        TOYOT              T         59590          8590   \n",
       "4              4DSD        HONDA              V             0             0   \n",
       "5              4DSD        TOYOT              V             0             0   \n",
       "6               VAN        FRUEH              T             0         40404   \n",
       "7              4DSD        DODGE              T         31830          5430   \n",
       "8              SUBN        TOYOT              T         14380         35980   \n",
       "9              4DSD        ME/BE              T         35720         34020   \n",
       "\n",
       "   Street Code3  ... Law Section Sub Division  Vehicle Year  Feet From Curb  \\\n",
       "0             0  ...      1111.0            D          2001             0.0   \n",
       "1             0  ...      1111.0            D          2001             0.0   \n",
       "2             0  ...      1180.0            B          2010             0.0   \n",
       "3         57790  ...       408.0           j3          2015             0.0   \n",
       "4             0  ...      1180.0            B          1997             0.0   \n",
       "5             0  ...      1111.0            C          2001             0.0   \n",
       "6         40404  ...       408.0           e9          2016             0.0   \n",
       "7          5580  ...       408.0           j3          2011             0.0   \n",
       "8         36030  ...       408.0            c          2016             0.0   \n",
       "9         22020  ...       408.0           d1          2015             0.0   \n",
       "\n",
       "   Violation Post Code           Violation Description Plate Type  \\\n",
       "0              Unknown    FAILURE TO STOP AT RED LIGHT        PAS   \n",
       "1              Unknown    FAILURE TO STOP AT RED LIGHT        PAS   \n",
       "2              Unknown  PHTO SCHOOL ZN SPEED VIOLATION        PAS   \n",
       "3                   05  70A-Reg. Sticker Expired (NYS)        PAS   \n",
       "4              Unknown  PHTO SCHOOL ZN SPEED VIOLATION        PAS   \n",
       "5              Unknown              BUS LANE VIOLATION        PAS   \n",
       "6                 01 7                    48-Bike Lane        COM   \n",
       "7                   19  70A-Reg. Sticker Expired (NYS)        PAS   \n",
       "8                  CC1                  14-No Standing        PAS   \n",
       "9                   03    21-No Parking (street clean)        PAS   \n",
       "\n",
       "  Vehicle Color Issue Date Citation Issued Month Year  \n",
       "0            GY 2016-07-10                     201607  \n",
       "1            GY 2016-07-08                     201607  \n",
       "2            GY 2017-03-09                     201703  \n",
       "3            BL 2017-01-18                     201701  \n",
       "4            GR 2017-03-02                     201703  \n",
       "5            WH 2017-03-06                     201703  \n",
       "6         BROWN 2016-07-20                     201607  \n",
       "7            GY 2017-05-04                     201705  \n",
       "8            WH 2016-10-03                     201610  \n",
       "9            WH 2017-04-20                     201704  \n",
       "\n",
       "[10 rows x 33 columns]"
      ]
     },
     "execution_count": 76,
     "metadata": {},
     "output_type": "execute_result"
    }
   ],
   "source": [
    "# Show finalized data for Part 2\n",
    "nyc_data_clean.head(10)"
   ]
  },
  {
   "cell_type": "markdown",
   "id": "9c54a0d5-8c53-4a4f-9b26-9b69690b2b4b",
   "metadata": {
    "tags": []
   },
   "source": [
    "# 3. EDA"
   ]
  },
  {
   "cell_type": "markdown",
   "id": "aed72fbd-4975-4057-aabd-49b135b2f5d6",
   "metadata": {
    "tags": []
   },
   "source": [
    "#### (a) Filter the data to have citations issued between 2017-01-01 and 2022-12-31."
   ]
  },
  {
   "cell_type": "code",
   "execution_count": 165,
   "id": "b48bc642-2028-4845-bc1e-4a3eb2134447",
   "metadata": {
    "tags": []
   },
   "outputs": [],
   "source": [
    "# nyc_data_derived_stage5 = dd.read_parquet('s3://nyc-parking-violations-parquet/nyc_data_derived_stage5')\n",
    "with ProgressBar():\n",
    "    condition = (nyc_data_clean['Issue Date'] > '2017-01-01') & (nyc_data_clean['Issue Date'] <= '2022-12-31')\n",
    "    nyc_data_filtered = nyc_data_clean[condition]\n",
    "    nyc_data_new_index = nyc_data_filtered.set_index('Citation Issued Month Year')"
   ]
  },
  {
   "cell_type": "code",
   "execution_count": 166,
   "id": "88ffdb16-47dd-4abe-a552-cb375b0468a8",
   "metadata": {},
   "outputs": [
    {
     "data": {
      "text/html": [
       "<div>\n",
       "<style scoped>\n",
       "    .dataframe tbody tr th:only-of-type {\n",
       "        vertical-align: middle;\n",
       "    }\n",
       "\n",
       "    .dataframe tbody tr th {\n",
       "        vertical-align: top;\n",
       "    }\n",
       "\n",
       "    .dataframe thead th {\n",
       "        text-align: right;\n",
       "    }\n",
       "</style>\n",
       "<table border=\"1\" class=\"dataframe\">\n",
       "  <thead>\n",
       "    <tr style=\"text-align: right;\">\n",
       "      <th></th>\n",
       "      <th>Summons Number</th>\n",
       "      <th>Plate ID</th>\n",
       "      <th>Registration State</th>\n",
       "      <th>Violation Code</th>\n",
       "      <th>Vehicle Body Type</th>\n",
       "      <th>Vehicle Make</th>\n",
       "      <th>Issuing Agency</th>\n",
       "      <th>Street Code1</th>\n",
       "      <th>Street Code2</th>\n",
       "      <th>Street Code3</th>\n",
       "      <th>...</th>\n",
       "      <th>Date First Observed</th>\n",
       "      <th>Law Section</th>\n",
       "      <th>Sub Division</th>\n",
       "      <th>Vehicle Year</th>\n",
       "      <th>Feet From Curb</th>\n",
       "      <th>Violation Post Code</th>\n",
       "      <th>Violation Description</th>\n",
       "      <th>Plate Type</th>\n",
       "      <th>Vehicle Color</th>\n",
       "      <th>Issue Date</th>\n",
       "    </tr>\n",
       "    <tr>\n",
       "      <th>Citation Issued Month Year</th>\n",
       "      <th></th>\n",
       "      <th></th>\n",
       "      <th></th>\n",
       "      <th></th>\n",
       "      <th></th>\n",
       "      <th></th>\n",
       "      <th></th>\n",
       "      <th></th>\n",
       "      <th></th>\n",
       "      <th></th>\n",
       "      <th></th>\n",
       "      <th></th>\n",
       "      <th></th>\n",
       "      <th></th>\n",
       "      <th></th>\n",
       "      <th></th>\n",
       "      <th></th>\n",
       "      <th></th>\n",
       "      <th></th>\n",
       "      <th></th>\n",
       "      <th></th>\n",
       "    </tr>\n",
       "  </thead>\n",
       "  <tbody>\n",
       "    <tr>\n",
       "      <th>201701</th>\n",
       "      <td>3901589984</td>\n",
       "      <td>GWB7054</td>\n",
       "      <td>NY</td>\n",
       "      <td>70</td>\n",
       "      <td>SUBN</td>\n",
       "      <td>TOYOT</td>\n",
       "      <td>T</td>\n",
       "      <td>59590</td>\n",
       "      <td>8590</td>\n",
       "      <td>57790</td>\n",
       "      <td>...</td>\n",
       "      <td>0</td>\n",
       "      <td>408.0</td>\n",
       "      <td>j3</td>\n",
       "      <td>2015</td>\n",
       "      <td>0.0</td>\n",
       "      <td>05</td>\n",
       "      <td>70A-Reg. Sticker Expired (NYS)</td>\n",
       "      <td>PAS</td>\n",
       "      <td>BL</td>\n",
       "      <td>2017-01-18</td>\n",
       "    </tr>\n",
       "    <tr>\n",
       "      <th>201701</th>\n",
       "      <td>3427885508</td>\n",
       "      <td>BAS3436</td>\n",
       "      <td>NY</td>\n",
       "      <td>31</td>\n",
       "      <td>SUBN</td>\n",
       "      <td>HONDA</td>\n",
       "      <td>T</td>\n",
       "      <td>34350</td>\n",
       "      <td>10610</td>\n",
       "      <td>10810</td>\n",
       "      <td>...</td>\n",
       "      <td>0</td>\n",
       "      <td>408.0</td>\n",
       "      <td>l3</td>\n",
       "      <td>2017</td>\n",
       "      <td>0.0</td>\n",
       "      <td>01</td>\n",
       "      <td>31-No Stand (Com. Mtr. Zone)</td>\n",
       "      <td>PAS</td>\n",
       "      <td>GY</td>\n",
       "      <td>2017-01-31</td>\n",
       "    </tr>\n",
       "    <tr>\n",
       "      <th>201701</th>\n",
       "      <td>4188838366</td>\n",
       "      <td>41006PC</td>\n",
       "      <td>NY</td>\n",
       "      <td>47</td>\n",
       "      <td>TK</td>\n",
       "      <td>FRUEH</td>\n",
       "      <td>T</td>\n",
       "      <td>10610</td>\n",
       "      <td>34470</td>\n",
       "      <td>34490</td>\n",
       "      <td>...</td>\n",
       "      <td>0</td>\n",
       "      <td>408.0</td>\n",
       "      <td>l2</td>\n",
       "      <td>2015</td>\n",
       "      <td>0.0</td>\n",
       "      <td>99</td>\n",
       "      <td>47-Double PKG-Midtown</td>\n",
       "      <td>Other</td>\n",
       "      <td>MR</td>\n",
       "      <td>2017-01-21</td>\n",
       "    </tr>\n",
       "    <tr>\n",
       "      <th>201701</th>\n",
       "      <td>3364859027</td>\n",
       "      <td>KSMRNTUC</td>\n",
       "      <td>NY</td>\n",
       "      <td>37</td>\n",
       "      <td>4DSD</td>\n",
       "      <td>FORD</td>\n",
       "      <td>T</td>\n",
       "      <td>10210</td>\n",
       "      <td>18770</td>\n",
       "      <td>18790</td>\n",
       "      <td>...</td>\n",
       "      <td>0</td>\n",
       "      <td>408.0</td>\n",
       "      <td>h1</td>\n",
       "      <td>2012</td>\n",
       "      <td>0.0</td>\n",
       "      <td>09</td>\n",
       "      <td>37-Expired Muni Meter</td>\n",
       "      <td>Other</td>\n",
       "      <td>BL</td>\n",
       "      <td>2017-01-21</td>\n",
       "    </tr>\n",
       "    <tr>\n",
       "      <th>201701</th>\n",
       "      <td>2725746864</td>\n",
       "      <td>187TJ5</td>\n",
       "      <td>MA</td>\n",
       "      <td>21</td>\n",
       "      <td>2DSD</td>\n",
       "      <td>AUDI</td>\n",
       "      <td>T</td>\n",
       "      <td>0</td>\n",
       "      <td>0</td>\n",
       "      <td>0</td>\n",
       "      <td>...</td>\n",
       "      <td>0</td>\n",
       "      <td>408.0</td>\n",
       "      <td>d1</td>\n",
       "      <td>0</td>\n",
       "      <td>0.0</td>\n",
       "      <td>11</td>\n",
       "      <td>21-No Parking (street clean)</td>\n",
       "      <td>PAS</td>\n",
       "      <td>OTHER</td>\n",
       "      <td>2017-01-19</td>\n",
       "    </tr>\n",
       "  </tbody>\n",
       "</table>\n",
       "<p>5 rows × 32 columns</p>\n",
       "</div>"
      ],
      "text/plain": [
       "                            Summons Number  Plate ID Registration State  \\\n",
       "Citation Issued Month Year                                                \n",
       "201701                          3901589984   GWB7054                 NY   \n",
       "201701                          3427885508   BAS3436                 NY   \n",
       "201701                          4188838366   41006PC                 NY   \n",
       "201701                          3364859027  KSMRNTUC                 NY   \n",
       "201701                          2725746864    187TJ5                 MA   \n",
       "\n",
       "                            Violation Code Vehicle Body Type Vehicle Make  \\\n",
       "Citation Issued Month Year                                                  \n",
       "201701                                  70              SUBN        TOYOT   \n",
       "201701                                  31              SUBN        HONDA   \n",
       "201701                                  47                TK        FRUEH   \n",
       "201701                                  37              4DSD         FORD   \n",
       "201701                                  21              2DSD         AUDI   \n",
       "\n",
       "                           Issuing Agency  Street Code1  Street Code2  \\\n",
       "Citation Issued Month Year                                              \n",
       "201701                                  T         59590          8590   \n",
       "201701                                  T         34350         10610   \n",
       "201701                                  T         10610         34470   \n",
       "201701                                  T         10210         18770   \n",
       "201701                                  T             0             0   \n",
       "\n",
       "                            Street Code3  ... Date First Observed Law Section  \\\n",
       "Citation Issued Month Year                ...                                   \n",
       "201701                             57790  ...                   0       408.0   \n",
       "201701                             10810  ...                   0       408.0   \n",
       "201701                             34490  ...                   0       408.0   \n",
       "201701                             18790  ...                   0       408.0   \n",
       "201701                                 0  ...                   0       408.0   \n",
       "\n",
       "                            Sub Division  Vehicle Year  Feet From Curb  \\\n",
       "Citation Issued Month Year                                               \n",
       "201701                                j3          2015             0.0   \n",
       "201701                                l3          2017             0.0   \n",
       "201701                                l2          2015             0.0   \n",
       "201701                                h1          2012             0.0   \n",
       "201701                                d1             0             0.0   \n",
       "\n",
       "                           Violation Post Code  \\\n",
       "Citation Issued Month Year                       \n",
       "201701                                      05   \n",
       "201701                                      01   \n",
       "201701                                      99   \n",
       "201701                                      09   \n",
       "201701                                      11   \n",
       "\n",
       "                                     Violation Description Plate Type  \\\n",
       "Citation Issued Month Year                                              \n",
       "201701                      70A-Reg. Sticker Expired (NYS)        PAS   \n",
       "201701                        31-No Stand (Com. Mtr. Zone)        PAS   \n",
       "201701                               47-Double PKG-Midtown      Other   \n",
       "201701                               37-Expired Muni Meter      Other   \n",
       "201701                        21-No Parking (street clean)        PAS   \n",
       "\n",
       "                           Vehicle Color Issue Date  \n",
       "Citation Issued Month Year                           \n",
       "201701                                BL 2017-01-18  \n",
       "201701                                GY 2017-01-31  \n",
       "201701                                MR 2017-01-21  \n",
       "201701                                BL 2017-01-21  \n",
       "201701                             OTHER 2017-01-19  \n",
       "\n",
       "[5 rows x 32 columns]"
      ]
     },
     "metadata": {},
     "output_type": "display_data"
    }
   ],
   "source": [
    "with ProgressBar():\n",
    "    display(nyc_data_new_index.head())"
   ]
  },
  {
   "cell_type": "markdown",
   "id": "52984c91-834e-44d3-bbba-d724614fbf7c",
   "metadata": {
    "tags": []
   },
   "source": [
    "#### (b) Repartition the data to have a new index of month year (eg: 202109) from 2017 - 2021."
   ]
  },
  {
   "cell_type": "code",
   "execution_count": 167,
   "id": "03160a51-bee8-46fb-96bd-25fd1e84172e",
   "metadata": {},
   "outputs": [
    {
     "data": {
      "text/plain": [
       "Index(['202208', '202009', '202106', '202206', '202108', '202010', '202107',\n",
       "       '202008', '202203', '202103', '202207', '202205', '202110', '202204',\n",
       "       '201908', '202111', '201910', '202011', '202101', '201909', '202104',\n",
       "       '202105', '202109', '202001', '201911', '202112', '202012', '201907',\n",
       "       '202002', '201810', '201805', '201710', '202202', '202201', '202003',\n",
       "       '202007', '201901', '201706', '201711', '201705', '201811', '201806',\n",
       "       '201804', '201912', '201709', '201803', '201903', '201905', '201807',\n",
       "       '201703', '201707', '201808', '201708', '201812', '201802', '201801',\n",
       "       '201809', '201904', '201704', '201701', '201906', '201902', '201702',\n",
       "       '201712', '202102', '202006', '202004', '202005', '202212', '202209',\n",
       "       '202211', '202210'],\n",
       "      dtype='object')"
      ]
     },
     "metadata": {},
     "output_type": "display_data"
    }
   ],
   "source": [
    "with ProgressBar():\n",
    "    display(nyc_data_filtered['Citation Issued Month Year'].value_counts().index.compute())"
   ]
  },
  {
   "cell_type": "code",
   "execution_count": 168,
   "id": "adc7a7de-8ee0-488e-8fb2-e4e16ee918da",
   "metadata": {},
   "outputs": [],
   "source": [
    "with ProgressBar():\n",
    "    years_months = list(nyc_data_filtered['Citation Issued Month Year'].value_counts().index.compute())"
   ]
  },
  {
   "cell_type": "code",
   "execution_count": 169,
   "id": "5c134013-b46b-4085-b41e-d8f8e07d0a5f",
   "metadata": {},
   "outputs": [],
   "source": [
    "years_months.sort()"
   ]
  },
  {
   "cell_type": "code",
   "execution_count": 170,
   "id": "b48868f9-e64f-4512-a720-b4f25fa6f167",
   "metadata": {},
   "outputs": [],
   "source": [
    "with ProgressBar():\n",
    "    nyc_data_new_index.repartition(divisions=years_months)\n",
    "# nyc_data_new_index = dd.read_parquet('nyc_data_date_index')"
   ]
  },
  {
   "cell_type": "code",
   "execution_count": 171,
   "id": "85ebd7a8-390d-47c8-bc91-53f4facc04e9",
   "metadata": {},
   "outputs": [
    {
     "data": {
      "text/html": [
       "<div>\n",
       "<style scoped>\n",
       "    .dataframe tbody tr th:only-of-type {\n",
       "        vertical-align: middle;\n",
       "    }\n",
       "\n",
       "    .dataframe tbody tr th {\n",
       "        vertical-align: top;\n",
       "    }\n",
       "\n",
       "    .dataframe thead th {\n",
       "        text-align: right;\n",
       "    }\n",
       "</style>\n",
       "<table border=\"1\" class=\"dataframe\">\n",
       "  <thead>\n",
       "    <tr style=\"text-align: right;\">\n",
       "      <th></th>\n",
       "      <th>Summons Number</th>\n",
       "      <th>Plate ID</th>\n",
       "      <th>Registration State</th>\n",
       "      <th>Violation Code</th>\n",
       "      <th>Vehicle Body Type</th>\n",
       "      <th>Vehicle Make</th>\n",
       "      <th>Issuing Agency</th>\n",
       "      <th>Street Code1</th>\n",
       "      <th>Street Code2</th>\n",
       "      <th>Street Code3</th>\n",
       "      <th>...</th>\n",
       "      <th>Date First Observed</th>\n",
       "      <th>Law Section</th>\n",
       "      <th>Sub Division</th>\n",
       "      <th>Vehicle Year</th>\n",
       "      <th>Feet From Curb</th>\n",
       "      <th>Violation Post Code</th>\n",
       "      <th>Violation Description</th>\n",
       "      <th>Plate Type</th>\n",
       "      <th>Vehicle Color</th>\n",
       "      <th>Issue Date</th>\n",
       "    </tr>\n",
       "    <tr>\n",
       "      <th>Citation Issued Month Year</th>\n",
       "      <th></th>\n",
       "      <th></th>\n",
       "      <th></th>\n",
       "      <th></th>\n",
       "      <th></th>\n",
       "      <th></th>\n",
       "      <th></th>\n",
       "      <th></th>\n",
       "      <th></th>\n",
       "      <th></th>\n",
       "      <th></th>\n",
       "      <th></th>\n",
       "      <th></th>\n",
       "      <th></th>\n",
       "      <th></th>\n",
       "      <th></th>\n",
       "      <th></th>\n",
       "      <th></th>\n",
       "      <th></th>\n",
       "      <th></th>\n",
       "      <th></th>\n",
       "    </tr>\n",
       "  </thead>\n",
       "  <tbody>\n",
       "    <tr>\n",
       "      <th>201701</th>\n",
       "      <td>3901589984</td>\n",
       "      <td>GWB7054</td>\n",
       "      <td>NY</td>\n",
       "      <td>70</td>\n",
       "      <td>SUBN</td>\n",
       "      <td>TOYOT</td>\n",
       "      <td>T</td>\n",
       "      <td>59590</td>\n",
       "      <td>8590</td>\n",
       "      <td>57790</td>\n",
       "      <td>...</td>\n",
       "      <td>0</td>\n",
       "      <td>408.0</td>\n",
       "      <td>j3</td>\n",
       "      <td>2015</td>\n",
       "      <td>0.0</td>\n",
       "      <td>05</td>\n",
       "      <td>70A-Reg. Sticker Expired (NYS)</td>\n",
       "      <td>PAS</td>\n",
       "      <td>BL</td>\n",
       "      <td>2017-01-18</td>\n",
       "    </tr>\n",
       "    <tr>\n",
       "      <th>201701</th>\n",
       "      <td>3427885508</td>\n",
       "      <td>BAS3436</td>\n",
       "      <td>NY</td>\n",
       "      <td>31</td>\n",
       "      <td>SUBN</td>\n",
       "      <td>HONDA</td>\n",
       "      <td>T</td>\n",
       "      <td>34350</td>\n",
       "      <td>10610</td>\n",
       "      <td>10810</td>\n",
       "      <td>...</td>\n",
       "      <td>0</td>\n",
       "      <td>408.0</td>\n",
       "      <td>l3</td>\n",
       "      <td>2017</td>\n",
       "      <td>0.0</td>\n",
       "      <td>01</td>\n",
       "      <td>31-No Stand (Com. Mtr. Zone)</td>\n",
       "      <td>PAS</td>\n",
       "      <td>GY</td>\n",
       "      <td>2017-01-31</td>\n",
       "    </tr>\n",
       "    <tr>\n",
       "      <th>201701</th>\n",
       "      <td>4188838366</td>\n",
       "      <td>41006PC</td>\n",
       "      <td>NY</td>\n",
       "      <td>47</td>\n",
       "      <td>TK</td>\n",
       "      <td>FRUEH</td>\n",
       "      <td>T</td>\n",
       "      <td>10610</td>\n",
       "      <td>34470</td>\n",
       "      <td>34490</td>\n",
       "      <td>...</td>\n",
       "      <td>0</td>\n",
       "      <td>408.0</td>\n",
       "      <td>l2</td>\n",
       "      <td>2015</td>\n",
       "      <td>0.0</td>\n",
       "      <td>99</td>\n",
       "      <td>47-Double PKG-Midtown</td>\n",
       "      <td>Other</td>\n",
       "      <td>MR</td>\n",
       "      <td>2017-01-21</td>\n",
       "    </tr>\n",
       "    <tr>\n",
       "      <th>201701</th>\n",
       "      <td>3364859027</td>\n",
       "      <td>KSMRNTUC</td>\n",
       "      <td>NY</td>\n",
       "      <td>37</td>\n",
       "      <td>4DSD</td>\n",
       "      <td>FORD</td>\n",
       "      <td>T</td>\n",
       "      <td>10210</td>\n",
       "      <td>18770</td>\n",
       "      <td>18790</td>\n",
       "      <td>...</td>\n",
       "      <td>0</td>\n",
       "      <td>408.0</td>\n",
       "      <td>h1</td>\n",
       "      <td>2012</td>\n",
       "      <td>0.0</td>\n",
       "      <td>09</td>\n",
       "      <td>37-Expired Muni Meter</td>\n",
       "      <td>Other</td>\n",
       "      <td>BL</td>\n",
       "      <td>2017-01-21</td>\n",
       "    </tr>\n",
       "    <tr>\n",
       "      <th>201701</th>\n",
       "      <td>2725746864</td>\n",
       "      <td>187TJ5</td>\n",
       "      <td>MA</td>\n",
       "      <td>21</td>\n",
       "      <td>2DSD</td>\n",
       "      <td>AUDI</td>\n",
       "      <td>T</td>\n",
       "      <td>0</td>\n",
       "      <td>0</td>\n",
       "      <td>0</td>\n",
       "      <td>...</td>\n",
       "      <td>0</td>\n",
       "      <td>408.0</td>\n",
       "      <td>d1</td>\n",
       "      <td>0</td>\n",
       "      <td>0.0</td>\n",
       "      <td>11</td>\n",
       "      <td>21-No Parking (street clean)</td>\n",
       "      <td>PAS</td>\n",
       "      <td>OTHER</td>\n",
       "      <td>2017-01-19</td>\n",
       "    </tr>\n",
       "  </tbody>\n",
       "</table>\n",
       "<p>5 rows × 32 columns</p>\n",
       "</div>"
      ],
      "text/plain": [
       "                            Summons Number  Plate ID Registration State  \\\n",
       "Citation Issued Month Year                                                \n",
       "201701                          3901589984   GWB7054                 NY   \n",
       "201701                          3427885508   BAS3436                 NY   \n",
       "201701                          4188838366   41006PC                 NY   \n",
       "201701                          3364859027  KSMRNTUC                 NY   \n",
       "201701                          2725746864    187TJ5                 MA   \n",
       "\n",
       "                            Violation Code Vehicle Body Type Vehicle Make  \\\n",
       "Citation Issued Month Year                                                  \n",
       "201701                                  70              SUBN        TOYOT   \n",
       "201701                                  31              SUBN        HONDA   \n",
       "201701                                  47                TK        FRUEH   \n",
       "201701                                  37              4DSD         FORD   \n",
       "201701                                  21              2DSD         AUDI   \n",
       "\n",
       "                           Issuing Agency  Street Code1  Street Code2  \\\n",
       "Citation Issued Month Year                                              \n",
       "201701                                  T         59590          8590   \n",
       "201701                                  T         34350         10610   \n",
       "201701                                  T         10610         34470   \n",
       "201701                                  T         10210         18770   \n",
       "201701                                  T             0             0   \n",
       "\n",
       "                            Street Code3  ... Date First Observed Law Section  \\\n",
       "Citation Issued Month Year                ...                                   \n",
       "201701                             57790  ...                   0       408.0   \n",
       "201701                             10810  ...                   0       408.0   \n",
       "201701                             34490  ...                   0       408.0   \n",
       "201701                             18790  ...                   0       408.0   \n",
       "201701                                 0  ...                   0       408.0   \n",
       "\n",
       "                            Sub Division  Vehicle Year  Feet From Curb  \\\n",
       "Citation Issued Month Year                                               \n",
       "201701                                j3          2015             0.0   \n",
       "201701                                l3          2017             0.0   \n",
       "201701                                l2          2015             0.0   \n",
       "201701                                h1          2012             0.0   \n",
       "201701                                d1             0             0.0   \n",
       "\n",
       "                           Violation Post Code  \\\n",
       "Citation Issued Month Year                       \n",
       "201701                                      05   \n",
       "201701                                      01   \n",
       "201701                                      99   \n",
       "201701                                      09   \n",
       "201701                                      11   \n",
       "\n",
       "                                     Violation Description Plate Type  \\\n",
       "Citation Issued Month Year                                              \n",
       "201701                      70A-Reg. Sticker Expired (NYS)        PAS   \n",
       "201701                        31-No Stand (Com. Mtr. Zone)        PAS   \n",
       "201701                               47-Double PKG-Midtown      Other   \n",
       "201701                               37-Expired Muni Meter      Other   \n",
       "201701                        21-No Parking (street clean)        PAS   \n",
       "\n",
       "                           Vehicle Color Issue Date  \n",
       "Citation Issued Month Year                           \n",
       "201701                                BL 2017-01-18  \n",
       "201701                                GY 2017-01-31  \n",
       "201701                                MR 2017-01-21  \n",
       "201701                                BL 2017-01-21  \n",
       "201701                             OTHER 2017-01-19  \n",
       "\n",
       "[5 rows x 32 columns]"
      ]
     },
     "metadata": {},
     "output_type": "display_data"
    }
   ],
   "source": [
    "with ProgressBar():\n",
    "    display(nyc_data_new_index.head())"
   ]
  },
  {
   "cell_type": "markdown",
   "id": "54379301-a3fc-4c05-9c37-9aaf9d5f28c7",
   "metadata": {
    "tags": []
   },
   "source": [
    "#### (c) Save the repartititioned data to an AWS S3 bucket as parquet files."
   ]
  },
  {
   "cell_type": "code",
   "execution_count": 181,
   "id": "642bdc0c-39b4-43de-b22d-874a1aa66c3a",
   "metadata": {},
   "outputs": [],
   "source": [
    "with ProgressBar():\n",
    "    nyc_data_new_index.to_parquet('s3://nyc-parking-violations-parquet/nyc_data_new_index',engine='pyarrow', storage_options={'anon': False}, overwrite=True)\n",
    "# %reset"
   ]
  },
  {
   "cell_type": "markdown",
   "id": "3db98972-df70-49ac-9ea0-c34fd39c2847",
   "metadata": {
    "tags": []
   },
   "source": [
    "#### (d) Use the techniques demonstrated in class to pull the average monthly temperature data from NOAA API from 2017-2021. Create an in-memory DataFrame with your results and augment the ticket data with the temperature data. Do not hard-code any data or use any external files.\n"
   ]
  },
  {
   "cell_type": "code",
   "execution_count": 158,
   "id": "f484d676-fd01-4f50-985f-d53da0b709bb",
   "metadata": {
    "tags": []
   },
   "outputs": [
    {
     "data": {
      "text/plain": [
       "['nyc-parking-violations-parquet/nyc_data_new_index',\n",
       " 'nyc-parking-violations-parquet/test']"
      ]
     },
     "execution_count": 158,
     "metadata": {},
     "output_type": "execute_result"
    }
   ],
   "source": [
    "s3parquet = 's3://nyc-parking-violations-parquet/'\n",
    "s3.ls(s3parquet)"
   ]
  },
  {
   "cell_type": "code",
   "execution_count": 161,
   "id": "27c4c17e-4cc1-47ce-9e1b-ab8ac7ab9dcb",
   "metadata": {
    "tags": []
   },
   "outputs": [],
   "source": [
    "nyc_data_new_index = dd.read_parquet('s3://nyc-parking-violations-parquet/nyc_data_new_index/',engine='pyarrow')"
   ]
  },
  {
   "cell_type": "code",
   "execution_count": 173,
   "id": "f9b22e9b-35f3-45b8-bebd-329683a3ec18",
   "metadata": {
    "tags": []
   },
   "outputs": [
    {
     "data": {
      "text/html": [
       "<div>\n",
       "<style scoped>\n",
       "    .dataframe tbody tr th:only-of-type {\n",
       "        vertical-align: middle;\n",
       "    }\n",
       "\n",
       "    .dataframe tbody tr th {\n",
       "        vertical-align: top;\n",
       "    }\n",
       "\n",
       "    .dataframe thead th {\n",
       "        text-align: right;\n",
       "    }\n",
       "</style>\n",
       "<table border=\"1\" class=\"dataframe\">\n",
       "  <thead>\n",
       "    <tr style=\"text-align: right;\">\n",
       "      <th></th>\n",
       "      <th>Summons Number</th>\n",
       "      <th>Plate ID</th>\n",
       "      <th>Registration State</th>\n",
       "      <th>Violation Code</th>\n",
       "      <th>Vehicle Body Type</th>\n",
       "      <th>Vehicle Make</th>\n",
       "      <th>Issuing Agency</th>\n",
       "      <th>Street Code1</th>\n",
       "      <th>Street Code2</th>\n",
       "      <th>Street Code3</th>\n",
       "      <th>...</th>\n",
       "      <th>Date First Observed</th>\n",
       "      <th>Law Section</th>\n",
       "      <th>Sub Division</th>\n",
       "      <th>Vehicle Year</th>\n",
       "      <th>Feet From Curb</th>\n",
       "      <th>Violation Post Code</th>\n",
       "      <th>Violation Description</th>\n",
       "      <th>Plate Type</th>\n",
       "      <th>Vehicle Color</th>\n",
       "      <th>Issue Date</th>\n",
       "    </tr>\n",
       "    <tr>\n",
       "      <th>Citation Issued Month Year</th>\n",
       "      <th></th>\n",
       "      <th></th>\n",
       "      <th></th>\n",
       "      <th></th>\n",
       "      <th></th>\n",
       "      <th></th>\n",
       "      <th></th>\n",
       "      <th></th>\n",
       "      <th></th>\n",
       "      <th></th>\n",
       "      <th></th>\n",
       "      <th></th>\n",
       "      <th></th>\n",
       "      <th></th>\n",
       "      <th></th>\n",
       "      <th></th>\n",
       "      <th></th>\n",
       "      <th></th>\n",
       "      <th></th>\n",
       "      <th></th>\n",
       "      <th></th>\n",
       "    </tr>\n",
       "  </thead>\n",
       "  <tbody>\n",
       "    <tr>\n",
       "      <th>201701</th>\n",
       "      <td>3901589984</td>\n",
       "      <td>GWB7054</td>\n",
       "      <td>NY</td>\n",
       "      <td>70</td>\n",
       "      <td>SUBN</td>\n",
       "      <td>TOYOT</td>\n",
       "      <td>T</td>\n",
       "      <td>59590</td>\n",
       "      <td>8590</td>\n",
       "      <td>57790</td>\n",
       "      <td>...</td>\n",
       "      <td>0</td>\n",
       "      <td>408.0</td>\n",
       "      <td>j3</td>\n",
       "      <td>2015</td>\n",
       "      <td>0.0</td>\n",
       "      <td>05</td>\n",
       "      <td>70A-Reg. Sticker Expired (NYS)</td>\n",
       "      <td>PAS</td>\n",
       "      <td>BL</td>\n",
       "      <td>2017-01-18</td>\n",
       "    </tr>\n",
       "    <tr>\n",
       "      <th>201701</th>\n",
       "      <td>3427885508</td>\n",
       "      <td>BAS3436</td>\n",
       "      <td>NY</td>\n",
       "      <td>31</td>\n",
       "      <td>SUBN</td>\n",
       "      <td>HONDA</td>\n",
       "      <td>T</td>\n",
       "      <td>34350</td>\n",
       "      <td>10610</td>\n",
       "      <td>10810</td>\n",
       "      <td>...</td>\n",
       "      <td>0</td>\n",
       "      <td>408.0</td>\n",
       "      <td>l3</td>\n",
       "      <td>2017</td>\n",
       "      <td>0.0</td>\n",
       "      <td>01</td>\n",
       "      <td>31-No Stand (Com. Mtr. Zone)</td>\n",
       "      <td>PAS</td>\n",
       "      <td>GY</td>\n",
       "      <td>2017-01-31</td>\n",
       "    </tr>\n",
       "    <tr>\n",
       "      <th>201701</th>\n",
       "      <td>4188838366</td>\n",
       "      <td>41006PC</td>\n",
       "      <td>NY</td>\n",
       "      <td>47</td>\n",
       "      <td>TK</td>\n",
       "      <td>FRUEH</td>\n",
       "      <td>T</td>\n",
       "      <td>10610</td>\n",
       "      <td>34470</td>\n",
       "      <td>34490</td>\n",
       "      <td>...</td>\n",
       "      <td>0</td>\n",
       "      <td>408.0</td>\n",
       "      <td>l2</td>\n",
       "      <td>2015</td>\n",
       "      <td>0.0</td>\n",
       "      <td>99</td>\n",
       "      <td>47-Double PKG-Midtown</td>\n",
       "      <td>Other</td>\n",
       "      <td>MR</td>\n",
       "      <td>2017-01-21</td>\n",
       "    </tr>\n",
       "    <tr>\n",
       "      <th>201701</th>\n",
       "      <td>3364859027</td>\n",
       "      <td>KSMRNTUC</td>\n",
       "      <td>NY</td>\n",
       "      <td>37</td>\n",
       "      <td>4DSD</td>\n",
       "      <td>FORD</td>\n",
       "      <td>T</td>\n",
       "      <td>10210</td>\n",
       "      <td>18770</td>\n",
       "      <td>18790</td>\n",
       "      <td>...</td>\n",
       "      <td>0</td>\n",
       "      <td>408.0</td>\n",
       "      <td>h1</td>\n",
       "      <td>2012</td>\n",
       "      <td>0.0</td>\n",
       "      <td>09</td>\n",
       "      <td>37-Expired Muni Meter</td>\n",
       "      <td>Other</td>\n",
       "      <td>BL</td>\n",
       "      <td>2017-01-21</td>\n",
       "    </tr>\n",
       "    <tr>\n",
       "      <th>201701</th>\n",
       "      <td>2725746864</td>\n",
       "      <td>187TJ5</td>\n",
       "      <td>MA</td>\n",
       "      <td>21</td>\n",
       "      <td>2DSD</td>\n",
       "      <td>AUDI</td>\n",
       "      <td>T</td>\n",
       "      <td>0</td>\n",
       "      <td>0</td>\n",
       "      <td>0</td>\n",
       "      <td>...</td>\n",
       "      <td>0</td>\n",
       "      <td>408.0</td>\n",
       "      <td>d1</td>\n",
       "      <td>0</td>\n",
       "      <td>0.0</td>\n",
       "      <td>11</td>\n",
       "      <td>21-No Parking (street clean)</td>\n",
       "      <td>PAS</td>\n",
       "      <td>OTHER</td>\n",
       "      <td>2017-01-19</td>\n",
       "    </tr>\n",
       "  </tbody>\n",
       "</table>\n",
       "<p>5 rows × 32 columns</p>\n",
       "</div>"
      ],
      "text/plain": [
       "                            Summons Number  Plate ID Registration State  \\\n",
       "Citation Issued Month Year                                                \n",
       "201701                          3901589984   GWB7054                 NY   \n",
       "201701                          3427885508   BAS3436                 NY   \n",
       "201701                          4188838366   41006PC                 NY   \n",
       "201701                          3364859027  KSMRNTUC                 NY   \n",
       "201701                          2725746864    187TJ5                 MA   \n",
       "\n",
       "                            Violation Code Vehicle Body Type Vehicle Make  \\\n",
       "Citation Issued Month Year                                                  \n",
       "201701                                  70              SUBN        TOYOT   \n",
       "201701                                  31              SUBN        HONDA   \n",
       "201701                                  47                TK        FRUEH   \n",
       "201701                                  37              4DSD         FORD   \n",
       "201701                                  21              2DSD         AUDI   \n",
       "\n",
       "                           Issuing Agency  Street Code1  Street Code2  \\\n",
       "Citation Issued Month Year                                              \n",
       "201701                                  T         59590          8590   \n",
       "201701                                  T         34350         10610   \n",
       "201701                                  T         10610         34470   \n",
       "201701                                  T         10210         18770   \n",
       "201701                                  T             0             0   \n",
       "\n",
       "                            Street Code3  ... Date First Observed Law Section  \\\n",
       "Citation Issued Month Year                ...                                   \n",
       "201701                             57790  ...                   0       408.0   \n",
       "201701                             10810  ...                   0       408.0   \n",
       "201701                             34490  ...                   0       408.0   \n",
       "201701                             18790  ...                   0       408.0   \n",
       "201701                                 0  ...                   0       408.0   \n",
       "\n",
       "                            Sub Division  Vehicle Year  Feet From Curb  \\\n",
       "Citation Issued Month Year                                               \n",
       "201701                                j3          2015             0.0   \n",
       "201701                                l3          2017             0.0   \n",
       "201701                                l2          2015             0.0   \n",
       "201701                                h1          2012             0.0   \n",
       "201701                                d1             0             0.0   \n",
       "\n",
       "                           Violation Post Code  \\\n",
       "Citation Issued Month Year                       \n",
       "201701                                      05   \n",
       "201701                                      01   \n",
       "201701                                      99   \n",
       "201701                                      09   \n",
       "201701                                      11   \n",
       "\n",
       "                                     Violation Description Plate Type  \\\n",
       "Citation Issued Month Year                                              \n",
       "201701                      70A-Reg. Sticker Expired (NYS)        PAS   \n",
       "201701                        31-No Stand (Com. Mtr. Zone)        PAS   \n",
       "201701                               47-Double PKG-Midtown      Other   \n",
       "201701                               37-Expired Muni Meter      Other   \n",
       "201701                        21-No Parking (street clean)        PAS   \n",
       "\n",
       "                           Vehicle Color Issue Date  \n",
       "Citation Issued Month Year                           \n",
       "201701                                BL 2017-01-18  \n",
       "201701                                GY 2017-01-31  \n",
       "201701                                MR 2017-01-21  \n",
       "201701                                BL 2017-01-21  \n",
       "201701                             OTHER 2017-01-19  \n",
       "\n",
       "[5 rows x 32 columns]"
      ]
     },
     "execution_count": 173,
     "metadata": {},
     "output_type": "execute_result"
    }
   ],
   "source": [
    "nyc_data_new_index.head()"
   ]
  },
  {
   "cell_type": "code",
   "execution_count": 174,
   "id": "3649b001-4e5e-4945-a0ba-1e0a51666bcd",
   "metadata": {},
   "outputs": [],
   "source": [
    "import requests\n",
    "from pprint import pprint\n",
    "\n",
    "api_key = os.environ.get('NOAA_API_KEY')\n",
    "headers = {'token':api_key}\n",
    "dataset = 'https://www.ncei.noaa.gov/cdo-web/api/v2/datasets'\n",
    "location = 'https://www.ncei.noaa.gov/cdo-web/api/v2/locations'\n",
    "datatype = 'https://www.ncei.noaa.gov/cdo-web/api/v2/datatypes?datasetid=GSOM&datacategoryid=TEMP'\n",
    "newyorkinfo = 'https://www.ncei.noaa.gov/cdo-web/api/v2/stations?locationid=FIPS:36&sortfield=mindate'\n",
    "\n",
    "\n",
    "offset = 1\n",
    "pageurl = 'https://www.ncei.noaa.gov/cdo-web/api/v2/data?datasetid=GSOM&stationid=GHCND:USW00094728&datatypeid=TAVG&startdate=2017-01-01&enddate=2021-12-31&limit=1000&offset='\n",
    "\n",
    "temperature = []\n",
    "\n",
    "# print(response.json()['metadata']['resultset']['limit'])\n",
    "\n",
    "#Pagination\n",
    "while True:\n",
    "    response = requests.get(pageurl + str(offset), headers=headers)\n",
    "    \n",
    "    if response.status_code == 200:\n",
    "        json = response.json()\n",
    "        count = json['metadata']['resultset']['count']\n",
    "        limit = json['metadata']['resultset']['limit']\n",
    "        offset = json['metadata']['resultset']['offset']\n",
    "        \n",
    "        temperature.extend(json['results'])\n",
    "        if offset*limit < count:\n",
    "            offset += 1\n",
    "        else:\n",
    "            break\n",
    "    else:\n",
    "        print(response.content)\n",
    "        break;\n",
    "        \n",
    "tempdf = pd.DataFrame(temperature).drop(['datatype','station','attributes'], axis=1)\n",
    "tempdf_date = pd.to_datetime(tempdf['date'])\n",
    "\n",
    "\n",
    "tempdf_format = tempdf_date.apply(lambda x: x.strftime('%Y%m'))\n",
    "tempdf_stage1 = tempdf.drop(['date'], axis=1)\n",
    "tempdf_stage2 = tempdf_stage1.assign(Date=tempdf_format)\n",
    "tempdf_stage3 = tempdf_stage2.rename(columns={'value':'Average Temperature (Celsius)'})\n"
   ]
  },
  {
   "cell_type": "code",
   "execution_count": 218,
   "id": "d1dee079-0c9a-44c0-8b91-354f0f2846b7",
   "metadata": {},
   "outputs": [],
   "source": [
    "tempdf_new_index = tempdf_stage3.set_index(tempdf_stage3.Date.astype(str))"
   ]
  },
  {
   "cell_type": "code",
   "execution_count": 226,
   "id": "6888c881-eb09-442e-be46-1f847a71289b",
   "metadata": {},
   "outputs": [],
   "source": [
    "augmented_data = nyc_data_new_index.join(tempdf_new_index, on='Citation Issued Month Year') \n"
   ]
  },
  {
   "cell_type": "code",
   "execution_count": 220,
   "id": "185e8b22-1324-4106-827e-10a3c6bc8207",
   "metadata": {
    "tags": []
   },
   "outputs": [
    {
     "data": {
      "text/html": [
       "<div>\n",
       "<style scoped>\n",
       "    .dataframe tbody tr th:only-of-type {\n",
       "        vertical-align: middle;\n",
       "    }\n",
       "\n",
       "    .dataframe tbody tr th {\n",
       "        vertical-align: top;\n",
       "    }\n",
       "\n",
       "    .dataframe thead th {\n",
       "        text-align: right;\n",
       "    }\n",
       "</style>\n",
       "<table border=\"1\" class=\"dataframe\">\n",
       "  <thead>\n",
       "    <tr style=\"text-align: right;\">\n",
       "      <th></th>\n",
       "      <th>Summons Number</th>\n",
       "      <th>Plate ID</th>\n",
       "      <th>Registration State</th>\n",
       "      <th>Violation Code</th>\n",
       "      <th>Vehicle Body Type</th>\n",
       "      <th>Vehicle Make</th>\n",
       "      <th>Issuing Agency</th>\n",
       "      <th>Street Code1</th>\n",
       "      <th>Street Code2</th>\n",
       "      <th>Street Code3</th>\n",
       "      <th>...</th>\n",
       "      <th>Sub Division</th>\n",
       "      <th>Vehicle Year</th>\n",
       "      <th>Feet From Curb</th>\n",
       "      <th>Violation Post Code</th>\n",
       "      <th>Violation Description</th>\n",
       "      <th>Plate Type</th>\n",
       "      <th>Vehicle Color</th>\n",
       "      <th>Issue Date</th>\n",
       "      <th>Average Temperature (Celsius)</th>\n",
       "      <th>Date</th>\n",
       "    </tr>\n",
       "  </thead>\n",
       "  <tbody>\n",
       "    <tr>\n",
       "      <th>201701</th>\n",
       "      <td>3901589984</td>\n",
       "      <td>GWB7054</td>\n",
       "      <td>NY</td>\n",
       "      <td>70</td>\n",
       "      <td>SUBN</td>\n",
       "      <td>TOYOT</td>\n",
       "      <td>T</td>\n",
       "      <td>59590</td>\n",
       "      <td>8590</td>\n",
       "      <td>57790</td>\n",
       "      <td>...</td>\n",
       "      <td>j3</td>\n",
       "      <td>2015</td>\n",
       "      <td>0.0</td>\n",
       "      <td>05</td>\n",
       "      <td>70A-Reg. Sticker Expired (NYS)</td>\n",
       "      <td>PAS</td>\n",
       "      <td>BL</td>\n",
       "      <td>2017-01-18</td>\n",
       "      <td>3.36</td>\n",
       "      <td>201701</td>\n",
       "    </tr>\n",
       "    <tr>\n",
       "      <th>201701</th>\n",
       "      <td>3427885508</td>\n",
       "      <td>BAS3436</td>\n",
       "      <td>NY</td>\n",
       "      <td>31</td>\n",
       "      <td>SUBN</td>\n",
       "      <td>HONDA</td>\n",
       "      <td>T</td>\n",
       "      <td>34350</td>\n",
       "      <td>10610</td>\n",
       "      <td>10810</td>\n",
       "      <td>...</td>\n",
       "      <td>l3</td>\n",
       "      <td>2017</td>\n",
       "      <td>0.0</td>\n",
       "      <td>01</td>\n",
       "      <td>31-No Stand (Com. Mtr. Zone)</td>\n",
       "      <td>PAS</td>\n",
       "      <td>GY</td>\n",
       "      <td>2017-01-31</td>\n",
       "      <td>3.36</td>\n",
       "      <td>201701</td>\n",
       "    </tr>\n",
       "    <tr>\n",
       "      <th>201701</th>\n",
       "      <td>4188838366</td>\n",
       "      <td>41006PC</td>\n",
       "      <td>NY</td>\n",
       "      <td>47</td>\n",
       "      <td>TK</td>\n",
       "      <td>FRUEH</td>\n",
       "      <td>T</td>\n",
       "      <td>10610</td>\n",
       "      <td>34470</td>\n",
       "      <td>34490</td>\n",
       "      <td>...</td>\n",
       "      <td>l2</td>\n",
       "      <td>2015</td>\n",
       "      <td>0.0</td>\n",
       "      <td>99</td>\n",
       "      <td>47-Double PKG-Midtown</td>\n",
       "      <td>Other</td>\n",
       "      <td>MR</td>\n",
       "      <td>2017-01-21</td>\n",
       "      <td>3.36</td>\n",
       "      <td>201701</td>\n",
       "    </tr>\n",
       "    <tr>\n",
       "      <th>201701</th>\n",
       "      <td>3364859027</td>\n",
       "      <td>KSMRNTUC</td>\n",
       "      <td>NY</td>\n",
       "      <td>37</td>\n",
       "      <td>4DSD</td>\n",
       "      <td>FORD</td>\n",
       "      <td>T</td>\n",
       "      <td>10210</td>\n",
       "      <td>18770</td>\n",
       "      <td>18790</td>\n",
       "      <td>...</td>\n",
       "      <td>h1</td>\n",
       "      <td>2012</td>\n",
       "      <td>0.0</td>\n",
       "      <td>09</td>\n",
       "      <td>37-Expired Muni Meter</td>\n",
       "      <td>Other</td>\n",
       "      <td>BL</td>\n",
       "      <td>2017-01-21</td>\n",
       "      <td>3.36</td>\n",
       "      <td>201701</td>\n",
       "    </tr>\n",
       "    <tr>\n",
       "      <th>201701</th>\n",
       "      <td>2725746864</td>\n",
       "      <td>187TJ5</td>\n",
       "      <td>MA</td>\n",
       "      <td>21</td>\n",
       "      <td>2DSD</td>\n",
       "      <td>AUDI</td>\n",
       "      <td>T</td>\n",
       "      <td>0</td>\n",
       "      <td>0</td>\n",
       "      <td>0</td>\n",
       "      <td>...</td>\n",
       "      <td>d1</td>\n",
       "      <td>0</td>\n",
       "      <td>0.0</td>\n",
       "      <td>11</td>\n",
       "      <td>21-No Parking (street clean)</td>\n",
       "      <td>PAS</td>\n",
       "      <td>OTHER</td>\n",
       "      <td>2017-01-19</td>\n",
       "      <td>3.36</td>\n",
       "      <td>201701</td>\n",
       "    </tr>\n",
       "  </tbody>\n",
       "</table>\n",
       "<p>5 rows × 34 columns</p>\n",
       "</div>"
      ],
      "text/plain": [
       "        Summons Number  Plate ID Registration State  Violation Code  \\\n",
       "201701      3901589984   GWB7054                 NY              70   \n",
       "201701      3427885508   BAS3436                 NY              31   \n",
       "201701      4188838366   41006PC                 NY              47   \n",
       "201701      3364859027  KSMRNTUC                 NY              37   \n",
       "201701      2725746864    187TJ5                 MA              21   \n",
       "\n",
       "       Vehicle Body Type Vehicle Make Issuing Agency  Street Code1  \\\n",
       "201701              SUBN        TOYOT              T         59590   \n",
       "201701              SUBN        HONDA              T         34350   \n",
       "201701                TK        FRUEH              T         10610   \n",
       "201701              4DSD         FORD              T         10210   \n",
       "201701              2DSD         AUDI              T             0   \n",
       "\n",
       "        Street Code2  Street Code3  ... Sub Division Vehicle Year  \\\n",
       "201701          8590         57790  ...           j3         2015   \n",
       "201701         10610         10810  ...           l3         2017   \n",
       "201701         34470         34490  ...           l2         2015   \n",
       "201701         18770         18790  ...           h1         2012   \n",
       "201701             0             0  ...           d1            0   \n",
       "\n",
       "        Feet From Curb  Violation Post Code           Violation Description  \\\n",
       "201701             0.0                   05  70A-Reg. Sticker Expired (NYS)   \n",
       "201701             0.0                   01    31-No Stand (Com. Mtr. Zone)   \n",
       "201701             0.0                   99           47-Double PKG-Midtown   \n",
       "201701             0.0                   09           37-Expired Muni Meter   \n",
       "201701             0.0                   11    21-No Parking (street clean)   \n",
       "\n",
       "       Plate Type Vehicle Color Issue Date Average Temperature (Celsius)  \\\n",
       "201701        PAS            BL 2017-01-18                          3.36   \n",
       "201701        PAS            GY 2017-01-31                          3.36   \n",
       "201701      Other            MR 2017-01-21                          3.36   \n",
       "201701      Other            BL 2017-01-21                          3.36   \n",
       "201701        PAS         OTHER 2017-01-19                          3.36   \n",
       "\n",
       "          Date  \n",
       "201701  201701  \n",
       "201701  201701  \n",
       "201701  201701  \n",
       "201701  201701  \n",
       "201701  201701  \n",
       "\n",
       "[5 rows x 34 columns]"
      ]
     },
     "metadata": {},
     "output_type": "display_data"
    }
   ],
   "source": [
    "with ProgressBar():\n",
    "    display(augmented_data.head(npartitions=-1))"
   ]
  },
  {
   "cell_type": "markdown",
   "id": "c6c79daa-e276-4562-b973-9bfc00232e6d",
   "metadata": {
    "tags": []
   },
   "source": [
    "#### (e) Save the augmented data to an AWS S3 bucket.\n"
   ]
  },
  {
   "cell_type": "code",
   "execution_count": 228,
   "id": "133e6edd-9679-480f-ad43-ab214290bb1c",
   "metadata": {},
   "outputs": [],
   "source": [
    "with ProgressBar():\n",
    "    augmented_data.to_parquet('s3://nyc-parking-violations-parquet/augmented_data',engine='pyarrow', storage_options={'anon': False}, overwrite=True)"
   ]
  },
  {
   "cell_type": "markdown",
   "id": "1583136b-dd2b-4eca-a394-917b5e7c4f0e",
   "metadata": {
    "tags": []
   },
   "source": [
    "#### (f) Compute a count (value_counts) of vehicle years and display the results. Then filter out any year below 0 or year greater than 2022.\n"
   ]
  },
  {
   "cell_type": "code",
   "execution_count": null,
   "id": "7120a8d3-f085-472b-a631-fb5b85b608e4",
   "metadata": {},
   "outputs": [],
   "source": [
    "augmented_data = dd.read_parquet('s3://nyc-parking-violations-parquet/augmented_data')"
   ]
  },
  {
   "cell_type": "code",
   "execution_count": 231,
   "id": "bd5c027b-ff78-4f33-b36a-4660edeb3b10",
   "metadata": {},
   "outputs": [
    {
     "data": {
      "text/plain": [
       "0       14759386\n",
       "2017     5695751\n",
       "2016     5259164\n",
       "2018     4776903\n",
       "2015     4600828\n",
       "2019     4441334\n",
       "2014     3347357\n",
       "2013     3208989\n",
       "2020     2986406\n",
       "2012     2578485\n",
       "2011     2348158\n",
       "2007     2289837\n",
       "2008     2181059\n",
       "2006     2027442\n",
       "2010     1941323\n",
       "2021     1804566\n",
       "2009     1741030\n",
       "2005     1686043\n",
       "2004     1535238\n",
       "2003     1165185\n",
       "2002      890063\n",
       "2001      707181\n",
       "2022      439390\n",
       "1999      381642\n",
       "1998      288232\n",
       "1997      268180\n",
       "1996      122964\n",
       "1995      121926\n",
       "1994       50429\n",
       "1992       47740\n",
       "1990       46061\n",
       "1993       45580\n",
       "1988       31383\n",
       "1989       24193\n",
       "1991       23922\n",
       "1987       15863\n",
       "1986       14391\n",
       "1985        7200\n",
       "1984        5264\n",
       "2023        3633\n",
       "1983        3470\n",
       "1981        2748\n",
       "1982        2597\n",
       "1979        2236\n",
       "1978        1891\n",
       "1980        1838\n",
       "1977        1679\n",
       "1976        1447\n",
       "1972        1444\n",
       "1973        1242\n",
       "1971        1199\n",
       "1975        1061\n",
       "1974        1050\n",
       "2066        1010\n",
       "1970         955\n",
       "2068         876\n",
       "2065         850\n",
       "2069         765\n",
       "2067         716\n",
       "2063         349\n",
       "2064         345\n",
       "2062         314\n",
       "2057         252\n",
       "2061         210\n",
       "2055         169\n",
       "2054         119\n",
       "2060         115\n",
       "2051          93\n",
       "2049          86\n",
       "2025          84\n",
       "2024          84\n",
       "2056          67\n",
       "2026          65\n",
       "2053          56\n",
       "2052          52\n",
       "2048          50\n",
       "2059          41\n",
       "2029          40\n",
       "2058          40\n",
       "2028          38\n",
       "2047          37\n",
       "2050          36\n",
       "2030          32\n",
       "2040          31\n",
       "2027          25\n",
       "2031          23\n",
       "2041          23\n",
       "2045          20\n",
       "2046          19\n",
       "2044          19\n",
       "2036          17\n",
       "2039          15\n",
       "2035          15\n",
       "2042          13\n",
       "2037          11\n",
       "2032          11\n",
       "2033          10\n",
       "2034           7\n",
       "2043           6\n",
       "2038           5\n",
       "Name: Vehicle Year, dtype: int64"
      ]
     },
     "metadata": {},
     "output_type": "display_data"
    }
   ],
   "source": [
    "with ProgressBar():\n",
    "    display(augmented_data['Vehicle Year'].value_counts().compute())"
   ]
  },
  {
   "cell_type": "code",
   "execution_count": 232,
   "id": "d1a7754d-04c0-41fa-8258-ab92c92762bb",
   "metadata": {},
   "outputs": [],
   "source": [
    "yearcondition = (augmented_data['Vehicle Year'] > 0) & (augmented_data['Vehicle Year'] <= 2022)\n",
    "with ProgressBar():\n",
    "    vehicle_age_by_year = augmented_data[yearcondition]['Vehicle Year'].value_counts().compute().sort_index()\n"
   ]
  },
  {
   "cell_type": "code",
   "execution_count": 233,
   "id": "2b520515-706d-4043-9fa0-557f3c4ca227",
   "metadata": {},
   "outputs": [
    {
     "data": {
      "text/plain": [
       "1970        955\n",
       "1971       1199\n",
       "1972       1444\n",
       "1973       1242\n",
       "1974       1050\n",
       "1975       1061\n",
       "1976       1447\n",
       "1977       1679\n",
       "1978       1891\n",
       "1979       2236\n",
       "1980       1838\n",
       "1981       2748\n",
       "1982       2597\n",
       "1983       3470\n",
       "1984       5264\n",
       "1985       7200\n",
       "1986      14391\n",
       "1987      15863\n",
       "1988      31383\n",
       "1989      24193\n",
       "1990      46061\n",
       "1991      23922\n",
       "1992      47740\n",
       "1993      45580\n",
       "1994      50429\n",
       "1995     121926\n",
       "1996     122964\n",
       "1997     268180\n",
       "1998     288232\n",
       "1999     381642\n",
       "2001     707181\n",
       "2002     890063\n",
       "2003    1165185\n",
       "2004    1535238\n",
       "2005    1686043\n",
       "2006    2027442\n",
       "2007    2289837\n",
       "2008    2181059\n",
       "2009    1741030\n",
       "2010    1941323\n",
       "2011    2348158\n",
       "2012    2578485\n",
       "2013    3208989\n",
       "2014    3347357\n",
       "2015    4600828\n",
       "2016    5259164\n",
       "2017    5695751\n",
       "2018    4776903\n",
       "2019    4441334\n",
       "2020    2986406\n",
       "2021    1804566\n",
       "2022     439390\n",
       "Name: Vehicle Year, dtype: int64"
      ]
     },
     "execution_count": 233,
     "metadata": {},
     "output_type": "execute_result"
    }
   ],
   "source": [
    "vehicle_age_by_year"
   ]
  },
  {
   "cell_type": "markdown",
   "id": "fc8afdb7-3749-4042-bfb9-465c84634997",
   "metadata": {
    "tags": []
   },
   "source": [
    "#### (g) Calculate the vehicle age of all vehicles in the dataset\n"
   ]
  },
  {
   "cell_type": "code",
   "execution_count": 234,
   "id": "ec77cc21-737c-4d28-9e00-0ec3ab894f57",
   "metadata": {
    "tags": []
   },
   "outputs": [],
   "source": [
    "filtered_years = augmented_data[yearcondition]\n",
    "\n",
    "def age_calculation(row):\n",
    "    return int(row['Issue Date'].year - row['Vehicle Year'])\n",
    "\n",
    "vehicle_age = filtered_years.apply(age_calculation, axis=1, meta=('Vehicle Age', 'int'))\n",
    "nyc_data_vehicle_age_stg1 = filtered_years.assign(VehicleAge=vehicle_age)\n",
    "nyc_data_vehicle_age_stg2 = nyc_data_vehicle_age_stg1.rename(columns={'VehicleAge':'Vehicle Age'})\n",
    "nyc_data_with_vehicle_age = nyc_data_vehicle_age_stg2[nyc_data_vehicle_age_stg2['Vehicle Age'] >= 0]"
   ]
  },
  {
   "cell_type": "code",
   "execution_count": 235,
   "id": "b91dd6fd-fedd-4d0b-ae49-bd0fcf87314b",
   "metadata": {
    "tags": []
   },
   "outputs": [],
   "source": [
    "with ProgressBar():\n",
    "    nyc_data_with_vehicle_age.to_parquet('s3://nyc-parking-violations-parquet/nyc_data_with_vehicle_age',engine='pyarrow', storage_options={'anon': False}, overwrite=True)"
   ]
  },
  {
   "cell_type": "markdown",
   "id": "ff52ed5d-929a-4cb6-b52f-07220073a9f6",
   "metadata": {
    "tags": []
   },
   "source": [
    "#### (h) Computer descriptive statistics of the dataset and display your results including the mean, standard deviation, minimum, maximum and skewness.\n"
   ]
  },
  {
   "cell_type": "code",
   "execution_count": 237,
   "id": "c448b356-9e76-40bd-a559-e6e8f6e80a07",
   "metadata": {},
   "outputs": [
    {
     "data": {
      "text/html": [
       "<div>\n",
       "<style scoped>\n",
       "    .dataframe tbody tr th:only-of-type {\n",
       "        vertical-align: middle;\n",
       "    }\n",
       "\n",
       "    .dataframe tbody tr th {\n",
       "        vertical-align: top;\n",
       "    }\n",
       "\n",
       "    .dataframe thead th {\n",
       "        text-align: right;\n",
       "    }\n",
       "</style>\n",
       "<table border=\"1\" class=\"dataframe\">\n",
       "  <thead>\n",
       "    <tr style=\"text-align: right;\">\n",
       "      <th></th>\n",
       "      <th>Summons Number</th>\n",
       "      <th>Violation Code</th>\n",
       "      <th>Street Code1</th>\n",
       "      <th>Street Code2</th>\n",
       "      <th>Street Code3</th>\n",
       "      <th>Violation Precinct</th>\n",
       "      <th>Issuer Precinct</th>\n",
       "      <th>Issuer Code</th>\n",
       "      <th>Law Section</th>\n",
       "      <th>Vehicle Year</th>\n",
       "      <th>Feet From Curb</th>\n",
       "      <th>Average Temperature (Celsius)</th>\n",
       "      <th>Vehicle Age</th>\n",
       "    </tr>\n",
       "  </thead>\n",
       "  <tbody>\n",
       "    <tr>\n",
       "      <th>count</th>\n",
       "      <td>5.897026e+07</td>\n",
       "      <td>58970259.00</td>\n",
       "      <td>58970259.00</td>\n",
       "      <td>58970259.00</td>\n",
       "      <td>58970259.00</td>\n",
       "      <td>58970259.00</td>\n",
       "      <td>58970259.00</td>\n",
       "      <td>58970259.00</td>\n",
       "      <td>58970259.00</td>\n",
       "      <td>58970259.00</td>\n",
       "      <td>58970259.00</td>\n",
       "      <td>50403516.00</td>\n",
       "      <td>58970259.00</td>\n",
       "    </tr>\n",
       "    <tr>\n",
       "      <th>mean</th>\n",
       "      <td>1.036315e+09</td>\n",
       "      <td>34.32</td>\n",
       "      <td>19520.74</td>\n",
       "      <td>16615.37</td>\n",
       "      <td>16539.74</td>\n",
       "      <td>37.35</td>\n",
       "      <td>38.74</td>\n",
       "      <td>247680.24</td>\n",
       "      <td>680.55</td>\n",
       "      <td>2012.95</td>\n",
       "      <td>0.08</td>\n",
       "      <td>13.98</td>\n",
       "      <td>6.61</td>\n",
       "    </tr>\n",
       "    <tr>\n",
       "      <th>std</th>\n",
       "      <td>1.467846e+09</td>\n",
       "      <td>18.38</td>\n",
       "      <td>22477.33</td>\n",
       "      <td>21222.42</td>\n",
       "      <td>21347.89</td>\n",
       "      <td>41.79</td>\n",
       "      <td>58.12</td>\n",
       "      <td>208291.74</td>\n",
       "      <td>363.64</td>\n",
       "      <td>5.90</td>\n",
       "      <td>0.69</td>\n",
       "      <td>8.39</td>\n",
       "      <td>5.68</td>\n",
       "    </tr>\n",
       "    <tr>\n",
       "      <th>min</th>\n",
       "      <td>5.000000e+00</td>\n",
       "      <td>1.00</td>\n",
       "      <td>0.00</td>\n",
       "      <td>0.00</td>\n",
       "      <td>0.00</td>\n",
       "      <td>0.00</td>\n",
       "      <td>0.00</td>\n",
       "      <td>0.00</td>\n",
       "      <td>408.00</td>\n",
       "      <td>1970.00</td>\n",
       "      <td>0.00</td>\n",
       "      <td>-0.13</td>\n",
       "      <td>0.00</td>\n",
       "    </tr>\n",
       "    <tr>\n",
       "      <th>25%</th>\n",
       "      <td>3.061488e+08</td>\n",
       "      <td>31.00</td>\n",
       "      <td>5580.00</td>\n",
       "      <td>0.00</td>\n",
       "      <td>0.00</td>\n",
       "      <td>5.00</td>\n",
       "      <td>1.00</td>\n",
       "      <td>341195.00</td>\n",
       "      <td>408.00</td>\n",
       "      <td>2012.00</td>\n",
       "      <td>0.00</td>\n",
       "      <td>5.60</td>\n",
       "      <td>3.00</td>\n",
       "    </tr>\n",
       "    <tr>\n",
       "      <th>50%</th>\n",
       "      <td>4.420047e+08</td>\n",
       "      <td>36.00</td>\n",
       "      <td>19090.00</td>\n",
       "      <td>14695.00</td>\n",
       "      <td>14910.00</td>\n",
       "      <td>43.00</td>\n",
       "      <td>41.00</td>\n",
       "      <td>361799.00</td>\n",
       "      <td>408.00</td>\n",
       "      <td>2016.00</td>\n",
       "      <td>0.00</td>\n",
       "      <td>14.38</td>\n",
       "      <td>7.00</td>\n",
       "    </tr>\n",
       "    <tr>\n",
       "      <th>75%</th>\n",
       "      <td>4.255838e+09</td>\n",
       "      <td>72.00</td>\n",
       "      <td>49522.50</td>\n",
       "      <td>45455.00</td>\n",
       "      <td>45025.00</td>\n",
       "      <td>104.00</td>\n",
       "      <td>108.00</td>\n",
       "      <td>969081.50</td>\n",
       "      <td>1180.00</td>\n",
       "      <td>2019.00</td>\n",
       "      <td>0.00</td>\n",
       "      <td>22.03</td>\n",
       "      <td>11.25</td>\n",
       "    </tr>\n",
       "    <tr>\n",
       "      <th>max</th>\n",
       "      <td>4.294967e+09</td>\n",
       "      <td>99.00</td>\n",
       "      <td>98260.00</td>\n",
       "      <td>98310.00</td>\n",
       "      <td>98280.00</td>\n",
       "      <td>977.00</td>\n",
       "      <td>997.00</td>\n",
       "      <td>999992.00</td>\n",
       "      <td>8040.00</td>\n",
       "      <td>2022.00</td>\n",
       "      <td>50.00</td>\n",
       "      <td>26.68</td>\n",
       "      <td>52.00</td>\n",
       "    </tr>\n",
       "  </tbody>\n",
       "</table>\n",
       "</div>"
      ],
      "text/plain": [
       "       Summons Number  Violation Code  Street Code1  Street Code2  \\\n",
       "count    5.897026e+07     58970259.00   58970259.00   58970259.00   \n",
       "mean     1.036315e+09           34.32      19520.74      16615.37   \n",
       "std      1.467846e+09           18.38      22477.33      21222.42   \n",
       "min      5.000000e+00            1.00          0.00          0.00   \n",
       "25%      3.061488e+08           31.00       5580.00          0.00   \n",
       "50%      4.420047e+08           36.00      19090.00      14695.00   \n",
       "75%      4.255838e+09           72.00      49522.50      45455.00   \n",
       "max      4.294967e+09           99.00      98260.00      98310.00   \n",
       "\n",
       "       Street Code3  Violation Precinct  Issuer Precinct  Issuer Code  \\\n",
       "count   58970259.00         58970259.00      58970259.00  58970259.00   \n",
       "mean       16539.74               37.35            38.74    247680.24   \n",
       "std        21347.89               41.79            58.12    208291.74   \n",
       "min            0.00                0.00             0.00         0.00   \n",
       "25%            0.00                5.00             1.00    341195.00   \n",
       "50%        14910.00               43.00            41.00    361799.00   \n",
       "75%        45025.00              104.00           108.00    969081.50   \n",
       "max        98280.00              977.00           997.00    999992.00   \n",
       "\n",
       "       Law Section  Vehicle Year  Feet From Curb  \\\n",
       "count  58970259.00   58970259.00     58970259.00   \n",
       "mean        680.55       2012.95            0.08   \n",
       "std         363.64          5.90            0.69   \n",
       "min         408.00       1970.00            0.00   \n",
       "25%         408.00       2012.00            0.00   \n",
       "50%         408.00       2016.00            0.00   \n",
       "75%        1180.00       2019.00            0.00   \n",
       "max        8040.00       2022.00           50.00   \n",
       "\n",
       "       Average Temperature (Celsius)  Vehicle Age  \n",
       "count                    50403516.00  58970259.00  \n",
       "mean                           13.98         6.61  \n",
       "std                             8.39         5.68  \n",
       "min                            -0.13         0.00  \n",
       "25%                             5.60         3.00  \n",
       "50%                            14.38         7.00  \n",
       "75%                            22.03        11.25  \n",
       "max                            26.68        52.00  "
      ]
     },
     "execution_count": 237,
     "metadata": {},
     "output_type": "execute_result"
    }
   ],
   "source": [
    "with ProgressBar():\n",
    "    descriptive_stats = nyc_data_with_vehicle_age.describe().compute()\n",
    "    \n",
    "descriptive_stats.round(2)"
   ]
  },
  {
   "cell_type": "markdown",
   "id": "188291f9-9a01-4ccf-bf9b-8ecfa449d061",
   "metadata": {
    "tags": []
   },
   "source": [
    "#### (i) Create a custom sort that sorts the dataset by month-year and displays a count of summons/citations for each month-year. Apply your sort and display the result as a DataFrame showing all records. \n"
   ]
  },
  {
   "cell_type": "code",
   "execution_count": 238,
   "id": "8355915b-cb31-4368-bd32-1b69b5501823",
   "metadata": {
    "tags": []
   },
   "outputs": [
    {
     "data": {
      "text/html": [
       "<div>\n",
       "<style scoped>\n",
       "    .dataframe tbody tr th:only-of-type {\n",
       "        vertical-align: middle;\n",
       "    }\n",
       "\n",
       "    .dataframe tbody tr th {\n",
       "        vertical-align: top;\n",
       "    }\n",
       "\n",
       "    .dataframe thead th {\n",
       "        text-align: right;\n",
       "    }\n",
       "</style>\n",
       "<table border=\"1\" class=\"dataframe\">\n",
       "  <thead>\n",
       "    <tr style=\"text-align: right;\">\n",
       "      <th></th>\n",
       "      <th>Summons Number</th>\n",
       "    </tr>\n",
       "    <tr>\n",
       "      <th>Date</th>\n",
       "      <th></th>\n",
       "    </tr>\n",
       "  </thead>\n",
       "  <tbody>\n",
       "    <tr>\n",
       "      <th>201701</th>\n",
       "      <td>686295</td>\n",
       "    </tr>\n",
       "    <tr>\n",
       "      <th>201702</th>\n",
       "      <td>643571</td>\n",
       "    </tr>\n",
       "    <tr>\n",
       "      <th>201703</th>\n",
       "      <td>752779</td>\n",
       "    </tr>\n",
       "    <tr>\n",
       "      <th>201704</th>\n",
       "      <td>681492</td>\n",
       "    </tr>\n",
       "    <tr>\n",
       "      <th>201705</th>\n",
       "      <td>793918</td>\n",
       "    </tr>\n",
       "    <tr>\n",
       "      <th>201706</th>\n",
       "      <td>799399</td>\n",
       "    </tr>\n",
       "    <tr>\n",
       "      <th>201707</th>\n",
       "      <td>726630</td>\n",
       "    </tr>\n",
       "    <tr>\n",
       "      <th>201708</th>\n",
       "      <td>709191</td>\n",
       "    </tr>\n",
       "    <tr>\n",
       "      <th>201709</th>\n",
       "      <td>764734</td>\n",
       "    </tr>\n",
       "    <tr>\n",
       "      <th>201710</th>\n",
       "      <td>873887</td>\n",
       "    </tr>\n",
       "    <tr>\n",
       "      <th>201711</th>\n",
       "      <td>801770</td>\n",
       "    </tr>\n",
       "    <tr>\n",
       "      <th>201712</th>\n",
       "      <td>641268</td>\n",
       "    </tr>\n",
       "    <tr>\n",
       "      <th>201801</th>\n",
       "      <td>718419</td>\n",
       "    </tr>\n",
       "    <tr>\n",
       "      <th>201802</th>\n",
       "      <td>715177</td>\n",
       "    </tr>\n",
       "    <tr>\n",
       "      <th>201803</th>\n",
       "      <td>749892</td>\n",
       "    </tr>\n",
       "    <tr>\n",
       "      <th>201804</th>\n",
       "      <td>765935</td>\n",
       "    </tr>\n",
       "    <tr>\n",
       "      <th>201805</th>\n",
       "      <td>862477</td>\n",
       "    </tr>\n",
       "    <tr>\n",
       "      <th>201806</th>\n",
       "      <td>763318</td>\n",
       "    </tr>\n",
       "    <tr>\n",
       "      <th>201807</th>\n",
       "      <td>727875</td>\n",
       "    </tr>\n",
       "    <tr>\n",
       "      <th>201808</th>\n",
       "      <td>701128</td>\n",
       "    </tr>\n",
       "    <tr>\n",
       "      <th>201809</th>\n",
       "      <td>697878</td>\n",
       "    </tr>\n",
       "    <tr>\n",
       "      <th>201810</th>\n",
       "      <td>904485</td>\n",
       "    </tr>\n",
       "    <tr>\n",
       "      <th>201811</th>\n",
       "      <td>779980</td>\n",
       "    </tr>\n",
       "    <tr>\n",
       "      <th>201812</th>\n",
       "      <td>726480</td>\n",
       "    </tr>\n",
       "    <tr>\n",
       "      <th>201901</th>\n",
       "      <td>814441</td>\n",
       "    </tr>\n",
       "    <tr>\n",
       "      <th>201902</th>\n",
       "      <td>656984</td>\n",
       "    </tr>\n",
       "    <tr>\n",
       "      <th>201903</th>\n",
       "      <td>752490</td>\n",
       "    </tr>\n",
       "    <tr>\n",
       "      <th>201904</th>\n",
       "      <td>690876</td>\n",
       "    </tr>\n",
       "    <tr>\n",
       "      <th>201905</th>\n",
       "      <td>755627</td>\n",
       "    </tr>\n",
       "    <tr>\n",
       "      <th>201906</th>\n",
       "      <td>658413</td>\n",
       "    </tr>\n",
       "    <tr>\n",
       "      <th>201907</th>\n",
       "      <td>937084</td>\n",
       "    </tr>\n",
       "    <tr>\n",
       "      <th>201908</th>\n",
       "      <td>1078004</td>\n",
       "    </tr>\n",
       "    <tr>\n",
       "      <th>201909</th>\n",
       "      <td>979872</td>\n",
       "    </tr>\n",
       "    <tr>\n",
       "      <th>201910</th>\n",
       "      <td>1008821</td>\n",
       "    </tr>\n",
       "    <tr>\n",
       "      <th>201911</th>\n",
       "      <td>937843</td>\n",
       "    </tr>\n",
       "    <tr>\n",
       "      <th>201912</th>\n",
       "      <td>782916</td>\n",
       "    </tr>\n",
       "    <tr>\n",
       "      <th>202001</th>\n",
       "      <td>946915</td>\n",
       "    </tr>\n",
       "    <tr>\n",
       "      <th>202002</th>\n",
       "      <td>908067</td>\n",
       "    </tr>\n",
       "    <tr>\n",
       "      <th>202003</th>\n",
       "      <td>874066</td>\n",
       "    </tr>\n",
       "    <tr>\n",
       "      <th>202004</th>\n",
       "      <td>580071</td>\n",
       "    </tr>\n",
       "    <tr>\n",
       "      <th>202005</th>\n",
       "      <td>539582</td>\n",
       "    </tr>\n",
       "    <tr>\n",
       "      <th>202006</th>\n",
       "      <td>645570</td>\n",
       "    </tr>\n",
       "    <tr>\n",
       "      <th>202007</th>\n",
       "      <td>883355</td>\n",
       "    </tr>\n",
       "    <tr>\n",
       "      <th>202008</th>\n",
       "      <td>1098594</td>\n",
       "    </tr>\n",
       "    <tr>\n",
       "      <th>202009</th>\n",
       "      <td>1115710</td>\n",
       "    </tr>\n",
       "    <tr>\n",
       "      <th>202010</th>\n",
       "      <td>1067236</td>\n",
       "    </tr>\n",
       "    <tr>\n",
       "      <th>202011</th>\n",
       "      <td>957555</td>\n",
       "    </tr>\n",
       "    <tr>\n",
       "      <th>202012</th>\n",
       "      <td>944244</td>\n",
       "    </tr>\n",
       "    <tr>\n",
       "      <th>202101</th>\n",
       "      <td>995081</td>\n",
       "    </tr>\n",
       "    <tr>\n",
       "      <th>202102</th>\n",
       "      <td>566413</td>\n",
       "    </tr>\n",
       "    <tr>\n",
       "      <th>202103</th>\n",
       "      <td>1074202</td>\n",
       "    </tr>\n",
       "    <tr>\n",
       "      <th>202104</th>\n",
       "      <td>958341</td>\n",
       "    </tr>\n",
       "    <tr>\n",
       "      <th>202105</th>\n",
       "      <td>940911</td>\n",
       "    </tr>\n",
       "    <tr>\n",
       "      <th>202106</th>\n",
       "      <td>1134012</td>\n",
       "    </tr>\n",
       "    <tr>\n",
       "      <th>202107</th>\n",
       "      <td>1122293</td>\n",
       "    </tr>\n",
       "    <tr>\n",
       "      <th>202108</th>\n",
       "      <td>1136932</td>\n",
       "    </tr>\n",
       "    <tr>\n",
       "      <th>202109</th>\n",
       "      <td>976732</td>\n",
       "    </tr>\n",
       "    <tr>\n",
       "      <th>202110</th>\n",
       "      <td>1082467</td>\n",
       "    </tr>\n",
       "    <tr>\n",
       "      <th>202111</th>\n",
       "      <td>1051092</td>\n",
       "    </tr>\n",
       "    <tr>\n",
       "      <th>202112</th>\n",
       "      <td>964026</td>\n",
       "    </tr>\n",
       "  </tbody>\n",
       "</table>\n",
       "</div>"
      ],
      "text/plain": [
       "        Summons Number\n",
       "Date                  \n",
       "201701          686295\n",
       "201702          643571\n",
       "201703          752779\n",
       "201704          681492\n",
       "201705          793918\n",
       "201706          799399\n",
       "201707          726630\n",
       "201708          709191\n",
       "201709          764734\n",
       "201710          873887\n",
       "201711          801770\n",
       "201712          641268\n",
       "201801          718419\n",
       "201802          715177\n",
       "201803          749892\n",
       "201804          765935\n",
       "201805          862477\n",
       "201806          763318\n",
       "201807          727875\n",
       "201808          701128\n",
       "201809          697878\n",
       "201810          904485\n",
       "201811          779980\n",
       "201812          726480\n",
       "201901          814441\n",
       "201902          656984\n",
       "201903          752490\n",
       "201904          690876\n",
       "201905          755627\n",
       "201906          658413\n",
       "201907          937084\n",
       "201908         1078004\n",
       "201909          979872\n",
       "201910         1008821\n",
       "201911          937843\n",
       "201912          782916\n",
       "202001          946915\n",
       "202002          908067\n",
       "202003          874066\n",
       "202004          580071\n",
       "202005          539582\n",
       "202006          645570\n",
       "202007          883355\n",
       "202008         1098594\n",
       "202009         1115710\n",
       "202010         1067236\n",
       "202011          957555\n",
       "202012          944244\n",
       "202101          995081\n",
       "202102          566413\n",
       "202103         1074202\n",
       "202104          958341\n",
       "202105          940911\n",
       "202106         1134012\n",
       "202107         1122293\n",
       "202108         1136932\n",
       "202109          976732\n",
       "202110         1082467\n",
       "202111         1051092\n",
       "202112          964026"
      ]
     },
     "metadata": {},
     "output_type": "display_data"
    }
   ],
   "source": [
    "sort_order = pd.Series(range(len(years_months)), index=years_months, name='custom_sort')\n",
    "\n",
    "def sort_by_months(dataframe, order):\n",
    "    return dataframe.join(order).sort_values('custom_sort').drop('custom_sort', axis=1)\n",
    "\n",
    "# with ProgressBar():\n",
    "#     display(sort_by_months(filteredyears, sort_order).head())\n",
    "\n",
    "with ProgressBar():\n",
    "    nyc_data_by_month = filtered_years.groupby('Date')\n",
    "    citations_per_month = nyc_data_by_month['Summons Number'].count().compute()\n",
    "    \n",
    "pd.set_option('display.max_rows', 100)\n",
    "display(sort_by_months(citations_per_month.to_frame(), sort_order))"
   ]
  },
  {
   "cell_type": "markdown",
   "id": "2b2516ff-80d2-48e2-af0f-c0f0df5d115b",
   "metadata": {
    "tags": []
   },
   "source": [
    "#### (j) Compute the correlation between number of summons/citations per month vs temperature. First, exclude the data from 202107- 202208 since these counts look anomalous when compared with other months."
   ]
  },
  {
   "cell_type": "code",
   "execution_count": 239,
   "id": "62e96d92-c2b4-4229-96cc-228a2f05588b",
   "metadata": {
    "tags": []
   },
   "outputs": [
    {
     "data": {
      "text/html": [
       "<div>\n",
       "<style scoped>\n",
       "    .dataframe tbody tr th:only-of-type {\n",
       "        vertical-align: middle;\n",
       "    }\n",
       "\n",
       "    .dataframe tbody tr th {\n",
       "        vertical-align: top;\n",
       "    }\n",
       "\n",
       "    .dataframe thead th {\n",
       "        text-align: right;\n",
       "    }\n",
       "</style>\n",
       "<table border=\"1\" class=\"dataframe\">\n",
       "  <thead>\n",
       "    <tr style=\"text-align: right;\">\n",
       "      <th></th>\n",
       "      <th>Summons Number</th>\n",
       "      <th>Average Temperature (Celsius)</th>\n",
       "    </tr>\n",
       "  </thead>\n",
       "  <tbody>\n",
       "    <tr>\n",
       "      <th>Summons Number</th>\n",
       "      <td>1.000000</td>\n",
       "      <td>0.202903</td>\n",
       "    </tr>\n",
       "    <tr>\n",
       "      <th>Average Temperature (Celsius)</th>\n",
       "      <td>0.202903</td>\n",
       "      <td>1.000000</td>\n",
       "    </tr>\n",
       "  </tbody>\n",
       "</table>\n",
       "</div>"
      ],
      "text/plain": [
       "                               Summons Number  Average Temperature (Celsius)\n",
       "Summons Number                       1.000000                       0.202903\n",
       "Average Temperature (Celsius)        0.202903                       1.000000"
      ]
     },
     "execution_count": 239,
     "metadata": {},
     "output_type": "execute_result"
    }
   ],
   "source": [
    "exclude = ['202107','202108','202109','202110','202111',\n",
    "           '202112', '202201', '202202', '202203', '202204', \n",
    "           '202205', '202206', '202207', '202208']\n",
    "\n",
    "with ProgressBar():\n",
    "    condition = ~filtered_years['Date'].isin(exclude)\n",
    "    filtered_years_excluded = filtered_years[condition]\n",
    "    citations_and_temps = filtered_years_excluded.groupby('Date').agg({'Summons Number': 'count', 'Average Temperature (Celsius)': 'mean'})\n",
    "    correlation_matrix = citations_and_temps.corr().compute()\n",
    "    \n",
    "correlation_matrix\n"
   ]
  },
  {
   "cell_type": "markdown",
   "id": "4858c0d7-ea51-4353-a11a-5baa976f6153",
   "metadata": {
    "tags": []
   },
   "source": [
    "# 4. Hypothesis Testing"
   ]
  },
  {
   "cell_type": "markdown",
   "id": "ee9750a5-7585-4fe6-a5dd-25454be49478",
   "metadata": {
    "tags": []
   },
   "source": [
    "### (a) Conduct a t-test between vehicles with PAS vs COM plates to answer the question: \"is the average age of privately owned vehicles the same as it is for commercially owned vehicles?\" Note that to conduct a t-test, we need to check whether the variances of both samples are the same. If the variances are the same, use Student’s t-test. Otherwise, use Welch’s t-test. First, do a test of equal variances using Brown-Forsythe Test of Equal Variances. Show your work for each step and interpret your results."
   ]
  },
  {
   "cell_type": "code",
   "execution_count": 236,
   "id": "5c4f9ed5-a3a0-4113-9597-ef697102b048",
   "metadata": {},
   "outputs": [],
   "source": [
    "# Setting up the vehicle age dataset\n",
    "nyc_data_with_vehicle_age = dd.read_parquet('s3://nyc-parking-violations-parquet/nyc_data_with_vehicle_age', storage_options={'anon': False}, engine='pyarrow')\n",
    "\n",
    "nyc_data_filtered = nyc_data_with_vehicle_age[nyc_data_with_vehicle_age ['Plate Type'].isin(['PAS','COM'])]"
   ]
  },
  {
   "cell_type": "markdown",
   "id": "4ea10f24-8fc3-475d-b366-a6a83e16f458",
   "metadata": {},
   "source": [
    "#### 1. Calculate the left fraction."
   ]
  },
  {
   "cell_type": "code",
   "execution_count": 240,
   "id": "1b8a17c0-d69e-4c97-a13c-1f08455fe7fb",
   "metadata": {},
   "outputs": [],
   "source": [
    "# Calculating the left fraction of the Brown-Forsythe equation\n",
    "with ProgressBar():\n",
    "    N = nyc_data_filtered['Vehicle Age'].count().compute()\n",
    "    p = nyc_data_filtered['Plate Type'].unique().count().compute()\n",
    "brown_forsythe_left = (N - p) / (p - 1)"
   ]
  },
  {
   "cell_type": "markdown",
   "id": "3ead8480-ecb4-43bd-8141-2cf99aaff282",
   "metadata": {},
   "source": [
    "#### 2. Calculate the denominator of the right fraction."
   ]
  },
  {
   "cell_type": "code",
   "execution_count": 241,
   "id": "956bae54-bbeb-4819-9040-bf35eff9666f",
   "metadata": {},
   "outputs": [],
   "source": [
    "# Calculating the median age for each vehicle type\n",
    "with ProgressBar():\n",
    "    passenger_vehicles = nyc_data_filtered[nyc_data_filtered['Plate Type'] == 'PAS']\n",
    "    commercial_vehicles = nyc_data_filtered[nyc_data_filtered['Plate Type'] == 'COM']\n",
    "    median_PAS = passenger_vehicles['Vehicle Age'].quantile(0.5).compute()\n",
    "    median_COM = commercial_vehicles['Vehicle Age'].quantile(0.5).compute()"
   ]
  },
  {
   "cell_type": "code",
   "execution_count": 242,
   "id": "d78d05e6-cca6-4c72-b9b4-a1a8f0fae83f",
   "metadata": {},
   "outputs": [],
   "source": [
    "# A function to calculate the absolute median deviation\n",
    "def absolute_deviation_from_median(row):\n",
    "    if row['Plate Type'] == 'PAS':\n",
    "        return abs(row['Vehicle Age'] - median_PAS)\n",
    "    else:\n",
    "        return abs(row['Vehicle Age'] - median_COM)"
   ]
  },
  {
   "cell_type": "code",
   "execution_count": 243,
   "id": "7032a68d-c18a-4d06-a1fa-60d51030a3f7",
   "metadata": {},
   "outputs": [],
   "source": [
    "# Creating a column to calculate the absolute median differences\n",
    "absolute_deviation = nyc_data_filtered.apply(absolute_deviation_from_median, axis=1, meta=('x', 'float32'))\n",
    "\n",
    "nyc_data_age_type_test_stg1 = nyc_data_filtered.assign(MedianDifferences = absolute_deviation)\n",
    "nyc_data_age_type_test = nyc_data_age_type_test_stg1.rename(columns={'MedianDifferences':'Median Difference'})"
   ]
  },
  {
   "cell_type": "code",
   "execution_count": 244,
   "id": "6d7e0360-da9d-4be5-949b-1128e7b4d2d3",
   "metadata": {},
   "outputs": [],
   "source": [
    "# Calculating the group means of the median differences\n",
    "with ProgressBar():\n",
    "    group_means = nyc_data_age_type_test.groupby('Plate Type')['Median Difference'].mean().compute()"
   ]
  },
  {
   "cell_type": "code",
   "execution_count": 245,
   "id": "046dc06b-db53-48c5-b109-c2f8f7fac12d",
   "metadata": {},
   "outputs": [],
   "source": [
    "# Calculating the Group Mean Variance\n",
    "def group_mean_variance(row):\n",
    "    if row['Plate Type'] == 'PAS':\n",
    "        return (row['Median Difference'] - group_means['PAS'])**2\n",
    "    else:\n",
    "        return (row['Median Difference'] - group_means['COM'])**2\n",
    "    \n",
    "group_mean_variances = nyc_data_age_type_test.apply(group_mean_variance, axis=1, meta=('x', 'float32'))\n",
    "\n",
    "nyc_data_age_type_test_gmv_stg1 = nyc_data_age_type_test.assign(GroupMeanVariances = group_mean_variances)\n",
    "nyc_data_age_type_test_gmv = nyc_data_age_type_test_gmv_stg1.rename(columns={'GroupMeanVariances':'Group Mean Variance'})"
   ]
  },
  {
   "cell_type": "code",
   "execution_count": 246,
   "id": "2d95ee70-079a-479f-9dd0-4c5ec2a28b88",
   "metadata": {},
   "outputs": [],
   "source": [
    "# Finishing calculating the right denominator\n",
    "with ProgressBar():\n",
    "    brown_forsythe_right_denominator = nyc_data_age_type_test_gmv['Group Mean Variance'].sum().compute()"
   ]
  },
  {
   "cell_type": "markdown",
   "id": "b885cd12-5e11-4e9f-aa0d-5d6aecca1f87",
   "metadata": {},
   "source": [
    "#### 3. Calculate the numerator of the right fraction."
   ]
  },
  {
   "cell_type": "code",
   "execution_count": 247,
   "id": "8f9d5b79-b32c-4443-a694-a94aee80940a",
   "metadata": {},
   "outputs": [],
   "source": [
    "# Calculating the grand mean of the Median Difference column\n",
    "with ProgressBar():\n",
    "    grand_mean = nyc_data_age_type_test['Median Difference'].mean().compute()"
   ]
  },
  {
   "cell_type": "code",
   "execution_count": 248,
   "id": "6c545981-b249-40c0-a10c-2f07bd2514d7",
   "metadata": {},
   "outputs": [],
   "source": [
    "# A custom aggregation for calculating the right numerator\n",
    "brown_forsythe_aggregation = dd.Aggregation(\n",
    "    'Brown_Forsythe',\n",
    "    lambda chunk: (chunk.count(), chunk.sum()),\n",
    "    lambda chunk_count, chunk_sum: (chunk_count.sum(), chunk_sum.sum()),\n",
    "    lambda group_count, group_sum: group_count * (((group_sum / group_count) - grand_mean)**2)\n",
    ")"
   ]
  },
  {
   "cell_type": "code",
   "execution_count": 249,
   "id": "0a2c0f0b-622e-470c-9e11-0386985dab8c",
   "metadata": {},
   "outputs": [],
   "source": [
    "# Using the custom aggregate function\n",
    "with ProgressBar():\n",
    "    group_variances = nyc_data_age_type_test.groupby('Plate Type').agg({'Median Difference': brown_forsythe_aggregation}).compute()"
   ]
  },
  {
   "cell_type": "code",
   "execution_count": 250,
   "id": "64da4058-23ef-4099-badc-de0befeddd9e",
   "metadata": {},
   "outputs": [],
   "source": [
    "# Finishing the right numerator calculation\n",
    "brown_forsythe_right_numerator = group_variances.sum()[0]"
   ]
  },
  {
   "cell_type": "markdown",
   "id": "2438f0d1-d62b-4114-94a2-be59f94f0ecd",
   "metadata": {},
   "source": [
    "#### 4 & 5. Divide the numerator of the right fraction by the denominator of the right fraction to calculate the value of the right fraction. Multiply the left fraction by the right fraction."
   ]
  },
  {
   "cell_type": "code",
   "execution_count": 251,
   "id": "5654597a-dfcd-421b-b2d5-f761bd3a804f",
   "metadata": {},
   "outputs": [
    {
     "data": {
      "text/plain": [
       "65090.97848930444"
      ]
     },
     "execution_count": 251,
     "metadata": {},
     "output_type": "execute_result"
    }
   ],
   "source": [
    "# Calculating the F Statistic\n",
    "F_statistic = brown_forsythe_left * (brown_forsythe_right_numerator / brown_forsythe_right_denominator)\n",
    "F_statistic"
   ]
  },
  {
   "cell_type": "code",
   "execution_count": 253,
   "id": "d4ae41ce-785a-4209-900f-da2ef59f2a43",
   "metadata": {},
   "outputs": [
    {
     "data": {
      "text/plain": [
       "3.841458997320836"
      ]
     },
     "execution_count": 253,
     "metadata": {},
     "output_type": "execute_result"
    }
   ],
   "source": [
    "# Calculating the F Critical value\n",
    "import scipy.stats as stats\n",
    "alpha = 0.05\n",
    "df1 = p - 1\n",
    "df2 = N - p\n",
    "F_critical = stats.f.ppf(q=1-alpha, dfn=df1, dfd=df2)\n",
    "F_critical"
   ]
  },
  {
   "cell_type": "code",
   "execution_count": 254,
   "id": "a4947b17-8f02-40f2-9eeb-47c322cf52ac",
   "metadata": {},
   "outputs": [
    {
     "name": "stdout",
     "output_type": "stream",
     "text": [
      "Using the Brown-Forsythe Test for Equal Variance\n",
      "The Null Hypothesis states: the variance is constant among groups\n",
      "The Alternative Hypothesis states: the variance is not constant among groups\n",
      "At a confidence level of 0.05, the F statistic was 65090.97848930444 and the F critical value was 3.841458997320836.\n",
      "We can reject the null hypothesis. Set equal_var to False.\n"
     ]
    }
   ],
   "source": [
    "# Reporting our findings of the Brown-Forsythe test\n",
    "print(\"Using the Brown-Forsythe Test for Equal Variance\")\n",
    "print(\"The Null Hypothesis states: the variance is constant among groups\")\n",
    "print(\"The Alternative Hypothesis states: the variance is not constant among groups\")\n",
    "print(\"At a confidence level of \" + str(alpha) + \", the F statistic was \" + str(F_statistic) + \" and the F critical value was \" + str(F_critical) + \".\")\n",
    "if F_statistic > F_critical:\n",
    "    print(\"We can reject the null hypothesis. Set equal_var to False.\")\n",
    "else:\n",
    "    print(\"We fail to reject the null hypothesis. Set equal_var to True.\")"
   ]
  },
  {
   "cell_type": "code",
   "execution_count": 255,
   "id": "fbecb778-ae5e-43e4-8791-17e2ac5ccdd0",
   "metadata": {},
   "outputs": [],
   "source": [
    "# Collecting an Array of values for PAS and COM to conduct the two-sample t-test\n",
    "with ProgressBar():\n",
    "    pas = passenger_vehicles['Vehicle Age'].values.compute()\n",
    "    com = commercial_vehicles['Vehicle Age'].values.compute()"
   ]
  },
  {
   "cell_type": "code",
   "execution_count": 256,
   "id": "c3ed873e-6696-4e84-b53f-758f2541b728",
   "metadata": {},
   "outputs": [
    {
     "data": {
      "text/plain": [
       "Ttest_indResult(statistic=-232.1126319490947, pvalue=0.0)"
      ]
     },
     "execution_count": 256,
     "metadata": {},
     "output_type": "execute_result"
    }
   ],
   "source": [
    "# Conducting a two-sample t-test\n",
    "#We will use SciPy to run Welch's T-Test instead of Student’s T-Test\n",
    "#If we set variance to be equal, this will use Student's t-test\n",
    "\n",
    "stats.ttest_ind(pas, com, equal_var=False)"
   ]
  },
  {
   "cell_type": "markdown",
   "id": "732fedf0-9cf4-45a4-b262-accbe7198ed2",
   "metadata": {
    "tags": []
   },
   "source": [
    "# 5. Bonus"
   ]
  },
  {
   "cell_type": "markdown",
   "id": "cc01de1d-b379-4a58-af02-da13fdc3edcc",
   "metadata": {
    "tags": []
   },
   "source": [
    "### (a) Reproduce the plots demonstrated on the slides for week 5-6: scatter-plot of Temperature vs Summons Number, Regplot of Temperature vs Summons Number, Parabolic Regplot of Temperature vs Summons Number, full Violinplot and Violinplot of 10% random sample of the data (Vehicle Color vs Vehicle Age) with each violin colored accordingly (black, white, grey, red, green, blue)."
   ]
  },
  {
   "cell_type": "code",
   "execution_count": 288,
   "id": "b5707d01-323b-4dc8-8e62-0b3f6911f53f",
   "metadata": {
    "tags": []
   },
   "outputs": [],
   "source": [
    "from matplotlib import pyplot as plt\n",
    "import seaborn as sns\n",
    "\n",
    "# nyc_data = dd.read_parquet('s3://nyc-parking-violations-parquet/augmented_data/')\n",
    "nyc_data = augmented_data.persist()"
   ]
  },
  {
   "cell_type": "code",
   "execution_count": 293,
   "id": "fc977257-9f2b-4dce-a429-24d9c3b03d1c",
   "metadata": {
    "tags": []
   },
   "outputs": [],
   "source": [
    "citationsAndTemps = nyc_data.groupby('Date').agg({'Summons Number': 'count',\n",
    "'Average Temperature (Celsius)': 'mean'})\n",
    "\n",
    "datapoints = citationsAndTemps.compute()"
   ]
  },
  {
   "cell_type": "markdown",
   "id": "90212f26-fa7f-4c4d-b99a-90272e8a6c0e",
   "metadata": {
    "tags": []
   },
   "source": [
    "#### Scatter plot"
   ]
  },
  {
   "cell_type": "code",
   "execution_count": 299,
   "id": "2a531e22-c124-4eb2-9ae0-4ccfd10d455e",
   "metadata": {},
   "outputs": [
    {
     "data": {
      "image/png": "[encoded data removed]",
      "text/plain": [
       "<Figure size 1000x1000 with 1 Axes>"
      ]
     },
     "metadata": {},
     "output_type": "display_data"
    }
   ],
   "source": [
    "# Plot a scatter plot of Temp vs. Number of Citations\n",
    "sns.set(style=\"whitegrid\")\n",
    "f, ax = plt.subplots(figsize=(10, 10))\n",
    "sns.despine(f, left=True, bottom=True)\n",
    "\n",
    "with ProgressBar():\n",
    "    sns.scatterplot(x=\"Average Temperature (Celsius)\", y=\"Summons Number\", data=datapoints, ax=ax)\n",
    "    plt.ylim(ymin=0)\n",
    "    plt.xlim(xmin=0)"
   ]
  },
  {
   "cell_type": "markdown",
   "id": "b2a3c2d8-5d01-4bfb-ac90-f18c02704946",
   "metadata": {
    "tags": []
   },
   "source": [
    "#### Regplot"
   ]
  },
  {
   "cell_type": "code",
   "execution_count": 301,
   "id": "4d448472-eaa0-44b8-ac1c-80df51d83527",
   "metadata": {},
   "outputs": [
    {
     "data": {
      "image/png": "[encoded data removed]",
      "text/plain": [
       "<Figure size 1000x1000 with 1 Axes>"
      ]
     },
     "metadata": {},
     "output_type": "display_data"
    }
   ],
   "source": [
    "sns.set(style=\"whitegrid\")\n",
    "f, ax = plt.subplots(figsize=(10, 10))\n",
    "sns.despine(f, left=True, bottom=True)\n",
    "\n",
    "with ProgressBar():\n",
    "    sns.regplot(x=\"Average Temperature (Celsius)\", y=\"Summons Number\", data=datapoints, ax=ax, robust=True)\n",
    "    plt.ylim(ymin=0)\n",
    "    plt.xlim(xmin=0)"
   ]
  },
  {
   "cell_type": "markdown",
   "id": "25fe8249-a900-4eda-8954-467f9e0fff33",
   "metadata": {
    "tags": []
   },
   "source": [
    "#### Parabolic Regplot"
   ]
  },
  {
   "cell_type": "code",
   "execution_count": 303,
   "id": "dd53a61a-3403-4813-ad98-2723c9599b00",
   "metadata": {},
   "outputs": [
    {
     "data": {
      "image/png": "[encoded data removed]",
      "text/plain": [
       "<Figure size 1000x1000 with 1 Axes>"
      ]
     },
     "metadata": {},
     "output_type": "display_data"
    }
   ],
   "source": [
    "# Try a non-linear fit by setting the order parameter \n",
    "# to 2 (roughly parabolic shape)\n",
    "sns.set(style=\"whitegrid\")\n",
    "f, ax = plt.subplots(figsize=(10, 10))\n",
    "sns.despine(f, left=True, bottom=True)\n",
    "\n",
    "with ProgressBar():\n",
    "    sns.regplot(x=\"Average Temperature (Celsius)\", y=\"Summons Number\", data=datapoints, ax=ax, order=2)\n",
    "    plt.ylim(ymin=0)\n",
    "    plt.xlim(xmin=0)"
   ]
  },
  {
   "cell_type": "markdown",
   "id": "af66881d-463a-4d14-8132-d8d67b4507fd",
   "metadata": {
    "tags": []
   },
   "source": [
    "#### Violin Plot"
   ]
  },
  {
   "cell_type": "code",
   "execution_count": 304,
   "id": "13d5a4e8-0152-4b66-ae7b-0ff396bdc168",
   "metadata": {},
   "outputs": [],
   "source": [
    "# nyc_data_with_vehicle_age = dd.read_parquet('nyc_data_vehicleAge', engine='pyarrow')\n",
    "\n",
    "row_filter = nyc_data_with_vehicle_age['Vehicle Color'].isin(['BLACK','WHITE','GREY','RED','GREEN','BLUE'])\n",
    "column_filter = ['Vehicle Age','Vehicle Color']\n",
    "ages_and_colors = nyc_data_with_vehicle_age[row_filter][column_filter]\n",
    "\n",
    "with ProgressBar():\n",
    "    datapoints_ages_and_colors = ages_and_colors.compute()\n",
    "\n",
    "    sample_datapoints = ages_and_colors.sample(frac=0.10).compute()"
   ]
  },
  {
   "cell_type": "code",
   "execution_count": 305,
   "id": "3dfe72d9-14f7-449c-ae25-86bc8915b9c5",
   "metadata": {},
   "outputs": [
    {
     "data": {
      "image/png": "[encoded data removed]",
      "text/plain": [
       "<Figure size 1000x1000 with 1 Axes>"
      ]
     },
     "metadata": {},
     "output_type": "display_data"
    }
   ],
   "source": [
    "# Plot a violinplot to show the distributions of \n",
    "# vehicle ages grouped by vehicle color\n",
    "sns.set(style=\"whitegrid\")\n",
    "f, ax = plt.subplots(figsize=(10, 10))\n",
    "sns.despine(f, left=True, bottom=True)\n",
    "group_order = [\"RED\", \"GREEN\", \"BLUE\", \"BLACK\", \"WHITE\",  \"GREY\"]\n",
    "\n",
    "sns.violinplot(x=\"Vehicle Color\", y=\"Vehicle Age\",  data=datapoints_ages_and_colors,\n",
    "                   order=group_order,  palette=group_order, ax=ax)"
   ]
  },
  {
   "cell_type": "markdown",
   "id": "eef24a52-3b3d-4da0-adbd-3ec5339a26fd",
   "metadata": {
    "tags": []
   },
   "source": [
    "#### Violin Plot of 10% Sample"
   ]
  },
  {
   "cell_type": "code",
   "execution_count": 306,
   "id": "a1bd83dd-a105-4445-8dd3-6ead80d41943",
   "metadata": {},
   "outputs": [
    {
     "data": {
      "image/png": "[encoded data removed]",
      "text/plain": [
       "<Figure size 1000x1000 with 1 Axes>"
      ]
     },
     "metadata": {},
     "output_type": "display_data"
    }
   ],
   "source": [
    "# Plot a violinplot of a random sample\n",
    "sns.set(style=\"whitegrid\")\n",
    "f, ax = plt.subplots(figsize=(10, 10))\n",
    "sns.despine(f, left=True, bottom=True)\n",
    "\n",
    "sns.violinplot(x=\"Vehicle Color\", y=\"Vehicle Age\", data=sample_datapoints,\n",
    "                   order=group_order, palette=group_order, ax=ax)"
   ]
  },
  {
   "cell_type": "markdown",
   "id": "3a35a441-66b7-46d2-9967-86c0f0f36828",
   "metadata": {
    "tags": []
   },
   "source": [
    "#### Side by side of Violin plots"
   ]
  },
  {
   "cell_type": "code",
   "execution_count": 324,
   "id": "fa5fddfd-72b4-4fc1-8aa3-1d2fc53b0010",
   "metadata": {},
   "outputs": [
    {
     "data": {
      "image/png": "[encoded data removed]",
      "text/plain": [
       "<Figure size 1000x500 with 2 Axes>"
      ]
     },
     "metadata": {},
     "output_type": "display_data"
    }
   ],
   "source": [
    "f, (ax1,ax2) = plt.subplots(1,2, figsize=(10,5))\n",
    "\n",
    "sns.set(style=\"whitegrid\")\n",
    "sns.despine(f, left=True, bottom=True)\n",
    "group_order = [\"RED\", \"GREEN\", \"BLUE\", \"BLACK\", \"WHITE\",  \"GREY\"]\n",
    "\n",
    "sns.violinplot(x=\"Vehicle Color\", y=\"Vehicle Age\",  data=datapoints_ages_and_colors,\n",
    "                   order=group_order,  palette=group_order, ax=ax1);\n",
    "\n",
    "sns.violinplot(x=\"Vehicle Color\", y=\"Vehicle Age\", data=sample_datapoints,\n",
    "                   order=group_order, palette=group_order, ax=ax2);"
   ]
  },
  {
   "cell_type": "code",
   "execution_count": null,
   "id": "8ef6b874-045e-4efe-bc77-890ffcd973ed",
   "metadata": {},
   "outputs": [],
   "source": []
  }
 ],
 "metadata": {
  "kernelspec": {
   "display_name": "Python 3.10.5 64-bit",
   "language": "python",
   "name": "python3"
  },
  "language_info": {
   "codemirror_mode": {
    "name": "ipython",
    "version": 3
   },
   "file_extension": ".py",
   "mimetype": "text/x-python",
   "name": "python",
   "nbconvert_exporter": "python",
   "pygments_lexer": "ipython3",
   "version": "3.10.5"
  },
  "toc-autonumbering": false,
  "vscode": {
   "interpreter": {
    "hash": "e7370f93d1d0cde622a1f8e1c04877d8463912d04d973331ad4851f04de6915a"
   }
  }
 },
 "nbformat": 4,
 "nbformat_minor": 5
}
