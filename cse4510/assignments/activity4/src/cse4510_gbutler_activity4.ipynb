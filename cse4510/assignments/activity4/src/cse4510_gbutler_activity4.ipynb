{
 "cells": [
  {
   "cell_type": "markdown",
   "metadata": {},
   "source": [
    "<div class=\"center\">\n",
    "\n",
    "### CSE4510: Activity 4\n",
    "##### Spark DataFrames with PySpark\n",
    "Grant Butler | [gbutler2020@my.fit.edu](mailto:gbutler2020@my.fit.edu) | [904.423.9358](tel:9044239358)\n",
    "</div>"
   ]
  },
  {
   "cell_type": "markdown",
   "metadata": {},
   "source": [
    "<center>\n",
    "\n",
    "##### Table of Contents:\n",
    "</center>\n",
    "\n",
    "[Obtain Dataset](#obtain-dataset)\n",
    "1. [Data Cleaning](#data-cleaning)\n",
    "    - a. [Create Spark Context](#create-spark-context)\n",
    "    - b. [Read Dataset](#read-dataset)\n",
    "    - c. [Create *Delay* Column](#create-delay-column)\n",
    "    - d. [Drop Columns and Change Schema](#drop-columns)"
   ]
  },
  {
   "cell_type": "code",
   "execution_count": 1,
   "metadata": {},
   "outputs": [],
   "source": [
    "# general imports\n",
    "from datetime import datetime\n",
    "import os"
   ]
  },
  {
   "cell_type": "markdown",
   "metadata": {},
   "source": [
    "##### Obtain Dataset <a name=\"obtain-dataset\"></a>\n",
    "\n",
    "First, I downloaded the full data set of *San Francisco Fire Calls*, totalling ~2.3GB, from [here](https://data.sfgov.org/Public-Safety/Fire-Department-Calls-for-Service/nuek-vuh3) and added it to `/data/fire_dep_calls.csv`."
   ]
  },
  {
   "cell_type": "markdown",
   "metadata": {},
   "source": [
    "##### 1. Data Cleaning <a name=\"data-cleaning\"></a>"
   ]
  },
  {
   "cell_type": "markdown",
   "metadata": {},
   "source": [
    "a. Create Spark Context <a name=\"create-spark-context\"></a>\n",
    "\n",
    "I started out by using the python module `findspark` to get pyspark into the notebook. This seems to work a lot more consistently than with the `pyspark` command from shell. Then, I created a parallelized session called \"cse4510_activity4\"."
   ]
  },
  {
   "cell_type": "code",
   "execution_count": 2,
   "metadata": {},
   "outputs": [
    {
     "name": "stdout",
     "output_type": "stream",
     "text": [
      "/usr/bin/hadoop\n"
     ]
    },
    {
     "name": "stderr",
     "output_type": "stream",
     "text": [
      "WARNING: log4j.properties is not found. HADOOP_CONF_DIR may be incomplete.\n",
      "SLF4J: Class path contains multiple SLF4J bindings.\n",
      "SLF4J: Found binding in [jar:file:/opt/apache-spark/jars/log4j-slf4j-impl-2.17.2.jar!/org/slf4j/impl/StaticLoggerBinder.class]\n",
      "SLF4J: Found binding in [jar:file:/usr/share/hadoop/common/lib/slf4j-reload4j-1.7.36.jar!/org/slf4j/impl/StaticLoggerBinder.class]\n",
      "SLF4J: See http://www.slf4j.org/codes.html#multiple_bindings for an explanation.\n",
      "SLF4J: Actual binding is of type [org.apache.logging.slf4j.Log4jLoggerFactory]\n",
      "Setting default log level to \"WARN\".\n",
      "To adjust logging level use sc.setLogLevel(newLevel). For SparkR, use setLogLevel(newLevel).\n"
     ]
    }
   ],
   "source": [
    "# using findspark instead of starting with pyspark seems to work better\n",
    "\n",
    "import findspark\n",
    "findspark.init()\n",
    "\n",
    "# importing pyspark and starting a session for the assignment\n",
    "import pyspark\n",
    "from pyspark.sql import SparkSession\n",
    "from pyspark.sql.functions import *\n",
    "\n",
    "spark = SparkSession.builder.master(\"local[*]\") \\\n",
    "            .appName(\"cse4510_activity4\") \\\n",
    "            .getOrCreate()"
   ]
  },
  {
   "cell_type": "markdown",
   "metadata": {},
   "source": [
    "b. Read Dataset <a name=\"read-dataset\"></a>\n",
    "\n",
    "Here I am reading the file in with `spark.read()` along with the following options: \n",
    "\n",
    "|    option     | value |\n",
    "| :-----------: | :---: |\n",
    "| samplingRatio |  0.1  |\n",
    "|  inferSchema  | true  |\n",
    "|    header     | true  |"
   ]
  },
  {
   "cell_type": "code",
   "execution_count": 3,
   "metadata": {},
   "outputs": [
    {
     "name": "stderr",
     "output_type": "stream",
     "text": [
      "[Stage 1:=========>                                               (4 + 20) / 24]\r"
     ]
    },
    {
     "name": "stdout",
     "output_type": "stream",
     "text": [
      "root\n",
      " |-- Call Number: integer (nullable = true)\n",
      " |-- Unit ID: string (nullable = true)\n",
      " |-- Incident Number: integer (nullable = true)\n",
      " |-- Call Type: string (nullable = true)\n",
      " |-- Call Date: string (nullable = true)\n",
      " |-- Watch Date: string (nullable = true)\n",
      " |-- Received DtTm: string (nullable = true)\n",
      " |-- Entry DtTm: string (nullable = true)\n",
      " |-- Dispatch DtTm: string (nullable = true)\n",
      " |-- Response DtTm: string (nullable = true)\n",
      " |-- On Scene DtTm: string (nullable = true)\n",
      " |-- Transport DtTm: string (nullable = true)\n",
      " |-- Hospital DtTm: string (nullable = true)\n",
      " |-- Call Final Disposition: string (nullable = true)\n",
      " |-- Available DtTm: string (nullable = true)\n",
      " |-- Address: string (nullable = true)\n",
      " |-- City: string (nullable = true)\n",
      " |-- Zipcode of Incident: integer (nullable = true)\n",
      " |-- Battalion: string (nullable = true)\n",
      " |-- Station Area: string (nullable = true)\n",
      " |-- Box: string (nullable = true)\n",
      " |-- Original Priority: string (nullable = true)\n",
      " |-- Priority: string (nullable = true)\n",
      " |-- Final Priority: integer (nullable = true)\n",
      " |-- ALS Unit: boolean (nullable = true)\n",
      " |-- Call Type Group: string (nullable = true)\n",
      " |-- Number of Alarms: integer (nullable = true)\n",
      " |-- Unit Type: string (nullable = true)\n",
      " |-- Unit sequence in call dispatch: integer (nullable = true)\n",
      " |-- Fire Prevention District: string (nullable = true)\n",
      " |-- Supervisor District: string (nullable = true)\n",
      " |-- Neighborhooods - Analysis Boundaries: string (nullable = true)\n",
      " |-- RowID: string (nullable = true)\n",
      " |-- case_location: string (nullable = true)\n",
      " |-- Analysis Neighborhoods: integer (nullable = true)\n",
      "\n"
     ]
    },
    {
     "name": "stderr",
     "output_type": "stream",
     "text": [
      "                                                                                \r"
     ]
    }
   ],
   "source": [
    "# opening the data in spark\n",
    "fire_data = spark\\\n",
    "        .read \\\n",
    "        .option(\"samplingRatio\", \"0.1\") \\\n",
    "        .option(\"inferSchema\", \"true\") \\\n",
    "        .option(\"header\", \"true\") \\\n",
    "        .csv(\"data/fire_dep_calls.csv\")\n",
    "\n",
    "# printing schema\n",
    "fire_data.printSchema()"
   ]
  },
  {
   "cell_type": "markdown",
   "metadata": {},
   "source": [
    "c. Create *Delay* Column <a name=\"create-delay-column\"></a>\n",
    "\n",
    "Here, I selected the two columns `Response DtTm` and `Received DtTm`, converted their string information to be a datetime object, and subtracted them to give the delay in seconds in a `datetime.datetime` object, dividing by 60, and rounding to 2DP. Then, I filtered into another Spark DF with `Call Number == 203350320`, and printed the output.\n",
    "\n",
    "<sub>*Note: I was sandboxing with the commented code until I figured it out with the final code.*</sub>"
   ]
  },
  {
   "cell_type": "code",
   "execution_count": 6,
   "metadata": {},
   "outputs": [
    {
     "name": "stdout",
     "output_type": "stream",
     "text": [
      "+-----------+--------------------+--------------------+-----+\n",
      "|Call Number|       Response DtTm|       Received DtTm|Delay|\n",
      "+-----------+--------------------+--------------------+-----+\n",
      "|  203350320|11/30/2020 06:24:...|11/30/2020 06:21:...| 2.85|\n",
      "|  203350320|                null|11/30/2020 06:21:...| null|\n",
      "|  203350320|                null|11/30/2020 06:21:...| null|\n",
      "|  203350320|11/30/2020 06:23:...|11/30/2020 06:21:...|  2.7|\n",
      "|  203350320|11/30/2020 06:22:...|11/30/2020 06:21:...| 1.52|\n",
      "+-----------+--------------------+--------------------+-----+\n",
      "\n"
     ]
    }
   ],
   "source": [
    "from pyspark.sql.types import DoubleType, DateType, LongType\n",
    "\n",
    "# # getting the rows\n",
    "# response_dttm = fire_data.select('Response DtTm')\n",
    "# received_dttm = fire_data.select('Received DtTm')\n",
    "\n",
    "# # fixing time format\n",
    "# response_dttm = response_dttm.withColumn('Response DtTm', to_timestamp('Response DtTm', 'MM/dd/yyyy hh:mm:ss a'))\n",
    "# received_dttm = received_dttm.withColumn('Received DtTm', to_timestamp('Received DtTm', 'MM/dd/yyyy hh:mm:ss a'))\n",
    "\n",
    "# # helper function to subtract and return time in minutes\n",
    "# def get_delay_in_min(time_a: datetime, time_b: datetime):\n",
    "#     difference = (time_a - time_b)\n",
    "#     return int(difference)\n",
    "\n",
    "# with_delay = fire_data.withColumn('Received DtTm', to_timestamp('Received DtTm', 'MM/dd/yyyy hh:mm:ss a'))\n",
    "# with_delay = with_delay.withColumn('Response DtTm', to_timestamp('Response DtTm', 'MM/dd/yyyy hh:mm:ss a'))\n",
    "\n",
    "\n",
    "# with_delay = with_delay.withColumn('Delay', \n",
    "#              round(((with_delay['Response DtTm']\n",
    "#              .cast(\"long\")\n",
    "#              - with_delay['Received DtTm']\n",
    "#              .cast(\"long\")) /60, 2)))\n",
    "\n",
    "\n",
    "date_format = 'MM/dd/yyyy hh:mm:ss a'\n",
    "\n",
    "fire_data = fire_data.withColumn('Delay',\n",
    "            round((to_timestamp(col('Response DtTm'), date_format).cast('long')\n",
    "            - to_timestamp(col('Received DtTm'), date_format).cast('long'))\n",
    "            /60, 2))\n",
    "\n",
    "spec_call = fire_data.filter(col('Call Number') == 203350320)\n",
    "\n",
    "spec_call.select(col('Call Number'), col('Response DtTm'), col('Received DtTm'), col('Delay')).show()"
   ]
  },
  {
   "cell_type": "markdown",
   "metadata": {},
   "source": [
    "##### d. Drop Columns and Arrange Schema <a name=\"drop-columns\"></a>"
   ]
  },
  {
   "cell_type": "code",
   "execution_count": null,
   "metadata": {},
   "outputs": [],
   "source": []
  }
 ],
 "metadata": {
  "kernelspec": {
   "display_name": "Python 3 (ipykernel)",
   "language": "python",
   "name": "python3"
  },
  "language_info": {
   "codemirror_mode": {
    "name": "ipython",
    "version": 3
   },
   "file_extension": ".py",
   "mimetype": "text/x-python",
   "name": "python",
   "nbconvert_exporter": "python",
   "pygments_lexer": "ipython3",
   "version": "3.10.8"
  },
  "vscode": {
   "interpreter": {
    "hash": "767d51c1340bd893661ea55ea3124f6de3c7a262a8b4abca0554b478b1e2ff90"
   }
  }
 },
 "nbformat": 4,
 "nbformat_minor": 2
}
